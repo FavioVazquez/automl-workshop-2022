{
 "cells": [
  {
   "cell_type": "markdown",
   "source": [
    "# AutoML con Auto-Keras\n",
    "\n",
    "![](https://2.bp.blogspot.com/-MXSy_I9M6nI/W9cx1LsFKRI/AAAAAAAADdc/HSFi3QnzgNwv5ovScFkLKUT9vyhAqVu2QCLcBGAs/s1600/image1.gif)"
   ],
   "metadata": {
    "collapsed": false,
    "pycharm": {
     "name": "#%% md\n"
    }
   }
  },
  {
   "cell_type": "code",
   "execution_count": 1,
   "outputs": [
    {
     "name": "stdout",
     "output_type": "stream",
     "text": [
      "Collecting git+https://github.com/keras-team/keras-tuner.git\r\n",
      "  Cloning https://github.com/keras-team/keras-tuner.git to /private/var/folders/fk/wgqmzjm522921ms9wlrpvm800000gn/T/pip-req-build-5a95_4r7\r\n",
      "  Running command git clone -q https://github.com/keras-team/keras-tuner.git /private/var/folders/fk/wgqmzjm522921ms9wlrpvm800000gn/T/pip-req-build-5a95_4r7\r\n",
      "  Resolved https://github.com/keras-team/keras-tuner.git to commit 820e1a6752cf2561b3118a9faedb2a498f5c6b8e\r\n",
      "Requirement already satisfied: packaging in /Users/fvazquez/.conda/envs/pythonProject/lib/python3.9/site-packages (from keras-tuner==1.1.4.dev0) (21.3)\r\n",
      "Requirement already satisfied: numpy in /Users/fvazquez/.conda/envs/pythonProject/lib/python3.9/site-packages (from keras-tuner==1.1.4.dev0) (1.21.5)\r\n",
      "Requirement already satisfied: requests in /Users/fvazquez/.conda/envs/pythonProject/lib/python3.9/site-packages (from keras-tuner==1.1.4.dev0) (2.27.1)\r\n",
      "Collecting tensorboard\r\n",
      "  Downloading tensorboard-2.10.0-py3-none-any.whl (5.9 MB)\r\n",
      "\u001B[K     |████████████████████████████████| 5.9 MB 2.0 MB/s eta 0:00:01\r\n",
      "\u001B[?25hRequirement already satisfied: ipython in /Users/fvazquez/.conda/envs/pythonProject/lib/python3.9/site-packages (from keras-tuner==1.1.4.dev0) (8.3.0)\r\n",
      "Collecting kt-legacy\r\n",
      "  Downloading kt_legacy-1.0.4-py3-none-any.whl (9.6 kB)\r\n",
      "Requirement already satisfied: backcall in /Users/fvazquez/.conda/envs/pythonProject/lib/python3.9/site-packages (from ipython->keras-tuner==1.1.4.dev0) (0.2.0)\r\n",
      "Requirement already satisfied: matplotlib-inline in /Users/fvazquez/.conda/envs/pythonProject/lib/python3.9/site-packages (from ipython->keras-tuner==1.1.4.dev0) (0.1.2)\r\n",
      "Requirement already satisfied: prompt-toolkit!=3.0.0,!=3.0.1,<3.1.0,>=2.0.0 in /Users/fvazquez/.conda/envs/pythonProject/lib/python3.9/site-packages (from ipython->keras-tuner==1.1.4.dev0) (3.0.20)\r\n",
      "Requirement already satisfied: traitlets>=5 in /Users/fvazquez/.conda/envs/pythonProject/lib/python3.9/site-packages (from ipython->keras-tuner==1.1.4.dev0) (5.1.1)\r\n",
      "Requirement already satisfied: pygments>=2.4.0 in /Users/fvazquez/.conda/envs/pythonProject/lib/python3.9/site-packages (from ipython->keras-tuner==1.1.4.dev0) (2.11.2)\r\n",
      "Requirement already satisfied: stack-data in /Users/fvazquez/.conda/envs/pythonProject/lib/python3.9/site-packages (from ipython->keras-tuner==1.1.4.dev0) (0.2.0)\r\n",
      "Requirement already satisfied: setuptools>=18.5 in /Users/fvazquez/.conda/envs/pythonProject/lib/python3.9/site-packages (from ipython->keras-tuner==1.1.4.dev0) (61.2.0)\r\n",
      "Requirement already satisfied: decorator in /Users/fvazquez/.conda/envs/pythonProject/lib/python3.9/site-packages (from ipython->keras-tuner==1.1.4.dev0) (5.1.1)\r\n",
      "Requirement already satisfied: appnope in /Users/fvazquez/.conda/envs/pythonProject/lib/python3.9/site-packages (from ipython->keras-tuner==1.1.4.dev0) (0.1.2)\r\n",
      "Requirement already satisfied: pickleshare in /Users/fvazquez/.conda/envs/pythonProject/lib/python3.9/site-packages (from ipython->keras-tuner==1.1.4.dev0) (0.7.5)\r\n",
      "Requirement already satisfied: pexpect>4.3 in /Users/fvazquez/.conda/envs/pythonProject/lib/python3.9/site-packages (from ipython->keras-tuner==1.1.4.dev0) (4.8.0)\r\n",
      "Requirement already satisfied: jedi>=0.16 in /Users/fvazquez/.conda/envs/pythonProject/lib/python3.9/site-packages (from ipython->keras-tuner==1.1.4.dev0) (0.18.1)\r\n",
      "Requirement already satisfied: parso<0.9.0,>=0.8.0 in /Users/fvazquez/.conda/envs/pythonProject/lib/python3.9/site-packages (from jedi>=0.16->ipython->keras-tuner==1.1.4.dev0) (0.8.3)\r\n",
      "Requirement already satisfied: ptyprocess>=0.5 in /Users/fvazquez/.conda/envs/pythonProject/lib/python3.9/site-packages (from pexpect>4.3->ipython->keras-tuner==1.1.4.dev0) (0.7.0)\r\n",
      "Requirement already satisfied: wcwidth in /Users/fvazquez/.conda/envs/pythonProject/lib/python3.9/site-packages (from prompt-toolkit!=3.0.0,!=3.0.1,<3.1.0,>=2.0.0->ipython->keras-tuner==1.1.4.dev0) (0.2.5)\r\n",
      "Requirement already satisfied: pyparsing!=3.0.5,>=2.0.2 in /Users/fvazquez/.conda/envs/pythonProject/lib/python3.9/site-packages (from packaging->keras-tuner==1.1.4.dev0) (3.0.4)\r\n",
      "Requirement already satisfied: urllib3<1.27,>=1.21.1 in /Users/fvazquez/.conda/envs/pythonProject/lib/python3.9/site-packages (from requests->keras-tuner==1.1.4.dev0) (1.26.9)\r\n",
      "Requirement already satisfied: idna<4,>=2.5 in /Users/fvazquez/.conda/envs/pythonProject/lib/python3.9/site-packages (from requests->keras-tuner==1.1.4.dev0) (3.3)\r\n",
      "Requirement already satisfied: certifi>=2017.4.17 in /Users/fvazquez/.conda/envs/pythonProject/lib/python3.9/site-packages (from requests->keras-tuner==1.1.4.dev0) (2022.6.15)\r\n",
      "Requirement already satisfied: charset-normalizer~=2.0.0 in /Users/fvazquez/.conda/envs/pythonProject/lib/python3.9/site-packages (from requests->keras-tuner==1.1.4.dev0) (2.0.4)\r\n",
      "Requirement already satisfied: executing in /Users/fvazquez/.conda/envs/pythonProject/lib/python3.9/site-packages (from stack-data->ipython->keras-tuner==1.1.4.dev0) (0.8.3)\r\n",
      "Requirement already satisfied: pure-eval in /Users/fvazquez/.conda/envs/pythonProject/lib/python3.9/site-packages (from stack-data->ipython->keras-tuner==1.1.4.dev0) (0.2.2)\r\n",
      "Requirement already satisfied: asttokens in /Users/fvazquez/.conda/envs/pythonProject/lib/python3.9/site-packages (from stack-data->ipython->keras-tuner==1.1.4.dev0) (2.0.5)\r\n",
      "Requirement already satisfied: six in /Users/fvazquez/.conda/envs/pythonProject/lib/python3.9/site-packages (from asttokens->stack-data->ipython->keras-tuner==1.1.4.dev0) (1.16.0)\r\n",
      "Collecting google-auth-oauthlib<0.5,>=0.4.1\r\n",
      "  Using cached google_auth_oauthlib-0.4.6-py2.py3-none-any.whl (18 kB)\r\n",
      "Collecting tensorboard-data-server<0.7.0,>=0.6.0\r\n",
      "  Using cached tensorboard_data_server-0.6.1-py3-none-macosx_10_9_x86_64.whl (3.5 MB)\r\n",
      "Collecting absl-py>=0.4\r\n",
      "  Downloading absl_py-1.2.0-py3-none-any.whl (123 kB)\r\n",
      "\u001B[K     |████████████████████████████████| 123 kB 19.6 MB/s eta 0:00:01\r\n",
      "\u001B[?25hCollecting tensorboard-plugin-wit>=1.6.0\r\n",
      "  Using cached tensorboard_plugin_wit-1.8.1-py3-none-any.whl (781 kB)\r\n",
      "Collecting grpcio>=1.24.3\r\n",
      "  Downloading grpcio-1.47.0-cp39-cp39-macosx_10_10_x86_64.whl (4.4 MB)\r\n",
      "\u001B[K     |████████████████████████████████| 4.4 MB 53.1 MB/s eta 0:00:01\r\n",
      "\u001B[?25hCollecting protobuf<3.20,>=3.9.2\r\n",
      "  Downloading protobuf-3.19.4-cp39-cp39-macosx_10_9_x86_64.whl (961 kB)\r\n",
      "\u001B[K     |████████████████████████████████| 961 kB 16.3 MB/s eta 0:00:01\r\n",
      "\u001B[?25hCollecting werkzeug>=1.0.1\r\n",
      "  Downloading Werkzeug-2.2.2-py3-none-any.whl (232 kB)\r\n",
      "\u001B[K     |████████████████████████████████| 232 kB 22.0 MB/s eta 0:00:01\r\n",
      "\u001B[?25hRequirement already satisfied: wheel>=0.26 in /Users/fvazquez/.conda/envs/pythonProject/lib/python3.9/site-packages (from tensorboard->keras-tuner==1.1.4.dev0) (0.37.1)\r\n",
      "Collecting markdown>=2.6.8\r\n",
      "  Downloading Markdown-3.4.1-py3-none-any.whl (93 kB)\r\n",
      "\u001B[K     |████████████████████████████████| 93 kB 1.9 MB/s  eta 0:00:01\r\n",
      "\u001B[?25hCollecting google-auth<3,>=1.6.3\r\n",
      "  Downloading google_auth-2.11.0-py2.py3-none-any.whl (167 kB)\r\n",
      "\u001B[K     |████████████████████████████████| 167 kB 31.3 MB/s eta 0:00:01\r\n",
      "\u001B[?25hCollecting cachetools<6.0,>=2.0.0\r\n",
      "  Downloading cachetools-5.2.0-py3-none-any.whl (9.3 kB)\r\n",
      "Collecting pyasn1-modules>=0.2.1\r\n",
      "  Using cached pyasn1_modules-0.2.8-py2.py3-none-any.whl (155 kB)\r\n",
      "Collecting rsa<5,>=3.1.4\r\n",
      "  Downloading rsa-4.9-py3-none-any.whl (34 kB)\r\n",
      "Collecting requests-oauthlib>=0.7.0\r\n",
      "  Downloading requests_oauthlib-1.3.1-py2.py3-none-any.whl (23 kB)\r\n",
      "Collecting importlib-metadata>=4.4\r\n",
      "  Downloading importlib_metadata-4.12.0-py3-none-any.whl (21 kB)\r\n",
      "Collecting zipp>=0.5\r\n",
      "  Downloading zipp-3.8.1-py3-none-any.whl (5.6 kB)\r\n",
      "Collecting pyasn1<0.5.0,>=0.4.6\r\n",
      "  Using cached pyasn1-0.4.8-py2.py3-none-any.whl (77 kB)\r\n",
      "Collecting oauthlib>=3.0.0\r\n",
      "  Downloading oauthlib-3.2.0-py3-none-any.whl (151 kB)\r\n",
      "\u001B[K     |████████████████████████████████| 151 kB 16.2 MB/s eta 0:00:01\r\n",
      "\u001B[?25hRequirement already satisfied: MarkupSafe>=2.1.1 in /Users/fvazquez/.conda/envs/pythonProject/lib/python3.9/site-packages (from werkzeug>=1.0.1->tensorboard->keras-tuner==1.1.4.dev0) (2.1.1)\r\n",
      "Building wheels for collected packages: keras-tuner\r\n",
      "  Building wheel for keras-tuner (setup.py) ... \u001B[?25ldone\r\n",
      "\u001B[?25h  Created wheel for keras-tuner: filename=keras_tuner-1.1.4.dev0-py3-none-any.whl size=136216 sha256=8cdf32facaf3e1abd52e12abaf53f8d3e1d1ceef11ef8cbaca0fe9e82262fcb7\r\n",
      "  Stored in directory: /private/var/folders/fk/wgqmzjm522921ms9wlrpvm800000gn/T/pip-ephem-wheel-cache-kfedcghp/wheels/4a/30/da/29373541ae2fcd919cd8763ca501ac4c280c8024c2e38a10ed\r\n",
      "Successfully built keras-tuner\r\n",
      "Installing collected packages: pyasn1, zipp, rsa, pyasn1-modules, oauthlib, cachetools, requests-oauthlib, importlib-metadata, google-auth, werkzeug, tensorboard-plugin-wit, tensorboard-data-server, protobuf, markdown, grpcio, google-auth-oauthlib, absl-py, tensorboard, kt-legacy, keras-tuner\r\n",
      "Successfully installed absl-py-1.2.0 cachetools-5.2.0 google-auth-2.11.0 google-auth-oauthlib-0.4.6 grpcio-1.47.0 importlib-metadata-4.12.0 keras-tuner-1.1.4.dev0 kt-legacy-1.0.4 markdown-3.4.1 oauthlib-3.2.0 protobuf-3.19.4 pyasn1-0.4.8 pyasn1-modules-0.2.8 requests-oauthlib-1.3.1 rsa-4.9 tensorboard-2.10.0 tensorboard-data-server-0.6.1 tensorboard-plugin-wit-1.8.1 werkzeug-2.2.2 zipp-3.8.1\r\n",
      "Collecting autokeras\r\n",
      "  Downloading autokeras-1.0.19-py3-none-any.whl (162 kB)\r\n",
      "\u001B[K     |████████████████████████████████| 162 kB 1.9 MB/s eta 0:00:01\r\n",
      "\u001B[?25hRequirement already satisfied: packaging in /Users/fvazquez/.conda/envs/pythonProject/lib/python3.9/site-packages (from autokeras) (21.3)\r\n",
      "Collecting tensorflow>=2.8.0\r\n",
      "  Downloading tensorflow-2.9.1-cp39-cp39-macosx_10_14_x86_64.whl (228.5 MB)\r\n",
      "\u001B[K     |████████████████████████████████| 228.5 MB 21.2 MB/s eta 0:00:01   |▏                               | 849 kB 13.2 MB/s eta 0:00:18     |█                               | 6.7 MB 13.2 MB/s eta 0:00:17     |███▎                            | 23.4 MB 13.2 MB/s eta 0:00:16     |████▊                           | 33.7 MB 49.1 MB/s eta 0:00:04     |██████▊                         | 48.2 MB 49.1 MB/s eta 0:00:04     |█████████▊                      | 69.3 MB 20.4 MB/s eta 0:00:08     |██████████                      | 71.8 MB 20.4 MB/s eta 0:00:08     |████████████                    | 85.3 MB 11.5 MB/s eta 0:00:13     |██████████████████▊             | 133.8 MB 21.8 MB/s eta 0:00:05     |███████████████████████▏        | 165.3 MB 3.2 MB/s eta 0:00:20     |████████████████████████████    | 199.3 MB 12.1 MB/s eta 0:00:03\r\n",
      "\u001B[?25hRequirement already satisfied: pandas in /Users/fvazquez/.conda/envs/pythonProject/lib/python3.9/site-packages (from autokeras) (1.4.2)\r\n",
      "Requirement already satisfied: keras-tuner>=1.1.0 in /Users/fvazquez/.conda/envs/pythonProject/lib/python3.9/site-packages (from autokeras) (1.1.4.dev0)\r\n",
      "Requirement already satisfied: ipython in /Users/fvazquez/.conda/envs/pythonProject/lib/python3.9/site-packages (from keras-tuner>=1.1.0->autokeras) (8.3.0)\r\n",
      "Requirement already satisfied: tensorboard in /Users/fvazquez/.conda/envs/pythonProject/lib/python3.9/site-packages (from keras-tuner>=1.1.0->autokeras) (2.10.0)\r\n",
      "Requirement already satisfied: numpy in /Users/fvazquez/.conda/envs/pythonProject/lib/python3.9/site-packages (from keras-tuner>=1.1.0->autokeras) (1.21.5)\r\n",
      "Requirement already satisfied: requests in /Users/fvazquez/.conda/envs/pythonProject/lib/python3.9/site-packages (from keras-tuner>=1.1.0->autokeras) (2.27.1)\r\n",
      "Requirement already satisfied: kt-legacy in /Users/fvazquez/.conda/envs/pythonProject/lib/python3.9/site-packages (from keras-tuner>=1.1.0->autokeras) (1.0.4)\r\n",
      "Requirement already satisfied: setuptools in /Users/fvazquez/.conda/envs/pythonProject/lib/python3.9/site-packages (from tensorflow>=2.8.0->autokeras) (61.2.0)\r\n",
      "Collecting flatbuffers<2,>=1.12\r\n",
      "  Downloading flatbuffers-1.12-py2.py3-none-any.whl (15 kB)\r\n",
      "Requirement already satisfied: grpcio<2.0,>=1.24.3 in /Users/fvazquez/.conda/envs/pythonProject/lib/python3.9/site-packages (from tensorflow>=2.8.0->autokeras) (1.47.0)\r\n",
      "Requirement already satisfied: absl-py>=1.0.0 in /Users/fvazquez/.conda/envs/pythonProject/lib/python3.9/site-packages (from tensorflow>=2.8.0->autokeras) (1.2.0)\r\n",
      "Collecting h5py>=2.9.0\r\n",
      "  Downloading h5py-3.7.0-cp39-cp39-macosx_10_9_x86_64.whl (3.2 MB)\r\n",
      "\u001B[K     |████████████████████████████████| 3.2 MB 25.7 MB/s eta 0:00:01\r\n",
      "\u001B[?25hCollecting gast<=0.4.0,>=0.2.1\r\n",
      "  Using cached gast-0.4.0-py3-none-any.whl (9.8 kB)\r\n",
      "Collecting keras-preprocessing>=1.1.1\r\n",
      "  Using cached Keras_Preprocessing-1.1.2-py2.py3-none-any.whl (42 kB)\r\n",
      "Collecting libclang>=13.0.0\r\n",
      "  Downloading libclang-14.0.6-py2.py3-none-macosx_10_9_x86_64.whl (13.2 MB)\r\n",
      "\u001B[K     |████████████████████████████████| 13.2 MB 22.7 MB/s eta 0:00:01    |█████▊                          | 2.4 MB 22.7 MB/s eta 0:00:01     |████████▎                       | 3.4 MB 22.7 MB/s eta 0:00:01\r\n",
      "\u001B[?25hRequirement already satisfied: protobuf<3.20,>=3.9.2 in /Users/fvazquez/.conda/envs/pythonProject/lib/python3.9/site-packages (from tensorflow>=2.8.0->autokeras) (3.19.4)\r\n",
      "Collecting astunparse>=1.6.0\r\n",
      "  Using cached astunparse-1.6.3-py2.py3-none-any.whl (12 kB)\r\n",
      "Collecting wrapt>=1.11.0\r\n",
      "  Downloading wrapt-1.14.1-cp39-cp39-macosx_10_9_x86_64.whl (35 kB)\r\n",
      "Collecting keras<2.10.0,>=2.9.0rc0\r\n",
      "  Downloading keras-2.9.0-py2.py3-none-any.whl (1.6 MB)\r\n",
      "\u001B[K     |████████████████████████████████| 1.6 MB 27.9 MB/s eta 0:00:01\r\n",
      "\u001B[?25hCollecting google-pasta>=0.1.1\r\n",
      "  Using cached google_pasta-0.2.0-py3-none-any.whl (57 kB)\r\n",
      "Collecting tensorflow-estimator<2.10.0,>=2.9.0rc0\r\n",
      "  Downloading tensorflow_estimator-2.9.0-py2.py3-none-any.whl (438 kB)\r\n",
      "\u001B[K     |████████████████████████████████| 438 kB 29.3 MB/s eta 0:00:01\r\n",
      "\u001B[?25hCollecting termcolor>=1.1.0\r\n",
      "  Using cached termcolor-1.1.0.tar.gz (3.9 kB)\r\n",
      "Collecting opt-einsum>=2.3.2\r\n",
      "  Using cached opt_einsum-3.3.0-py3-none-any.whl (65 kB)\r\n",
      "Collecting tensorboard\r\n",
      "  Downloading tensorboard-2.9.1-py3-none-any.whl (5.8 MB)\r\n",
      "\u001B[K     |████████████████████████████████| 5.8 MB 16.8 MB/s eta 0:00:01     |█████████████████████████▌      | 4.6 MB 16.8 MB/s eta 0:00:01\r\n",
      "\u001B[?25hRequirement already satisfied: six>=1.12.0 in /Users/fvazquez/.conda/envs/pythonProject/lib/python3.9/site-packages (from tensorflow>=2.8.0->autokeras) (1.16.0)\r\n",
      "Collecting tensorflow-io-gcs-filesystem>=0.23.1\r\n",
      "  Downloading tensorflow_io_gcs_filesystem-0.26.0-cp39-cp39-macosx_10_14_x86_64.whl (1.6 MB)\r\n",
      "\u001B[K     |████████████████████████████████| 1.6 MB 27.9 MB/s eta 0:00:01\r\n",
      "\u001B[?25hRequirement already satisfied: typing-extensions>=3.6.6 in /Users/fvazquez/.conda/envs/pythonProject/lib/python3.9/site-packages (from tensorflow>=2.8.0->autokeras) (4.1.1)\r\n",
      "Requirement already satisfied: wheel<1.0,>=0.23.0 in /Users/fvazquez/.conda/envs/pythonProject/lib/python3.9/site-packages (from astunparse>=1.6.0->tensorflow>=2.8.0->autokeras) (0.37.1)\r\n",
      "Requirement already satisfied: tensorboard-data-server<0.7.0,>=0.6.0 in /Users/fvazquez/.conda/envs/pythonProject/lib/python3.9/site-packages (from tensorboard->keras-tuner>=1.1.0->autokeras) (0.6.1)\r\n",
      "Requirement already satisfied: tensorboard-plugin-wit>=1.6.0 in /Users/fvazquez/.conda/envs/pythonProject/lib/python3.9/site-packages (from tensorboard->keras-tuner>=1.1.0->autokeras) (1.8.1)\r\n",
      "Requirement already satisfied: google-auth<3,>=1.6.3 in /Users/fvazquez/.conda/envs/pythonProject/lib/python3.9/site-packages (from tensorboard->keras-tuner>=1.1.0->autokeras) (2.11.0)\r\n",
      "Requirement already satisfied: markdown>=2.6.8 in /Users/fvazquez/.conda/envs/pythonProject/lib/python3.9/site-packages (from tensorboard->keras-tuner>=1.1.0->autokeras) (3.4.1)\r\n",
      "Requirement already satisfied: google-auth-oauthlib<0.5,>=0.4.1 in /Users/fvazquez/.conda/envs/pythonProject/lib/python3.9/site-packages (from tensorboard->keras-tuner>=1.1.0->autokeras) (0.4.6)\r\n",
      "Requirement already satisfied: werkzeug>=1.0.1 in /Users/fvazquez/.conda/envs/pythonProject/lib/python3.9/site-packages (from tensorboard->keras-tuner>=1.1.0->autokeras) (2.2.2)\r\n",
      "Requirement already satisfied: rsa<5,>=3.1.4 in /Users/fvazquez/.conda/envs/pythonProject/lib/python3.9/site-packages (from google-auth<3,>=1.6.3->tensorboard->keras-tuner>=1.1.0->autokeras) (4.9)\r\n",
      "Requirement already satisfied: pyasn1-modules>=0.2.1 in /Users/fvazquez/.conda/envs/pythonProject/lib/python3.9/site-packages (from google-auth<3,>=1.6.3->tensorboard->keras-tuner>=1.1.0->autokeras) (0.2.8)\r\n",
      "Requirement already satisfied: cachetools<6.0,>=2.0.0 in /Users/fvazquez/.conda/envs/pythonProject/lib/python3.9/site-packages (from google-auth<3,>=1.6.3->tensorboard->keras-tuner>=1.1.0->autokeras) (5.2.0)\r\n",
      "Requirement already satisfied: requests-oauthlib>=0.7.0 in /Users/fvazquez/.conda/envs/pythonProject/lib/python3.9/site-packages (from google-auth-oauthlib<0.5,>=0.4.1->tensorboard->keras-tuner>=1.1.0->autokeras) (1.3.1)\r\n",
      "Requirement already satisfied: importlib-metadata>=4.4 in /Users/fvazquez/.conda/envs/pythonProject/lib/python3.9/site-packages (from markdown>=2.6.8->tensorboard->keras-tuner>=1.1.0->autokeras) (4.12.0)\r\n",
      "Requirement already satisfied: zipp>=0.5 in /Users/fvazquez/.conda/envs/pythonProject/lib/python3.9/site-packages (from importlib-metadata>=4.4->markdown>=2.6.8->tensorboard->keras-tuner>=1.1.0->autokeras) (3.8.1)\r\n",
      "Requirement already satisfied: pyasn1<0.5.0,>=0.4.6 in /Users/fvazquez/.conda/envs/pythonProject/lib/python3.9/site-packages (from pyasn1-modules>=0.2.1->google-auth<3,>=1.6.3->tensorboard->keras-tuner>=1.1.0->autokeras) (0.4.8)\r\n",
      "Requirement already satisfied: certifi>=2017.4.17 in /Users/fvazquez/.conda/envs/pythonProject/lib/python3.9/site-packages (from requests->keras-tuner>=1.1.0->autokeras) (2022.6.15)\r\n",
      "Requirement already satisfied: charset-normalizer~=2.0.0 in /Users/fvazquez/.conda/envs/pythonProject/lib/python3.9/site-packages (from requests->keras-tuner>=1.1.0->autokeras) (2.0.4)\r\n",
      "Requirement already satisfied: idna<4,>=2.5 in /Users/fvazquez/.conda/envs/pythonProject/lib/python3.9/site-packages (from requests->keras-tuner>=1.1.0->autokeras) (3.3)\r\n",
      "Requirement already satisfied: urllib3<1.27,>=1.21.1 in /Users/fvazquez/.conda/envs/pythonProject/lib/python3.9/site-packages (from requests->keras-tuner>=1.1.0->autokeras) (1.26.9)\r\n",
      "Requirement already satisfied: oauthlib>=3.0.0 in /Users/fvazquez/.conda/envs/pythonProject/lib/python3.9/site-packages (from requests-oauthlib>=0.7.0->google-auth-oauthlib<0.5,>=0.4.1->tensorboard->keras-tuner>=1.1.0->autokeras) (3.2.0)\r\n",
      "Requirement already satisfied: MarkupSafe>=2.1.1 in /Users/fvazquez/.conda/envs/pythonProject/lib/python3.9/site-packages (from werkzeug>=1.0.1->tensorboard->keras-tuner>=1.1.0->autokeras) (2.1.1)\r\n",
      "Requirement already satisfied: pickleshare in /Users/fvazquez/.conda/envs/pythonProject/lib/python3.9/site-packages (from ipython->keras-tuner>=1.1.0->autokeras) (0.7.5)\r\n",
      "Requirement already satisfied: backcall in /Users/fvazquez/.conda/envs/pythonProject/lib/python3.9/site-packages (from ipython->keras-tuner>=1.1.0->autokeras) (0.2.0)\r\n",
      "Requirement already satisfied: jedi>=0.16 in /Users/fvazquez/.conda/envs/pythonProject/lib/python3.9/site-packages (from ipython->keras-tuner>=1.1.0->autokeras) (0.18.1)\r\n",
      "Requirement already satisfied: decorator in /Users/fvazquez/.conda/envs/pythonProject/lib/python3.9/site-packages (from ipython->keras-tuner>=1.1.0->autokeras) (5.1.1)\r\n",
      "Requirement already satisfied: stack-data in /Users/fvazquez/.conda/envs/pythonProject/lib/python3.9/site-packages (from ipython->keras-tuner>=1.1.0->autokeras) (0.2.0)\r\n",
      "Requirement already satisfied: pygments>=2.4.0 in /Users/fvazquez/.conda/envs/pythonProject/lib/python3.9/site-packages (from ipython->keras-tuner>=1.1.0->autokeras) (2.11.2)\r\n",
      "Requirement already satisfied: traitlets>=5 in /Users/fvazquez/.conda/envs/pythonProject/lib/python3.9/site-packages (from ipython->keras-tuner>=1.1.0->autokeras) (5.1.1)\r\n",
      "Requirement already satisfied: prompt-toolkit!=3.0.0,!=3.0.1,<3.1.0,>=2.0.0 in /Users/fvazquez/.conda/envs/pythonProject/lib/python3.9/site-packages (from ipython->keras-tuner>=1.1.0->autokeras) (3.0.20)\r\n",
      "Requirement already satisfied: appnope in /Users/fvazquez/.conda/envs/pythonProject/lib/python3.9/site-packages (from ipython->keras-tuner>=1.1.0->autokeras) (0.1.2)\r\n",
      "Requirement already satisfied: pexpect>4.3 in /Users/fvazquez/.conda/envs/pythonProject/lib/python3.9/site-packages (from ipython->keras-tuner>=1.1.0->autokeras) (4.8.0)\r\n",
      "Requirement already satisfied: matplotlib-inline in /Users/fvazquez/.conda/envs/pythonProject/lib/python3.9/site-packages (from ipython->keras-tuner>=1.1.0->autokeras) (0.1.2)\r\n",
      "Requirement already satisfied: parso<0.9.0,>=0.8.0 in /Users/fvazquez/.conda/envs/pythonProject/lib/python3.9/site-packages (from jedi>=0.16->ipython->keras-tuner>=1.1.0->autokeras) (0.8.3)\r\n",
      "Requirement already satisfied: ptyprocess>=0.5 in /Users/fvazquez/.conda/envs/pythonProject/lib/python3.9/site-packages (from pexpect>4.3->ipython->keras-tuner>=1.1.0->autokeras) (0.7.0)\r\n",
      "Requirement already satisfied: wcwidth in /Users/fvazquez/.conda/envs/pythonProject/lib/python3.9/site-packages (from prompt-toolkit!=3.0.0,!=3.0.1,<3.1.0,>=2.0.0->ipython->keras-tuner>=1.1.0->autokeras) (0.2.5)\r\n",
      "Requirement already satisfied: pyparsing!=3.0.5,>=2.0.2 in /Users/fvazquez/.conda/envs/pythonProject/lib/python3.9/site-packages (from packaging->autokeras) (3.0.4)\r\n",
      "Requirement already satisfied: python-dateutil>=2.8.1 in /Users/fvazquez/.conda/envs/pythonProject/lib/python3.9/site-packages (from pandas->autokeras) (2.8.2)\r\n",
      "Requirement already satisfied: pytz>=2020.1 in /Users/fvazquez/.conda/envs/pythonProject/lib/python3.9/site-packages (from pandas->autokeras) (2022.1)\r\n",
      "Requirement already satisfied: asttokens in /Users/fvazquez/.conda/envs/pythonProject/lib/python3.9/site-packages (from stack-data->ipython->keras-tuner>=1.1.0->autokeras) (2.0.5)\r\n",
      "Requirement already satisfied: pure-eval in /Users/fvazquez/.conda/envs/pythonProject/lib/python3.9/site-packages (from stack-data->ipython->keras-tuner>=1.1.0->autokeras) (0.2.2)\r\n",
      "Requirement already satisfied: executing in /Users/fvazquez/.conda/envs/pythonProject/lib/python3.9/site-packages (from stack-data->ipython->keras-tuner>=1.1.0->autokeras) (0.8.3)\r\n",
      "Building wheels for collected packages: termcolor\r\n",
      "  Building wheel for termcolor (setup.py) ... \u001B[?25ldone\r\n",
      "\u001B[?25h  Created wheel for termcolor: filename=termcolor-1.1.0-py3-none-any.whl size=4848 sha256=572f1b52c05add1dd5b0b5a9139a756df6980bfd39dfa06c23ab6eabe74d77d9\r\n",
      "  Stored in directory: /Users/fvazquez/Library/Caches/pip/wheels/b6/0d/90/0d1bbd99855f99cb2f6c2e5ff96f8023fad8ec367695f7d72d\r\n",
      "Successfully built termcolor\r\n",
      "Installing collected packages: wrapt, termcolor, tensorflow-io-gcs-filesystem, tensorflow-estimator, tensorboard, opt-einsum, libclang, keras-preprocessing, keras, h5py, google-pasta, gast, flatbuffers, astunparse, tensorflow, autokeras\r\n",
      "  Attempting uninstall: tensorboard\r\n",
      "    Found existing installation: tensorboard 2.10.0\r\n",
      "    Uninstalling tensorboard-2.10.0:\r\n",
      "      Successfully uninstalled tensorboard-2.10.0\r\n",
      "  Attempting uninstall: keras\r\n",
      "    Found existing installation: keras 2.6.0\r\n",
      "    Uninstalling keras-2.6.0:\r\n",
      "      Successfully uninstalled keras-2.6.0\r\n",
      "Successfully installed astunparse-1.6.3 autokeras-1.0.19 flatbuffers-1.12 gast-0.4.0 google-pasta-0.2.0 h5py-3.7.0 keras-2.9.0 keras-preprocessing-1.1.2 libclang-14.0.6 opt-einsum-3.3.0 tensorboard-2.9.1 tensorflow-2.9.1 tensorflow-estimator-2.9.0 tensorflow-io-gcs-filesystem-0.26.0 termcolor-1.1.0 wrapt-1.14.1\r\n"
     ]
    }
   ],
   "source": [
    "!pip install git+https://github.com/keras-team/keras-tuner.git\n",
    "!pip install autokeras"
   ],
   "metadata": {
    "collapsed": false,
    "pycharm": {
     "name": "#%%\n"
    }
   }
  },
  {
   "cell_type": "code",
   "execution_count": 15,
   "outputs": [],
   "source": [
    "import pandas as pd\n",
    "\n",
    "# Load churn data\n",
    "churn = pd.read_csv('data/churn_data.csv')"
   ],
   "metadata": {
    "collapsed": false,
    "pycharm": {
     "name": "#%%\n"
    }
   }
  },
  {
   "cell_type": "code",
   "execution_count": 16,
   "outputs": [
    {
     "data": {
      "text/plain": "   customerID  gender  SeniorCitizen Partner Dependents  tenure PhoneService  \\\n0  7590-VHVEG  Female              0     Yes         No       1           No   \n1  5575-GNVDE    Male              0      No         No      34          Yes   \n2  3668-QPYBK    Male              0      No         No       2          Yes   \n3  7795-CFOCW    Male              0      No         No      45           No   \n4  9237-HQITU  Female              0      No         No       2          Yes   \n\n      MultipleLines InternetService OnlineSecurity  ... DeviceProtection  \\\n0  No phone service             DSL             No  ...               No   \n1                No             DSL            Yes  ...              Yes   \n2                No             DSL            Yes  ...               No   \n3  No phone service             DSL            Yes  ...              Yes   \n4                No     Fiber optic             No  ...               No   \n\n  TechSupport StreamingTV StreamingMovies        Contract PaperlessBilling  \\\n0          No          No              No  Month-to-month              Yes   \n1          No          No              No        One year               No   \n2          No          No              No  Month-to-month              Yes   \n3         Yes          No              No        One year               No   \n4          No          No              No  Month-to-month              Yes   \n\n               PaymentMethod MonthlyCharges  TotalCharges Churn  \n0           Electronic check          29.85         29.85    No  \n1               Mailed check          56.95        1889.5    No  \n2               Mailed check          53.85        108.15   Yes  \n3  Bank transfer (automatic)          42.30       1840.75    No  \n4           Electronic check          70.70        151.65   Yes  \n\n[5 rows x 21 columns]",
      "text/html": "<div>\n<style scoped>\n    .dataframe tbody tr th:only-of-type {\n        vertical-align: middle;\n    }\n\n    .dataframe tbody tr th {\n        vertical-align: top;\n    }\n\n    .dataframe thead th {\n        text-align: right;\n    }\n</style>\n<table border=\"1\" class=\"dataframe\">\n  <thead>\n    <tr style=\"text-align: right;\">\n      <th></th>\n      <th>customerID</th>\n      <th>gender</th>\n      <th>SeniorCitizen</th>\n      <th>Partner</th>\n      <th>Dependents</th>\n      <th>tenure</th>\n      <th>PhoneService</th>\n      <th>MultipleLines</th>\n      <th>InternetService</th>\n      <th>OnlineSecurity</th>\n      <th>...</th>\n      <th>DeviceProtection</th>\n      <th>TechSupport</th>\n      <th>StreamingTV</th>\n      <th>StreamingMovies</th>\n      <th>Contract</th>\n      <th>PaperlessBilling</th>\n      <th>PaymentMethod</th>\n      <th>MonthlyCharges</th>\n      <th>TotalCharges</th>\n      <th>Churn</th>\n    </tr>\n  </thead>\n  <tbody>\n    <tr>\n      <th>0</th>\n      <td>7590-VHVEG</td>\n      <td>Female</td>\n      <td>0</td>\n      <td>Yes</td>\n      <td>No</td>\n      <td>1</td>\n      <td>No</td>\n      <td>No phone service</td>\n      <td>DSL</td>\n      <td>No</td>\n      <td>...</td>\n      <td>No</td>\n      <td>No</td>\n      <td>No</td>\n      <td>No</td>\n      <td>Month-to-month</td>\n      <td>Yes</td>\n      <td>Electronic check</td>\n      <td>29.85</td>\n      <td>29.85</td>\n      <td>No</td>\n    </tr>\n    <tr>\n      <th>1</th>\n      <td>5575-GNVDE</td>\n      <td>Male</td>\n      <td>0</td>\n      <td>No</td>\n      <td>No</td>\n      <td>34</td>\n      <td>Yes</td>\n      <td>No</td>\n      <td>DSL</td>\n      <td>Yes</td>\n      <td>...</td>\n      <td>Yes</td>\n      <td>No</td>\n      <td>No</td>\n      <td>No</td>\n      <td>One year</td>\n      <td>No</td>\n      <td>Mailed check</td>\n      <td>56.95</td>\n      <td>1889.5</td>\n      <td>No</td>\n    </tr>\n    <tr>\n      <th>2</th>\n      <td>3668-QPYBK</td>\n      <td>Male</td>\n      <td>0</td>\n      <td>No</td>\n      <td>No</td>\n      <td>2</td>\n      <td>Yes</td>\n      <td>No</td>\n      <td>DSL</td>\n      <td>Yes</td>\n      <td>...</td>\n      <td>No</td>\n      <td>No</td>\n      <td>No</td>\n      <td>No</td>\n      <td>Month-to-month</td>\n      <td>Yes</td>\n      <td>Mailed check</td>\n      <td>53.85</td>\n      <td>108.15</td>\n      <td>Yes</td>\n    </tr>\n    <tr>\n      <th>3</th>\n      <td>7795-CFOCW</td>\n      <td>Male</td>\n      <td>0</td>\n      <td>No</td>\n      <td>No</td>\n      <td>45</td>\n      <td>No</td>\n      <td>No phone service</td>\n      <td>DSL</td>\n      <td>Yes</td>\n      <td>...</td>\n      <td>Yes</td>\n      <td>Yes</td>\n      <td>No</td>\n      <td>No</td>\n      <td>One year</td>\n      <td>No</td>\n      <td>Bank transfer (automatic)</td>\n      <td>42.30</td>\n      <td>1840.75</td>\n      <td>No</td>\n    </tr>\n    <tr>\n      <th>4</th>\n      <td>9237-HQITU</td>\n      <td>Female</td>\n      <td>0</td>\n      <td>No</td>\n      <td>No</td>\n      <td>2</td>\n      <td>Yes</td>\n      <td>No</td>\n      <td>Fiber optic</td>\n      <td>No</td>\n      <td>...</td>\n      <td>No</td>\n      <td>No</td>\n      <td>No</td>\n      <td>No</td>\n      <td>Month-to-month</td>\n      <td>Yes</td>\n      <td>Electronic check</td>\n      <td>70.70</td>\n      <td>151.65</td>\n      <td>Yes</td>\n    </tr>\n  </tbody>\n</table>\n<p>5 rows × 21 columns</p>\n</div>"
     },
     "execution_count": 16,
     "metadata": {},
     "output_type": "execute_result"
    }
   ],
   "source": [
    "churn.head()"
   ],
   "metadata": {
    "collapsed": false,
    "pycharm": {
     "name": "#%%\n"
    }
   }
  },
  {
   "cell_type": "code",
   "execution_count": 17,
   "outputs": [],
   "source": [
    "# Split the data into features and target\n",
    "X = churn.drop('Churn', axis=1)\n",
    "y = churn['Churn']"
   ],
   "metadata": {
    "collapsed": false,
    "pycharm": {
     "name": "#%%\n"
    }
   }
  },
  {
   "cell_type": "code",
   "execution_count": 18,
   "outputs": [],
   "source": [
    "# Split the data into train and test\n",
    "from sklearn.model_selection import train_test_split\n",
    "X_train, X_test, y_train, y_test = train_test_split(X, y, test_size=0.2, random_state=42)"
   ],
   "metadata": {
    "collapsed": false,
    "pycharm": {
     "name": "#%%\n"
    }
   }
  },
  {
   "cell_type": "code",
   "execution_count": 5,
   "outputs": [],
   "source": [
    "import autokeras as ak"
   ],
   "metadata": {
    "collapsed": false,
    "pycharm": {
     "name": "#%%\n"
    }
   }
  },
  {
   "cell_type": "code",
   "execution_count": 44,
   "outputs": [
    {
     "name": "stdout",
     "output_type": "stream",
     "text": [
      "Trial 30 Complete [00h 00m 19s]\n",
      "val_accuracy: 0.7972477078437805\n",
      "\n",
      "Best val_accuracy So Far: 0.8064219951629639\n",
      "Total elapsed time: 00h 11m 57s\n",
      "INFO:tensorflow:Oracle triggered exit\n",
      "Epoch 1/100\n",
      "177/177 [==============================] - 2s 3ms/step - loss: 0.7468 - accuracy: 0.7222\n",
      "Epoch 2/100\n",
      "177/177 [==============================] - 1s 3ms/step - loss: 0.5724 - accuracy: 0.7336\n",
      "Epoch 3/100\n",
      "177/177 [==============================] - 1s 3ms/step - loss: 0.5395 - accuracy: 0.7401\n",
      "Epoch 4/100\n",
      "177/177 [==============================] - 0s 3ms/step - loss: 0.5290 - accuracy: 0.7396\n",
      "Epoch 5/100\n",
      "177/177 [==============================] - 0s 3ms/step - loss: 0.5206 - accuracy: 0.7444\n",
      "Epoch 6/100\n",
      "177/177 [==============================] - 0s 3ms/step - loss: 0.5134 - accuracy: 0.7531\n",
      "Epoch 7/100\n",
      "177/177 [==============================] - 0s 3ms/step - loss: 0.5077 - accuracy: 0.7506\n",
      "Epoch 8/100\n",
      "177/177 [==============================] - 0s 3ms/step - loss: 0.5045 - accuracy: 0.7515\n",
      "Epoch 9/100\n",
      "177/177 [==============================] - 1s 3ms/step - loss: 0.4984 - accuracy: 0.7563\n",
      "Epoch 10/100\n",
      "177/177 [==============================] - 0s 3ms/step - loss: 0.4964 - accuracy: 0.7588\n",
      "Epoch 11/100\n",
      "177/177 [==============================] - 0s 3ms/step - loss: 0.4931 - accuracy: 0.7549\n",
      "Epoch 12/100\n",
      "177/177 [==============================] - 0s 3ms/step - loss: 0.4914 - accuracy: 0.7572\n",
      "Epoch 13/100\n",
      "177/177 [==============================] - 0s 3ms/step - loss: 0.4877 - accuracy: 0.7618\n",
      "Epoch 14/100\n",
      "177/177 [==============================] - 1s 3ms/step - loss: 0.4865 - accuracy: 0.7622\n",
      "Epoch 15/100\n",
      "177/177 [==============================] - 0s 3ms/step - loss: 0.4837 - accuracy: 0.7611\n",
      "Epoch 16/100\n",
      "177/177 [==============================] - 0s 3ms/step - loss: 0.4821 - accuracy: 0.7645\n",
      "Epoch 17/100\n",
      "177/177 [==============================] - 0s 3ms/step - loss: 0.4808 - accuracy: 0.7659\n",
      "Epoch 18/100\n",
      "177/177 [==============================] - 0s 3ms/step - loss: 0.4787 - accuracy: 0.7680\n",
      "Epoch 19/100\n",
      "177/177 [==============================] - 0s 3ms/step - loss: 0.4756 - accuracy: 0.7694\n",
      "Epoch 20/100\n",
      "177/177 [==============================] - 1s 3ms/step - loss: 0.4743 - accuracy: 0.7705\n",
      "Epoch 21/100\n",
      "177/177 [==============================] - 0s 3ms/step - loss: 0.4746 - accuracy: 0.7701\n",
      "Epoch 22/100\n",
      "177/177 [==============================] - 0s 3ms/step - loss: 0.4733 - accuracy: 0.7716\n",
      "Epoch 23/100\n",
      "177/177 [==============================] - 1s 3ms/step - loss: 0.4725 - accuracy: 0.7739\n",
      "Epoch 24/100\n",
      "177/177 [==============================] - 1s 3ms/step - loss: 0.4708 - accuracy: 0.7748\n",
      "Epoch 25/100\n",
      "177/177 [==============================] - 0s 3ms/step - loss: 0.4724 - accuracy: 0.7756\n",
      "Epoch 26/100\n",
      "177/177 [==============================] - 1s 3ms/step - loss: 0.4718 - accuracy: 0.7756\n",
      "Epoch 27/100\n",
      "177/177 [==============================] - 1s 3ms/step - loss: 0.4713 - accuracy: 0.7725\n",
      "Epoch 28/100\n",
      "177/177 [==============================] - 1s 3ms/step - loss: 0.4704 - accuracy: 0.7728\n",
      "Epoch 29/100\n",
      "177/177 [==============================] - 0s 3ms/step - loss: 0.4671 - accuracy: 0.7780\n",
      "Epoch 30/100\n",
      "177/177 [==============================] - 1s 3ms/step - loss: 0.4704 - accuracy: 0.7742\n",
      "Epoch 31/100\n",
      "177/177 [==============================] - 1s 3ms/step - loss: 0.4678 - accuracy: 0.7751\n",
      "Epoch 32/100\n",
      "177/177 [==============================] - 0s 3ms/step - loss: 0.4690 - accuracy: 0.7783\n",
      "Epoch 33/100\n",
      "177/177 [==============================] - 1s 3ms/step - loss: 0.4685 - accuracy: 0.7781\n",
      "Epoch 34/100\n",
      "177/177 [==============================] - 0s 3ms/step - loss: 0.4672 - accuracy: 0.7801\n",
      "Epoch 35/100\n",
      "177/177 [==============================] - 0s 3ms/step - loss: 0.4680 - accuracy: 0.7803\n",
      "Epoch 36/100\n",
      "177/177 [==============================] - 0s 2ms/step - loss: 0.4675 - accuracy: 0.7794\n",
      "Epoch 37/100\n",
      "177/177 [==============================] - 0s 2ms/step - loss: 0.4676 - accuracy: 0.7749\n",
      "Epoch 38/100\n",
      "177/177 [==============================] - 0s 2ms/step - loss: 0.4666 - accuracy: 0.7765\n",
      "Epoch 39/100\n",
      "177/177 [==============================] - 0s 3ms/step - loss: 0.4671 - accuracy: 0.7755\n",
      "Epoch 40/100\n",
      "177/177 [==============================] - 0s 3ms/step - loss: 0.4661 - accuracy: 0.7769\n",
      "Epoch 41/100\n",
      "177/177 [==============================] - 0s 3ms/step - loss: 0.4658 - accuracy: 0.7804\n",
      "Epoch 42/100\n",
      "177/177 [==============================] - 0s 3ms/step - loss: 0.4652 - accuracy: 0.7794\n",
      "Epoch 43/100\n",
      "177/177 [==============================] - 1s 3ms/step - loss: 0.4659 - accuracy: 0.7781\n",
      "Epoch 44/100\n",
      "177/177 [==============================] - 1s 3ms/step - loss: 0.4658 - accuracy: 0.7767\n",
      "Epoch 45/100\n",
      "177/177 [==============================] - 0s 3ms/step - loss: 0.4653 - accuracy: 0.7788\n",
      "Epoch 46/100\n",
      "177/177 [==============================] - 0s 3ms/step - loss: 0.4659 - accuracy: 0.7787\n",
      "Epoch 47/100\n",
      "177/177 [==============================] - 0s 3ms/step - loss: 0.4646 - accuracy: 0.7788\n",
      "Epoch 48/100\n",
      "177/177 [==============================] - 0s 3ms/step - loss: 0.4653 - accuracy: 0.7765\n",
      "Epoch 49/100\n",
      "177/177 [==============================] - 0s 3ms/step - loss: 0.4658 - accuracy: 0.7772\n",
      "Epoch 50/100\n",
      "177/177 [==============================] - 1s 3ms/step - loss: 0.4661 - accuracy: 0.7735\n",
      "Epoch 51/100\n",
      "177/177 [==============================] - 0s 3ms/step - loss: 0.4641 - accuracy: 0.7783\n",
      "Epoch 52/100\n",
      "177/177 [==============================] - 0s 3ms/step - loss: 0.4656 - accuracy: 0.7762\n",
      "Epoch 53/100\n",
      "177/177 [==============================] - 1s 3ms/step - loss: 0.4641 - accuracy: 0.7794\n",
      "Epoch 54/100\n",
      "177/177 [==============================] - 1s 3ms/step - loss: 0.4646 - accuracy: 0.7769\n",
      "Epoch 55/100\n",
      "177/177 [==============================] - 1s 3ms/step - loss: 0.4644 - accuracy: 0.7781\n",
      "Epoch 56/100\n",
      "177/177 [==============================] - 0s 3ms/step - loss: 0.4641 - accuracy: 0.7776\n",
      "Epoch 57/100\n",
      "177/177 [==============================] - 0s 2ms/step - loss: 0.4646 - accuracy: 0.7772\n",
      "Epoch 58/100\n",
      "177/177 [==============================] - 1s 3ms/step - loss: 0.4640 - accuracy: 0.7781\n",
      "Epoch 59/100\n",
      "177/177 [==============================] - 0s 3ms/step - loss: 0.4670 - accuracy: 0.7723\n",
      "Epoch 60/100\n",
      "177/177 [==============================] - 0s 2ms/step - loss: 0.4640 - accuracy: 0.7769\n",
      "Epoch 61/100\n",
      "177/177 [==============================] - 0s 3ms/step - loss: 0.4632 - accuracy: 0.7810\n",
      "Epoch 62/100\n",
      "177/177 [==============================] - 0s 3ms/step - loss: 0.4654 - accuracy: 0.7804\n",
      "Epoch 63/100\n",
      "177/177 [==============================] - 0s 3ms/step - loss: 0.4652 - accuracy: 0.7803\n",
      "Epoch 64/100\n",
      "177/177 [==============================] - 0s 3ms/step - loss: 0.4643 - accuracy: 0.7781\n",
      "Epoch 65/100\n",
      "177/177 [==============================] - 0s 2ms/step - loss: 0.4630 - accuracy: 0.7815\n",
      "Epoch 66/100\n",
      "177/177 [==============================] - 0s 3ms/step - loss: 0.4646 - accuracy: 0.7815\n",
      "Epoch 67/100\n",
      "177/177 [==============================] - 1s 3ms/step - loss: 0.4627 - accuracy: 0.7788\n",
      "Epoch 68/100\n",
      "177/177 [==============================] - 0s 3ms/step - loss: 0.4631 - accuracy: 0.7806\n",
      "Epoch 69/100\n",
      "177/177 [==============================] - 1s 3ms/step - loss: 0.4633 - accuracy: 0.7829\n",
      "Epoch 70/100\n",
      "177/177 [==============================] - 0s 3ms/step - loss: 0.4638 - accuracy: 0.7813\n",
      "Epoch 71/100\n",
      "177/177 [==============================] - 0s 3ms/step - loss: 0.4623 - accuracy: 0.7815\n",
      "Epoch 72/100\n",
      "177/177 [==============================] - 1s 3ms/step - loss: 0.4633 - accuracy: 0.7819\n",
      "Epoch 73/100\n",
      "177/177 [==============================] - 0s 3ms/step - loss: 0.4638 - accuracy: 0.7831\n",
      "Epoch 74/100\n",
      "177/177 [==============================] - 0s 3ms/step - loss: 0.4617 - accuracy: 0.7820\n",
      "Epoch 75/100\n",
      "177/177 [==============================] - 1s 3ms/step - loss: 0.4631 - accuracy: 0.7833\n",
      "Epoch 76/100\n",
      "177/177 [==============================] - 0s 3ms/step - loss: 0.4639 - accuracy: 0.7813\n",
      "Epoch 77/100\n",
      "177/177 [==============================] - 0s 3ms/step - loss: 0.4641 - accuracy: 0.7801\n",
      "Epoch 78/100\n",
      "177/177 [==============================] - 1s 3ms/step - loss: 0.4644 - accuracy: 0.7817\n",
      "Epoch 79/100\n",
      "177/177 [==============================] - 0s 3ms/step - loss: 0.4640 - accuracy: 0.7812\n",
      "Epoch 80/100\n",
      "177/177 [==============================] - 0s 3ms/step - loss: 0.4638 - accuracy: 0.7808\n",
      "Epoch 81/100\n",
      "177/177 [==============================] - 1s 3ms/step - loss: 0.4629 - accuracy: 0.7840\n",
      "Epoch 82/100\n",
      "177/177 [==============================] - 0s 3ms/step - loss: 0.4632 - accuracy: 0.7797\n",
      "Epoch 83/100\n",
      "177/177 [==============================] - 0s 3ms/step - loss: 0.4634 - accuracy: 0.7810\n",
      "Epoch 84/100\n",
      "177/177 [==============================] - 1s 3ms/step - loss: 0.4629 - accuracy: 0.7815\n",
      "Epoch 85/100\n",
      "177/177 [==============================] - 0s 3ms/step - loss: 0.4639 - accuracy: 0.7796\n",
      "Epoch 86/100\n",
      "177/177 [==============================] - 0s 3ms/step - loss: 0.4630 - accuracy: 0.7826\n",
      "Epoch 87/100\n",
      "177/177 [==============================] - 1s 3ms/step - loss: 0.4631 - accuracy: 0.7812\n",
      "Epoch 88/100\n",
      "177/177 [==============================] - 1s 3ms/step - loss: 0.4631 - accuracy: 0.7781\n",
      "Epoch 89/100\n",
      "177/177 [==============================] - 1s 3ms/step - loss: 0.4626 - accuracy: 0.7804\n",
      "Epoch 90/100\n",
      "177/177 [==============================] - 1s 3ms/step - loss: 0.4633 - accuracy: 0.7794\n",
      "Epoch 91/100\n",
      "177/177 [==============================] - 1s 3ms/step - loss: 0.4620 - accuracy: 0.7799\n",
      "Epoch 92/100\n",
      "177/177 [==============================] - 1s 3ms/step - loss: 0.4624 - accuracy: 0.7797\n",
      "Epoch 93/100\n",
      "177/177 [==============================] - 1s 3ms/step - loss: 0.4627 - accuracy: 0.7803\n",
      "Epoch 94/100\n",
      "177/177 [==============================] - 1s 3ms/step - loss: 0.4628 - accuracy: 0.7790\n",
      "Epoch 95/100\n",
      "177/177 [==============================] - 0s 3ms/step - loss: 0.4627 - accuracy: 0.7785\n",
      "Epoch 96/100\n",
      "177/177 [==============================] - 0s 3ms/step - loss: 0.4625 - accuracy: 0.7813\n",
      "Epoch 97/100\n",
      "177/177 [==============================] - 0s 3ms/step - loss: 0.4625 - accuracy: 0.7803\n",
      "Epoch 98/100\n",
      "177/177 [==============================] - 0s 3ms/step - loss: 0.4619 - accuracy: 0.7804\n",
      "Epoch 99/100\n",
      "177/177 [==============================] - 0s 3ms/step - loss: 0.4626 - accuracy: 0.7796\n",
      "Epoch 100/100\n",
      "177/177 [==============================] - 0s 3ms/step - loss: 0.4624 - accuracy: 0.7794\n",
      "INFO:tensorflow:Assets written to: ./structured_data_classifier/best_model/assets\n"
     ]
    },
    {
     "data": {
      "text/plain": "<keras.callbacks.History at 0x7febd48e6ac0>"
     },
     "execution_count": 44,
     "metadata": {},
     "output_type": "execute_result"
    }
   ],
   "source": [
    "# Create an AutoKeras Structured data classifier\n",
    "clf = ak.StructuredDataClassifier(max_trials=30)\n",
    "clf.fit(X_train, y_train, epochs=100)"
   ],
   "metadata": {
    "collapsed": false,
    "pycharm": {
     "name": "#%%\n"
    }
   }
  },
  {
   "cell_type": "code",
   "execution_count": 45,
   "outputs": [
    {
     "name": "stdout",
     "output_type": "stream",
     "text": [
      "Accuracy: 0.781\n"
     ]
    }
   ],
   "source": [
    "# evaluate the model\n",
    "loss, acc = clf.evaluate(X_test, y_test, verbose=0)\n",
    "print('Accuracy: %.3f' % acc)"
   ],
   "metadata": {
    "collapsed": false,
    "pycharm": {
     "name": "#%%\n"
    }
   }
  },
  {
   "cell_type": "code",
   "execution_count": 46,
   "outputs": [],
   "source": [
    "# get the best performing model\n",
    "model = clf.export_model()"
   ],
   "metadata": {
    "collapsed": false,
    "pycharm": {
     "name": "#%%\n"
    }
   }
  },
  {
   "cell_type": "code",
   "execution_count": 47,
   "outputs": [
    {
     "name": "stdout",
     "output_type": "stream",
     "text": [
      "Model: \"model\"\n",
      "_________________________________________________________________\n",
      " Layer (type)                Output Shape              Param #   \n",
      "=================================================================\n",
      " input_1 (InputLayer)        [(None, 20)]              0         \n",
      "                                                                 \n",
      " multi_category_encoding (Mu  (None, 20)               0         \n",
      " ltiCategoryEncoding)                                            \n",
      "                                                                 \n",
      " dense (Dense)               (None, 512)               10752     \n",
      "                                                                 \n",
      " batch_normalization (BatchN  (None, 512)              2048      \n",
      " ormalization)                                                   \n",
      "                                                                 \n",
      " re_lu (ReLU)                (None, 512)               0         \n",
      "                                                                 \n",
      " dense_1 (Dense)             (None, 1)                 513       \n",
      "                                                                 \n",
      " classification_head_1 (Acti  (None, 1)                0         \n",
      " vation)                                                         \n",
      "                                                                 \n",
      "=================================================================\n",
      "Total params: 13,313\n",
      "Trainable params: 12,289\n",
      "Non-trainable params: 1,024\n",
      "_________________________________________________________________\n"
     ]
    }
   ],
   "source": [
    "# summarize the loaded model\n",
    "model.summary()"
   ],
   "metadata": {
    "collapsed": false,
    "pycharm": {
     "name": "#%%\n"
    }
   }
  },
  {
   "cell_type": "code",
   "execution_count": 25,
   "outputs": [
    {
     "name": "stdout",
     "output_type": "stream",
     "text": [
      "Collecting visualkeras\r\n",
      "  Downloading visualkeras-0.0.2-py3-none-any.whl (12 kB)\r\n",
      "Collecting aggdraw>=1.3.11\r\n",
      "  Downloading aggdraw-1.3.15-cp39-cp39-macosx_10_9_x86_64.whl (511 kB)\r\n",
      "\u001B[K     |████████████████████████████████| 511 kB 1.9 MB/s eta 0:00:01\r\n",
      "\u001B[?25hRequirement already satisfied: numpy>=1.18.1 in /Users/fvazquez/.conda/envs/pythonProject/lib/python3.9/site-packages (from visualkeras) (1.21.5)\r\n",
      "Requirement already satisfied: pillow>=6.2.0 in /Users/fvazquez/.conda/envs/pythonProject/lib/python3.9/site-packages (from visualkeras) (9.0.1)\r\n",
      "Installing collected packages: aggdraw, visualkeras\r\n",
      "Successfully installed aggdraw-1.3.15 visualkeras-0.0.2\r\n"
     ]
    }
   ],
   "source": [
    "!pip install visualkeras"
   ],
   "metadata": {
    "collapsed": false,
    "pycharm": {
     "name": "#%%\n"
    }
   }
  },
  {
   "cell_type": "code",
   "execution_count": 51,
   "outputs": [
    {
     "data": {
      "text/plain": "<PIL.Image.Image image mode=RGBA size=1674x170 at 0x7FEBD9AA1C40>",
      "image/png": "[encoded data removed]"
     },
     "execution_count": 51,
     "metadata": {},
     "output_type": "execute_result"
    }
   ],
   "source": [
    "import visualkeras\n",
    "visualkeras.layered_view(model, legend=True, spacing=30,\n",
    "                         min_xy=100, scale_z=5)"
   ],
   "metadata": {
    "collapsed": false,
    "pycharm": {
     "name": "#%%\n"
    }
   }
  }
 ],
 "metadata": {
  "kernelspec": {
   "display_name": "Python 3",
   "language": "python",
   "name": "python3"
  },
  "language_info": {
   "codemirror_mode": {
    "name": "ipython",
    "version": 2
   },
   "file_extension": ".py",
   "mimetype": "text/x-python",
   "name": "python",
   "nbconvert_exporter": "python",
   "pygments_lexer": "ipython2",
   "version": "2.7.6"
  }
 },
 "nbformat": 4,
 "nbformat_minor": 0
}