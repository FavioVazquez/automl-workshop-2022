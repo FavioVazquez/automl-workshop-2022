{
 "cells": [
  {
   "cell_type": "markdown",
   "source": [
    "# Machine learning: La forma clásica"
   ],
   "metadata": {
    "collapsed": false,
    "pycharm": {
     "name": "#%% md\n"
    }
   }
  },
  {
   "cell_type": "markdown",
   "source": [
    "## Cargar datos y crear características básicas"
   ],
   "metadata": {
    "collapsed": false,
    "pycharm": {
     "name": "#%% md\n"
    }
   }
  },
  {
   "cell_type": "code",
   "execution_count": 2,
   "outputs": [],
   "source": [
    "# Import pandas\n",
    "import pandas as pd"
   ],
   "metadata": {
    "collapsed": false,
    "pycharm": {
     "name": "#%%\n"
    }
   }
  },
  {
   "cell_type": "code",
   "execution_count": 3,
   "outputs": [],
   "source": [
    "# Load data\n",
    "df = pd.read_csv(\"data/attrition.csv\")"
   ],
   "metadata": {
    "collapsed": false,
    "pycharm": {
     "name": "#%%\n"
    }
   }
  },
  {
   "cell_type": "code",
   "execution_count": 4,
   "outputs": [
    {
     "data": {
      "text/plain": "   EmployeeID  Age Attrition     BusinessTravel  DailyRate  Department  \\\n0     1313919   41        No      Travel_Rarely       1102  Cardiology   \n1     1200302   49        No  Travel_Frequently        279   Maternity   \n2     1060315   37       Yes      Travel_Rarely       1373   Maternity   \n3     1272912   33        No  Travel_Frequently       1392   Maternity   \n4     1414939   27        No      Travel_Rarely        591   Maternity   \n\n   DistanceFromHome  Education EducationField  EmployeeCount  ...  \\\n0                 1          2  Life Sciences              1  ...   \n1                 8          1  Life Sciences              1  ...   \n2                 2          2          Other              1  ...   \n3                 3          4  Life Sciences              1  ...   \n4                 2          1        Medical              1  ...   \n\n   RelationshipSatisfaction StandardHours  Shift  TotalWorkingYears  \\\n0                         1            80      0                  8   \n1                         4            80      1                 10   \n2                         2            80      0                  7   \n3                         3            80      0                  8   \n4                         4            80      1                  6   \n\n   TrainingTimesLastYear WorkLifeBalance  YearsAtCompany YearsInCurrentRole  \\\n0                      0               1               6                  4   \n1                      3               3              10                  7   \n2                      3               3               0                  0   \n3                      3               3               8                  7   \n4                      3               3               2                  2   \n\n   YearsSinceLastPromotion  YearsWithCurrManager  \n0                        0                     5  \n1                        1                     7  \n2                        0                     0  \n3                        3                     0  \n4                        2                     2  \n\n[5 rows x 35 columns]",
      "text/html": "<div>\n<style scoped>\n    .dataframe tbody tr th:only-of-type {\n        vertical-align: middle;\n    }\n\n    .dataframe tbody tr th {\n        vertical-align: top;\n    }\n\n    .dataframe thead th {\n        text-align: right;\n    }\n</style>\n<table border=\"1\" class=\"dataframe\">\n  <thead>\n    <tr style=\"text-align: right;\">\n      <th></th>\n      <th>EmployeeID</th>\n      <th>Age</th>\n      <th>Attrition</th>\n      <th>BusinessTravel</th>\n      <th>DailyRate</th>\n      <th>Department</th>\n      <th>DistanceFromHome</th>\n      <th>Education</th>\n      <th>EducationField</th>\n      <th>EmployeeCount</th>\n      <th>...</th>\n      <th>RelationshipSatisfaction</th>\n      <th>StandardHours</th>\n      <th>Shift</th>\n      <th>TotalWorkingYears</th>\n      <th>TrainingTimesLastYear</th>\n      <th>WorkLifeBalance</th>\n      <th>YearsAtCompany</th>\n      <th>YearsInCurrentRole</th>\n      <th>YearsSinceLastPromotion</th>\n      <th>YearsWithCurrManager</th>\n    </tr>\n  </thead>\n  <tbody>\n    <tr>\n      <th>0</th>\n      <td>1313919</td>\n      <td>41</td>\n      <td>No</td>\n      <td>Travel_Rarely</td>\n      <td>1102</td>\n      <td>Cardiology</td>\n      <td>1</td>\n      <td>2</td>\n      <td>Life Sciences</td>\n      <td>1</td>\n      <td>...</td>\n      <td>1</td>\n      <td>80</td>\n      <td>0</td>\n      <td>8</td>\n      <td>0</td>\n      <td>1</td>\n      <td>6</td>\n      <td>4</td>\n      <td>0</td>\n      <td>5</td>\n    </tr>\n    <tr>\n      <th>1</th>\n      <td>1200302</td>\n      <td>49</td>\n      <td>No</td>\n      <td>Travel_Frequently</td>\n      <td>279</td>\n      <td>Maternity</td>\n      <td>8</td>\n      <td>1</td>\n      <td>Life Sciences</td>\n      <td>1</td>\n      <td>...</td>\n      <td>4</td>\n      <td>80</td>\n      <td>1</td>\n      <td>10</td>\n      <td>3</td>\n      <td>3</td>\n      <td>10</td>\n      <td>7</td>\n      <td>1</td>\n      <td>7</td>\n    </tr>\n    <tr>\n      <th>2</th>\n      <td>1060315</td>\n      <td>37</td>\n      <td>Yes</td>\n      <td>Travel_Rarely</td>\n      <td>1373</td>\n      <td>Maternity</td>\n      <td>2</td>\n      <td>2</td>\n      <td>Other</td>\n      <td>1</td>\n      <td>...</td>\n      <td>2</td>\n      <td>80</td>\n      <td>0</td>\n      <td>7</td>\n      <td>3</td>\n      <td>3</td>\n      <td>0</td>\n      <td>0</td>\n      <td>0</td>\n      <td>0</td>\n    </tr>\n    <tr>\n      <th>3</th>\n      <td>1272912</td>\n      <td>33</td>\n      <td>No</td>\n      <td>Travel_Frequently</td>\n      <td>1392</td>\n      <td>Maternity</td>\n      <td>3</td>\n      <td>4</td>\n      <td>Life Sciences</td>\n      <td>1</td>\n      <td>...</td>\n      <td>3</td>\n      <td>80</td>\n      <td>0</td>\n      <td>8</td>\n      <td>3</td>\n      <td>3</td>\n      <td>8</td>\n      <td>7</td>\n      <td>3</td>\n      <td>0</td>\n    </tr>\n    <tr>\n      <th>4</th>\n      <td>1414939</td>\n      <td>27</td>\n      <td>No</td>\n      <td>Travel_Rarely</td>\n      <td>591</td>\n      <td>Maternity</td>\n      <td>2</td>\n      <td>1</td>\n      <td>Medical</td>\n      <td>1</td>\n      <td>...</td>\n      <td>4</td>\n      <td>80</td>\n      <td>1</td>\n      <td>6</td>\n      <td>3</td>\n      <td>3</td>\n      <td>2</td>\n      <td>2</td>\n      <td>2</td>\n      <td>2</td>\n    </tr>\n  </tbody>\n</table>\n<p>5 rows × 35 columns</p>\n</div>"
     },
     "execution_count": 4,
     "metadata": {},
     "output_type": "execute_result"
    }
   ],
   "source": [
    "# Show first 5 rows\n",
    "df.head()"
   ],
   "metadata": {
    "collapsed": false,
    "pycharm": {
     "name": "#%%\n"
    }
   }
  },
  {
   "cell_type": "code",
   "execution_count": 5,
   "outputs": [],
   "source": [
    "# Dummy encoding\n",
    "df = pd.get_dummies(df)"
   ],
   "metadata": {
    "collapsed": false,
    "pycharm": {
     "name": "#%%\n"
    }
   }
  },
  {
   "cell_type": "code",
   "execution_count": 6,
   "outputs": [
    {
     "data": {
      "text/plain": "   EmployeeID  Age  DailyRate  DistanceFromHome  Education  EmployeeCount  \\\n0     1313919   41       1102                 1          2              1   \n1     1200302   49        279                 8          1              1   \n2     1060315   37       1373                 2          2              1   \n3     1272912   33       1392                 3          4              1   \n4     1414939   27        591                 2          1              1   \n\n   EnvironmentSatisfaction  HourlyRate  JobInvolvement  JobLevel  ...  \\\n0                        2          94               3         2  ...   \n1                        3          61               2         2  ...   \n2                        4          92               2         1  ...   \n3                        4          56               3         1  ...   \n4                        1          40               3         1  ...   \n\n   JobRole_Administrative  JobRole_Nurse  JobRole_Other  JobRole_Therapist  \\\n0                       0              1              0                  0   \n1                       0              0              1                  0   \n2                       0              1              0                  0   \n3                       0              0              1                  0   \n4                       0              1              0                  0   \n\n   MaritalStatus_Divorced  MaritalStatus_Married  MaritalStatus_Single  \\\n0                       0                      0                     1   \n1                       0                      1                     0   \n2                       0                      0                     1   \n3                       0                      1                     0   \n4                       0                      1                     0   \n\n   Over18_Y  OverTime_No  OverTime_Yes  \n0         1            0             1  \n1         1            1             0  \n2         1            0             1  \n3         1            0             1  \n4         1            1             0  \n\n[5 rows x 53 columns]",
      "text/html": "<div>\n<style scoped>\n    .dataframe tbody tr th:only-of-type {\n        vertical-align: middle;\n    }\n\n    .dataframe tbody tr th {\n        vertical-align: top;\n    }\n\n    .dataframe thead th {\n        text-align: right;\n    }\n</style>\n<table border=\"1\" class=\"dataframe\">\n  <thead>\n    <tr style=\"text-align: right;\">\n      <th></th>\n      <th>EmployeeID</th>\n      <th>Age</th>\n      <th>DailyRate</th>\n      <th>DistanceFromHome</th>\n      <th>Education</th>\n      <th>EmployeeCount</th>\n      <th>EnvironmentSatisfaction</th>\n      <th>HourlyRate</th>\n      <th>JobInvolvement</th>\n      <th>JobLevel</th>\n      <th>...</th>\n      <th>JobRole_Administrative</th>\n      <th>JobRole_Nurse</th>\n      <th>JobRole_Other</th>\n      <th>JobRole_Therapist</th>\n      <th>MaritalStatus_Divorced</th>\n      <th>MaritalStatus_Married</th>\n      <th>MaritalStatus_Single</th>\n      <th>Over18_Y</th>\n      <th>OverTime_No</th>\n      <th>OverTime_Yes</th>\n    </tr>\n  </thead>\n  <tbody>\n    <tr>\n      <th>0</th>\n      <td>1313919</td>\n      <td>41</td>\n      <td>1102</td>\n      <td>1</td>\n      <td>2</td>\n      <td>1</td>\n      <td>2</td>\n      <td>94</td>\n      <td>3</td>\n      <td>2</td>\n      <td>...</td>\n      <td>0</td>\n      <td>1</td>\n      <td>0</td>\n      <td>0</td>\n      <td>0</td>\n      <td>0</td>\n      <td>1</td>\n      <td>1</td>\n      <td>0</td>\n      <td>1</td>\n    </tr>\n    <tr>\n      <th>1</th>\n      <td>1200302</td>\n      <td>49</td>\n      <td>279</td>\n      <td>8</td>\n      <td>1</td>\n      <td>1</td>\n      <td>3</td>\n      <td>61</td>\n      <td>2</td>\n      <td>2</td>\n      <td>...</td>\n      <td>0</td>\n      <td>0</td>\n      <td>1</td>\n      <td>0</td>\n      <td>0</td>\n      <td>1</td>\n      <td>0</td>\n      <td>1</td>\n      <td>1</td>\n      <td>0</td>\n    </tr>\n    <tr>\n      <th>2</th>\n      <td>1060315</td>\n      <td>37</td>\n      <td>1373</td>\n      <td>2</td>\n      <td>2</td>\n      <td>1</td>\n      <td>4</td>\n      <td>92</td>\n      <td>2</td>\n      <td>1</td>\n      <td>...</td>\n      <td>0</td>\n      <td>1</td>\n      <td>0</td>\n      <td>0</td>\n      <td>0</td>\n      <td>0</td>\n      <td>1</td>\n      <td>1</td>\n      <td>0</td>\n      <td>1</td>\n    </tr>\n    <tr>\n      <th>3</th>\n      <td>1272912</td>\n      <td>33</td>\n      <td>1392</td>\n      <td>3</td>\n      <td>4</td>\n      <td>1</td>\n      <td>4</td>\n      <td>56</td>\n      <td>3</td>\n      <td>1</td>\n      <td>...</td>\n      <td>0</td>\n      <td>0</td>\n      <td>1</td>\n      <td>0</td>\n      <td>0</td>\n      <td>1</td>\n      <td>0</td>\n      <td>1</td>\n      <td>0</td>\n      <td>1</td>\n    </tr>\n    <tr>\n      <th>4</th>\n      <td>1414939</td>\n      <td>27</td>\n      <td>591</td>\n      <td>2</td>\n      <td>1</td>\n      <td>1</td>\n      <td>1</td>\n      <td>40</td>\n      <td>3</td>\n      <td>1</td>\n      <td>...</td>\n      <td>0</td>\n      <td>1</td>\n      <td>0</td>\n      <td>0</td>\n      <td>0</td>\n      <td>1</td>\n      <td>0</td>\n      <td>1</td>\n      <td>1</td>\n      <td>0</td>\n    </tr>\n  </tbody>\n</table>\n<p>5 rows × 53 columns</p>\n</div>"
     },
     "execution_count": 6,
     "metadata": {},
     "output_type": "execute_result"
    }
   ],
   "source": [
    "# Show first 5 rows\n",
    "df.head()"
   ],
   "metadata": {
    "collapsed": false,
    "pycharm": {
     "name": "#%%\n"
    }
   }
  },
  {
   "cell_type": "code",
   "execution_count": 7,
   "outputs": [],
   "source": [
    "# Rename column attrition_yes to attrition\n",
    "df.rename(columns={'Attrition_Yes': 'Attrition'}, inplace=True)"
   ],
   "metadata": {
    "collapsed": false,
    "pycharm": {
     "name": "#%%\n"
    }
   }
  },
  {
   "cell_type": "code",
   "execution_count": 8,
   "outputs": [],
   "source": [
    "# Drop column Attrition_no\n",
    "df = df.drop(columns=['Attrition_No'])"
   ],
   "metadata": {
    "collapsed": false,
    "pycharm": {
     "name": "#%%\n"
    }
   }
  },
  {
   "cell_type": "code",
   "execution_count": 9,
   "outputs": [],
   "source": [
    "# Drop employee id\n",
    "df = df.drop(columns=['EmployeeID'])"
   ],
   "metadata": {
    "collapsed": false,
    "pycharm": {
     "name": "#%%\n"
    }
   }
  },
  {
   "cell_type": "markdown",
   "source": [
    "## Modelo: clasiificación binaria"
   ],
   "metadata": {
    "collapsed": false,
    "pycharm": {
     "name": "#%% md\n"
    }
   }
  },
  {
   "cell_type": "code",
   "execution_count": 10,
   "outputs": [],
   "source": [
    "# Create X and y\n",
    "X = df.drop(columns=['Attrition'])\n",
    "y = df['Attrition']"
   ],
   "metadata": {
    "collapsed": false,
    "pycharm": {
     "name": "#%%\n"
    }
   }
  },
  {
   "cell_type": "code",
   "execution_count": 11,
   "outputs": [
    {
     "name": "stderr",
     "output_type": "stream",
     "text": [
      "/Users/faviovazquez/.conda/envs/pythonProject/lib/python3.9/site-packages/scipy/__init__.py:146: UserWarning: A NumPy version >=1.16.5 and <1.23.0 is required for this version of SciPy (detected version 1.23.1\n",
      "  warnings.warn(f\"A NumPy version >={np_minversion} and <{np_maxversion}\"\n"
     ]
    },
    {
     "data": {
      "text/plain": "RFECV(cv=5, estimator=RandomForestClassifier(), min_features_to_select=10,\n      scoring='accuracy')",
      "text/html": "<style>#sk-container-id-1 {color: black;background-color: white;}#sk-container-id-1 pre{padding: 0;}#sk-container-id-1 div.sk-toggleable {background-color: white;}#sk-container-id-1 label.sk-toggleable__label {cursor: pointer;display: block;width: 100%;margin-bottom: 0;padding: 0.3em;box-sizing: border-box;text-align: center;}#sk-container-id-1 label.sk-toggleable__label-arrow:before {content: \"▸\";float: left;margin-right: 0.25em;color: #696969;}#sk-container-id-1 label.sk-toggleable__label-arrow:hover:before {color: black;}#sk-container-id-1 div.sk-estimator:hover label.sk-toggleable__label-arrow:before {color: black;}#sk-container-id-1 div.sk-toggleable__content {max-height: 0;max-width: 0;overflow: hidden;text-align: left;background-color: #f0f8ff;}#sk-container-id-1 div.sk-toggleable__content pre {margin: 0.2em;color: black;border-radius: 0.25em;background-color: #f0f8ff;}#sk-container-id-1 input.sk-toggleable__control:checked~div.sk-toggleable__content {max-height: 200px;max-width: 100%;overflow: auto;}#sk-container-id-1 input.sk-toggleable__control:checked~label.sk-toggleable__label-arrow:before {content: \"▾\";}#sk-container-id-1 div.sk-estimator input.sk-toggleable__control:checked~label.sk-toggleable__label {background-color: #d4ebff;}#sk-container-id-1 div.sk-label input.sk-toggleable__control:checked~label.sk-toggleable__label {background-color: #d4ebff;}#sk-container-id-1 input.sk-hidden--visually {border: 0;clip: rect(1px 1px 1px 1px);clip: rect(1px, 1px, 1px, 1px);height: 1px;margin: -1px;overflow: hidden;padding: 0;position: absolute;width: 1px;}#sk-container-id-1 div.sk-estimator {font-family: monospace;background-color: #f0f8ff;border: 1px dotted black;border-radius: 0.25em;box-sizing: border-box;margin-bottom: 0.5em;}#sk-container-id-1 div.sk-estimator:hover {background-color: #d4ebff;}#sk-container-id-1 div.sk-parallel-item::after {content: \"\";width: 100%;border-bottom: 1px solid gray;flex-grow: 1;}#sk-container-id-1 div.sk-label:hover label.sk-toggleable__label {background-color: #d4ebff;}#sk-container-id-1 div.sk-serial::before {content: \"\";position: absolute;border-left: 1px solid gray;box-sizing: border-box;top: 0;bottom: 0;left: 50%;z-index: 0;}#sk-container-id-1 div.sk-serial {display: flex;flex-direction: column;align-items: center;background-color: white;padding-right: 0.2em;padding-left: 0.2em;position: relative;}#sk-container-id-1 div.sk-item {position: relative;z-index: 1;}#sk-container-id-1 div.sk-parallel {display: flex;align-items: stretch;justify-content: center;background-color: white;position: relative;}#sk-container-id-1 div.sk-item::before, #sk-container-id-1 div.sk-parallel-item::before {content: \"\";position: absolute;border-left: 1px solid gray;box-sizing: border-box;top: 0;bottom: 0;left: 50%;z-index: -1;}#sk-container-id-1 div.sk-parallel-item {display: flex;flex-direction: column;z-index: 1;position: relative;background-color: white;}#sk-container-id-1 div.sk-parallel-item:first-child::after {align-self: flex-end;width: 50%;}#sk-container-id-1 div.sk-parallel-item:last-child::after {align-self: flex-start;width: 50%;}#sk-container-id-1 div.sk-parallel-item:only-child::after {width: 0;}#sk-container-id-1 div.sk-dashed-wrapped {border: 1px dashed gray;margin: 0 0.4em 0.5em 0.4em;box-sizing: border-box;padding-bottom: 0.4em;background-color: white;}#sk-container-id-1 div.sk-label label {font-family: monospace;font-weight: bold;display: inline-block;line-height: 1.2em;}#sk-container-id-1 div.sk-label-container {text-align: center;}#sk-container-id-1 div.sk-container {/* jupyter's `normalize.less` sets `[hidden] { display: none; }` but bootstrap.min.css set `[hidden] { display: none !important; }` so we also need the `!important` here to be able to override the default hidden behavior on the sphinx rendered scikit-learn.org. See: https://github.com/scikit-learn/scikit-learn/issues/21755 */display: inline-block !important;position: relative;}#sk-container-id-1 div.sk-text-repr-fallback {display: none;}</style><div id=\"sk-container-id-1\" class=\"sk-top-container\"><div class=\"sk-text-repr-fallback\"><pre>RFECV(cv=5, estimator=RandomForestClassifier(), min_features_to_select=10,\n      scoring=&#x27;accuracy&#x27;)</pre><b>In a Jupyter environment, please rerun this cell to show the HTML representation or trust the notebook. <br />On GitHub, the HTML representation is unable to render, please try loading this page with nbviewer.org.</b></div><div class=\"sk-container\" hidden><div class=\"sk-item sk-dashed-wrapped\"><div class=\"sk-label-container\"><div class=\"sk-label sk-toggleable\"><input class=\"sk-toggleable__control sk-hidden--visually\" id=\"sk-estimator-id-1\" type=\"checkbox\" ><label for=\"sk-estimator-id-1\" class=\"sk-toggleable__label sk-toggleable__label-arrow\">RFECV</label><div class=\"sk-toggleable__content\"><pre>RFECV(cv=5, estimator=RandomForestClassifier(), min_features_to_select=10,\n      scoring=&#x27;accuracy&#x27;)</pre></div></div></div><div class=\"sk-parallel\"><div class=\"sk-parallel-item\"><div class=\"sk-item\"><div class=\"sk-label-container\"><div class=\"sk-label sk-toggleable\"><input class=\"sk-toggleable__control sk-hidden--visually\" id=\"sk-estimator-id-2\" type=\"checkbox\" ><label for=\"sk-estimator-id-2\" class=\"sk-toggleable__label sk-toggleable__label-arrow\">estimator: RandomForestClassifier</label><div class=\"sk-toggleable__content\"><pre>RandomForestClassifier()</pre></div></div></div><div class=\"sk-serial\"><div class=\"sk-item\"><div class=\"sk-estimator sk-toggleable\"><input class=\"sk-toggleable__control sk-hidden--visually\" id=\"sk-estimator-id-3\" type=\"checkbox\" ><label for=\"sk-estimator-id-3\" class=\"sk-toggleable__label sk-toggleable__label-arrow\">RandomForestClassifier</label><div class=\"sk-toggleable__content\"><pre>RandomForestClassifier()</pre></div></div></div></div></div></div></div></div></div></div>"
     },
     "execution_count": 11,
     "metadata": {},
     "output_type": "execute_result"
    }
   ],
   "source": [
    "# Find best variables with RFECV\n",
    "from sklearn.feature_selection import RFECV\n",
    "from sklearn.ensemble import RandomForestClassifier\n",
    "\n",
    "# Create the RFE object and compute a cross-validated score.\n",
    "rfecv = RFECV(estimator=RandomForestClassifier(), step=1, cv=5, scoring='accuracy', min_features_to_select=10)\n",
    "rfecv.fit(X, y)"
   ],
   "metadata": {
    "collapsed": false,
    "pycharm": {
     "name": "#%%\n"
    }
   }
  },
  {
   "cell_type": "code",
   "execution_count": 12,
   "outputs": [],
   "source": [
    "# Transform the dataframe to show the selected features\n",
    "X_selected = rfecv.transform(X)"
   ],
   "metadata": {
    "collapsed": false,
    "pycharm": {
     "name": "#%%\n"
    }
   }
  },
  {
   "cell_type": "code",
   "execution_count": 13,
   "outputs": [
    {
     "data": {
      "text/plain": "array(['Age', 'DailyRate', 'DistanceFromHome', 'Education',\n       'EnvironmentSatisfaction', 'HourlyRate', 'JobInvolvement',\n       'JobLevel', 'JobSatisfaction', 'MonthlyIncome', 'MonthlyRate',\n       'NumCompaniesWorked', 'PercentSalaryHike', 'PerformanceRating',\n       'RelationshipSatisfaction', 'Shift', 'TotalWorkingYears',\n       'TrainingTimesLastYear', 'WorkLifeBalance', 'YearsAtCompany',\n       'YearsInCurrentRole', 'YearsSinceLastPromotion',\n       'YearsWithCurrManager', 'BusinessTravel_Travel_Frequently',\n       'BusinessTravel_Travel_Rarely', 'Department_Cardiology',\n       'Department_Maternity', 'Department_Neurology',\n       'EducationField_Life Sciences', 'EducationField_Marketing',\n       'EducationField_Medical', 'EducationField_Technical Degree',\n       'Gender_Female', 'Gender_Male', 'JobRole_Nurse', 'JobRole_Other',\n       'MaritalStatus_Divorced', 'MaritalStatus_Married',\n       'MaritalStatus_Single', 'OverTime_No', 'OverTime_Yes'],\n      dtype=object)"
     },
     "execution_count": 13,
     "metadata": {},
     "output_type": "execute_result"
    }
   ],
   "source": [
    "rfecv.get_feature_names_out()"
   ],
   "metadata": {
    "collapsed": false,
    "pycharm": {
     "name": "#%%\n"
    }
   }
  },
  {
   "cell_type": "code",
   "execution_count": 14,
   "outputs": [],
   "source": [
    "# Split data into train and test\n",
    "from sklearn.model_selection import train_test_split\n",
    "X_train, X_test, y_train, y_test = train_test_split(X_selected, y, test_size=0.2, random_state=0)"
   ],
   "metadata": {
    "collapsed": false,
    "pycharm": {
     "name": "#%%\n"
    }
   }
  },
  {
   "cell_type": "code",
   "execution_count": 15,
   "outputs": [
    {
     "name": "stdout",
     "output_type": "stream",
     "text": [
      "0.9166666666666666\n"
     ]
    }
   ],
   "source": [
    "# Create baseline model using Random Forest Classifier\n",
    "from sklearn.ensemble import RandomForestClassifier\n",
    "model = RandomForestClassifier(n_estimators=100, random_state=0)\n",
    "\n",
    "# Fit the model\n",
    "model.fit(X_train, y_train)\n",
    "\n",
    "# Predict on the test set\n",
    "y_pred = model.predict(X_test)\n",
    "\n",
    "# Evaluate the model\n",
    "from sklearn.metrics import accuracy_score\n",
    "print(accuracy_score(y_test, y_pred))"
   ],
   "metadata": {
    "collapsed": false,
    "pycharm": {
     "name": "#%%\n"
    }
   }
  },
  {
   "cell_type": "code",
   "execution_count": 19,
   "outputs": [
    {
     "data": {
      "text/plain": "<Figure size 1440x720 with 1 Axes>",
      "image/png": "[encoded data removed]"
     },
     "metadata": {
      "needs_background": "light"
     },
     "output_type": "display_data"
    }
   ],
   "source": [
    "# Plot variable importance from the random forest\n",
    "import matplotlib.pyplot as plt\n",
    "\n",
    "feature_names = rfecv.get_feature_names_out().tolist()\n",
    "importances = model.feature_importances_\n",
    "forest_importances = pd.Series(importances, index=feature_names)\n",
    "plt.figure(figsize=(20,10))\n",
    "forest_importances.nlargest(10).plot(kind='barh').invert_yaxis()\n",
    "# increase the font size\n",
    "plt.rcParams.update({'font.size': 12})\n",
    "# add title and labels\n",
    "plt.title('Variable Importance')\n",
    "plt.xlabel('Importance')\n",
    "plt.ylabel('Variable')\n",
    "# show the plot\n",
    "plt.show()"
   ],
   "metadata": {
    "collapsed": false,
    "pycharm": {
     "name": "#%%\n"
    }
   }
  },
  {
   "cell_type": "markdown",
   "source": [
    "## Modelo: clasificación binaria con grid search y cross validation"
   ],
   "metadata": {
    "collapsed": false,
    "pycharm": {
     "name": "#%% md\n"
    }
   }
  },
  {
   "cell_type": "code",
   "execution_count": 21,
   "outputs": [
    {
     "name": "stdout",
     "output_type": "stream",
     "text": [
      "Fitting 5 folds for each of 18 candidates, totalling 90 fits\n"
     ]
    },
    {
     "data": {
      "text/plain": "GridSearchCV(estimator=Pipeline(steps=[('scaler', StandardScaler()),\n                                       ('classifier',\n                                        RandomForestClassifier())]),\n             n_jobs=-1,\n             param_grid={'classifier__max_depth': [4, 6, 8],\n                         'classifier__max_features': ['sqrt', 'log2'],\n                         'classifier__n_estimators': [100, 200, 300]},\n             verbose=1)",
      "text/html": "<style>#sk-container-id-3 {color: black;background-color: white;}#sk-container-id-3 pre{padding: 0;}#sk-container-id-3 div.sk-toggleable {background-color: white;}#sk-container-id-3 label.sk-toggleable__label {cursor: pointer;display: block;width: 100%;margin-bottom: 0;padding: 0.3em;box-sizing: border-box;text-align: center;}#sk-container-id-3 label.sk-toggleable__label-arrow:before {content: \"▸\";float: left;margin-right: 0.25em;color: #696969;}#sk-container-id-3 label.sk-toggleable__label-arrow:hover:before {color: black;}#sk-container-id-3 div.sk-estimator:hover label.sk-toggleable__label-arrow:before {color: black;}#sk-container-id-3 div.sk-toggleable__content {max-height: 0;max-width: 0;overflow: hidden;text-align: left;background-color: #f0f8ff;}#sk-container-id-3 div.sk-toggleable__content pre {margin: 0.2em;color: black;border-radius: 0.25em;background-color: #f0f8ff;}#sk-container-id-3 input.sk-toggleable__control:checked~div.sk-toggleable__content {max-height: 200px;max-width: 100%;overflow: auto;}#sk-container-id-3 input.sk-toggleable__control:checked~label.sk-toggleable__label-arrow:before {content: \"▾\";}#sk-container-id-3 div.sk-estimator input.sk-toggleable__control:checked~label.sk-toggleable__label {background-color: #d4ebff;}#sk-container-id-3 div.sk-label input.sk-toggleable__control:checked~label.sk-toggleable__label {background-color: #d4ebff;}#sk-container-id-3 input.sk-hidden--visually {border: 0;clip: rect(1px 1px 1px 1px);clip: rect(1px, 1px, 1px, 1px);height: 1px;margin: -1px;overflow: hidden;padding: 0;position: absolute;width: 1px;}#sk-container-id-3 div.sk-estimator {font-family: monospace;background-color: #f0f8ff;border: 1px dotted black;border-radius: 0.25em;box-sizing: border-box;margin-bottom: 0.5em;}#sk-container-id-3 div.sk-estimator:hover {background-color: #d4ebff;}#sk-container-id-3 div.sk-parallel-item::after {content: \"\";width: 100%;border-bottom: 1px solid gray;flex-grow: 1;}#sk-container-id-3 div.sk-label:hover label.sk-toggleable__label {background-color: #d4ebff;}#sk-container-id-3 div.sk-serial::before {content: \"\";position: absolute;border-left: 1px solid gray;box-sizing: border-box;top: 0;bottom: 0;left: 50%;z-index: 0;}#sk-container-id-3 div.sk-serial {display: flex;flex-direction: column;align-items: center;background-color: white;padding-right: 0.2em;padding-left: 0.2em;position: relative;}#sk-container-id-3 div.sk-item {position: relative;z-index: 1;}#sk-container-id-3 div.sk-parallel {display: flex;align-items: stretch;justify-content: center;background-color: white;position: relative;}#sk-container-id-3 div.sk-item::before, #sk-container-id-3 div.sk-parallel-item::before {content: \"\";position: absolute;border-left: 1px solid gray;box-sizing: border-box;top: 0;bottom: 0;left: 50%;z-index: -1;}#sk-container-id-3 div.sk-parallel-item {display: flex;flex-direction: column;z-index: 1;position: relative;background-color: white;}#sk-container-id-3 div.sk-parallel-item:first-child::after {align-self: flex-end;width: 50%;}#sk-container-id-3 div.sk-parallel-item:last-child::after {align-self: flex-start;width: 50%;}#sk-container-id-3 div.sk-parallel-item:only-child::after {width: 0;}#sk-container-id-3 div.sk-dashed-wrapped {border: 1px dashed gray;margin: 0 0.4em 0.5em 0.4em;box-sizing: border-box;padding-bottom: 0.4em;background-color: white;}#sk-container-id-3 div.sk-label label {font-family: monospace;font-weight: bold;display: inline-block;line-height: 1.2em;}#sk-container-id-3 div.sk-label-container {text-align: center;}#sk-container-id-3 div.sk-container {/* jupyter's `normalize.less` sets `[hidden] { display: none; }` but bootstrap.min.css set `[hidden] { display: none !important; }` so we also need the `!important` here to be able to override the default hidden behavior on the sphinx rendered scikit-learn.org. See: https://github.com/scikit-learn/scikit-learn/issues/21755 */display: inline-block !important;position: relative;}#sk-container-id-3 div.sk-text-repr-fallback {display: none;}</style><div id=\"sk-container-id-3\" class=\"sk-top-container\"><div class=\"sk-text-repr-fallback\"><pre>GridSearchCV(estimator=Pipeline(steps=[(&#x27;scaler&#x27;, StandardScaler()),\n                                       (&#x27;classifier&#x27;,\n                                        RandomForestClassifier())]),\n             n_jobs=-1,\n             param_grid={&#x27;classifier__max_depth&#x27;: [4, 6, 8],\n                         &#x27;classifier__max_features&#x27;: [&#x27;sqrt&#x27;, &#x27;log2&#x27;],\n                         &#x27;classifier__n_estimators&#x27;: [100, 200, 300]},\n             verbose=1)</pre><b>In a Jupyter environment, please rerun this cell to show the HTML representation or trust the notebook. <br />On GitHub, the HTML representation is unable to render, please try loading this page with nbviewer.org.</b></div><div class=\"sk-container\" hidden><div class=\"sk-item sk-dashed-wrapped\"><div class=\"sk-label-container\"><div class=\"sk-label sk-toggleable\"><input class=\"sk-toggleable__control sk-hidden--visually\" id=\"sk-estimator-id-8\" type=\"checkbox\" ><label for=\"sk-estimator-id-8\" class=\"sk-toggleable__label sk-toggleable__label-arrow\">GridSearchCV</label><div class=\"sk-toggleable__content\"><pre>GridSearchCV(estimator=Pipeline(steps=[(&#x27;scaler&#x27;, StandardScaler()),\n                                       (&#x27;classifier&#x27;,\n                                        RandomForestClassifier())]),\n             n_jobs=-1,\n             param_grid={&#x27;classifier__max_depth&#x27;: [4, 6, 8],\n                         &#x27;classifier__max_features&#x27;: [&#x27;sqrt&#x27;, &#x27;log2&#x27;],\n                         &#x27;classifier__n_estimators&#x27;: [100, 200, 300]},\n             verbose=1)</pre></div></div></div><div class=\"sk-parallel\"><div class=\"sk-parallel-item\"><div class=\"sk-item\"><div class=\"sk-label-container\"><div class=\"sk-label sk-toggleable\"><input class=\"sk-toggleable__control sk-hidden--visually\" id=\"sk-estimator-id-9\" type=\"checkbox\" ><label for=\"sk-estimator-id-9\" class=\"sk-toggleable__label sk-toggleable__label-arrow\">estimator: Pipeline</label><div class=\"sk-toggleable__content\"><pre>Pipeline(steps=[(&#x27;scaler&#x27;, StandardScaler()),\n                (&#x27;classifier&#x27;, RandomForestClassifier())])</pre></div></div></div><div class=\"sk-serial\"><div class=\"sk-item\"><div class=\"sk-serial\"><div class=\"sk-item\"><div class=\"sk-estimator sk-toggleable\"><input class=\"sk-toggleable__control sk-hidden--visually\" id=\"sk-estimator-id-10\" type=\"checkbox\" ><label for=\"sk-estimator-id-10\" class=\"sk-toggleable__label sk-toggleable__label-arrow\">StandardScaler</label><div class=\"sk-toggleable__content\"><pre>StandardScaler()</pre></div></div></div><div class=\"sk-item\"><div class=\"sk-estimator sk-toggleable\"><input class=\"sk-toggleable__control sk-hidden--visually\" id=\"sk-estimator-id-11\" type=\"checkbox\" ><label for=\"sk-estimator-id-11\" class=\"sk-toggleable__label sk-toggleable__label-arrow\">RandomForestClassifier</label><div class=\"sk-toggleable__content\"><pre>RandomForestClassifier()</pre></div></div></div></div></div></div></div></div></div></div></div></div>"
     },
     "execution_count": 21,
     "metadata": {},
     "output_type": "execute_result"
    }
   ],
   "source": [
    "# Create a pipeline to search for the best parameters\n",
    "from sklearn.pipeline import Pipeline\n",
    "from sklearn.model_selection import GridSearchCV\n",
    "from sklearn.ensemble import RandomForestClassifier\n",
    "from sklearn.preprocessing import StandardScaler\n",
    "\n",
    "pipeline = Pipeline([\n",
    "    ('scaler', StandardScaler()),\n",
    "    ('classifier', RandomForestClassifier())\n",
    "])\n",
    "\n",
    "# Create a dictionary of parameters to try\n",
    "parameters = {\n",
    "    'classifier__n_estimators': [100, 200, 300],\n",
    "    'classifier__max_features': ['sqrt', 'log2'],\n",
    "    'classifier__max_depth': [4, 6, 8]\n",
    "}\n",
    "\n",
    "# Create a grid search object\n",
    "grid_search = GridSearchCV(pipeline, parameters, n_jobs=-1, verbose=1)\n",
    "\n",
    "# Fit the grid search object to the data\n",
    "grid_search.fit(X_train, y_train)"
   ],
   "metadata": {
    "collapsed": false,
    "pycharm": {
     "name": "#%%\n"
    }
   }
  },
  {
   "cell_type": "code",
   "execution_count": 22,
   "outputs": [
    {
     "name": "stdout",
     "output_type": "stream",
     "text": [
      "{'classifier__max_depth': 6, 'classifier__max_features': 'sqrt', 'classifier__n_estimators': 100}\n",
      "0.914179104477612\n"
     ]
    }
   ],
   "source": [
    "# View the best parameters\n",
    "print(grid_search.best_params_)\n",
    "\n",
    "# View the best score\n",
    "print(grid_search.best_score_)"
   ],
   "metadata": {
    "collapsed": false,
    "pycharm": {
     "name": "#%%\n"
    }
   }
  },
  {
   "cell_type": "code",
   "execution_count": 23,
   "outputs": [
    {
     "name": "stdout",
     "output_type": "stream",
     "text": [
      "{'mean_fit_time': array([0.18985729, 0.43246045, 0.58716421, 0.16662879, 0.36326733,\n",
      "       0.48079438, 0.18028626, 0.30078559, 0.44892206, 0.14310217,\n",
      "       0.28305516, 0.42853165, 0.15848222, 0.31637559, 0.48871613,\n",
      "       0.15177956, 0.3620542 , 0.53432589]), 'std_fit_time': array([0.00527157, 0.04796463, 0.04485121, 0.00898205, 0.0116462 ,\n",
      "       0.0484899 , 0.01695734, 0.0029687 , 0.00520086, 0.00201627,\n",
      "       0.00146612, 0.00524678, 0.00163352, 0.00551793, 0.02058451,\n",
      "       0.00510851, 0.07194673, 0.06549266]), 'mean_score_time': array([0.01361432, 0.02959638, 0.04024663, 0.01335702, 0.02373972,\n",
      "       0.03358531, 0.0116981 , 0.01931524, 0.0296649 , 0.01005478,\n",
      "       0.01969204, 0.02899871, 0.01069274, 0.02014942, 0.03744221,\n",
      "       0.01023469, 0.02587018, 0.02897801]), 'std_score_time': array([0.00283791, 0.00472303, 0.00526953, 0.00289833, 0.00137761,\n",
      "       0.00464056, 0.00258573, 0.00029684, 0.00078834, 0.00024646,\n",
      "       0.00040052, 0.00040407, 0.00057112, 0.00063306, 0.01060647,\n",
      "       0.00015265, 0.00462102, 0.00088282]), 'param_classifier__max_depth': masked_array(data=[4, 4, 4, 4, 4, 4, 6, 6, 6, 6, 6, 6, 8, 8, 8, 8, 8, 8],\n",
      "             mask=[False, False, False, False, False, False, False, False,\n",
      "                   False, False, False, False, False, False, False, False,\n",
      "                   False, False],\n",
      "       fill_value='?',\n",
      "            dtype=object), 'param_classifier__max_features': masked_array(data=['sqrt', 'sqrt', 'sqrt', 'log2', 'log2', 'log2', 'sqrt',\n",
      "                   'sqrt', 'sqrt', 'log2', 'log2', 'log2', 'sqrt', 'sqrt',\n",
      "                   'sqrt', 'log2', 'log2', 'log2'],\n",
      "             mask=[False, False, False, False, False, False, False, False,\n",
      "                   False, False, False, False, False, False, False, False,\n",
      "                   False, False],\n",
      "       fill_value='?',\n",
      "            dtype=object), 'param_classifier__n_estimators': masked_array(data=[100, 200, 300, 100, 200, 300, 100, 200, 300, 100, 200,\n",
      "                   300, 100, 200, 300, 100, 200, 300],\n",
      "             mask=[False, False, False, False, False, False, False, False,\n",
      "                   False, False, False, False, False, False, False, False,\n",
      "                   False, False],\n",
      "       fill_value='?',\n",
      "            dtype=object), 'params': [{'classifier__max_depth': 4, 'classifier__max_features': 'sqrt', 'classifier__n_estimators': 100}, {'classifier__max_depth': 4, 'classifier__max_features': 'sqrt', 'classifier__n_estimators': 200}, {'classifier__max_depth': 4, 'classifier__max_features': 'sqrt', 'classifier__n_estimators': 300}, {'classifier__max_depth': 4, 'classifier__max_features': 'log2', 'classifier__n_estimators': 100}, {'classifier__max_depth': 4, 'classifier__max_features': 'log2', 'classifier__n_estimators': 200}, {'classifier__max_depth': 4, 'classifier__max_features': 'log2', 'classifier__n_estimators': 300}, {'classifier__max_depth': 6, 'classifier__max_features': 'sqrt', 'classifier__n_estimators': 100}, {'classifier__max_depth': 6, 'classifier__max_features': 'sqrt', 'classifier__n_estimators': 200}, {'classifier__max_depth': 6, 'classifier__max_features': 'sqrt', 'classifier__n_estimators': 300}, {'classifier__max_depth': 6, 'classifier__max_features': 'log2', 'classifier__n_estimators': 100}, {'classifier__max_depth': 6, 'classifier__max_features': 'log2', 'classifier__n_estimators': 200}, {'classifier__max_depth': 6, 'classifier__max_features': 'log2', 'classifier__n_estimators': 300}, {'classifier__max_depth': 8, 'classifier__max_features': 'sqrt', 'classifier__n_estimators': 100}, {'classifier__max_depth': 8, 'classifier__max_features': 'sqrt', 'classifier__n_estimators': 200}, {'classifier__max_depth': 8, 'classifier__max_features': 'sqrt', 'classifier__n_estimators': 300}, {'classifier__max_depth': 8, 'classifier__max_features': 'log2', 'classifier__n_estimators': 100}, {'classifier__max_depth': 8, 'classifier__max_features': 'log2', 'classifier__n_estimators': 200}, {'classifier__max_depth': 8, 'classifier__max_features': 'log2', 'classifier__n_estimators': 300}], 'split0_test_score': array([0.90671642, 0.91044776, 0.90671642, 0.90298507, 0.90298507,\n",
      "       0.89925373, 0.92164179, 0.92537313, 0.91791045, 0.92164179,\n",
      "       0.92537313, 0.92164179, 0.92164179, 0.92164179, 0.92537313,\n",
      "       0.92537313, 0.92537313, 0.92537313]), 'split1_test_score': array([0.89925373, 0.90298507, 0.89925373, 0.90298507, 0.90298507,\n",
      "       0.89925373, 0.90298507, 0.89925373, 0.89925373, 0.89925373,\n",
      "       0.90298507, 0.90298507, 0.89552239, 0.89552239, 0.89925373,\n",
      "       0.89925373, 0.89925373, 0.89925373]), 'split2_test_score': array([0.91044776, 0.9141791 , 0.91044776, 0.9141791 , 0.91044776,\n",
      "       0.91044776, 0.92164179, 0.92164179, 0.92164179, 0.92910448,\n",
      "       0.92537313, 0.91791045, 0.9141791 , 0.92537313, 0.92164179,\n",
      "       0.92164179, 0.92164179, 0.92537313]), 'split3_test_score': array([0.89552239, 0.89179104, 0.89925373, 0.89925373, 0.89552239,\n",
      "       0.89179104, 0.90671642, 0.90671642, 0.90671642, 0.90671642,\n",
      "       0.90298507, 0.90298507, 0.89925373, 0.89925373, 0.90298507,\n",
      "       0.90298507, 0.90298507, 0.90298507]), 'split4_test_score': array([0.89925373, 0.90298507, 0.89925373, 0.90671642, 0.89552239,\n",
      "       0.90671642, 0.91791045, 0.91044776, 0.91044776, 0.91044776,\n",
      "       0.91044776, 0.91044776, 0.90671642, 0.9141791 , 0.9141791 ,\n",
      "       0.91044776, 0.9141791 , 0.9141791 ]), 'mean_test_score': array([0.90223881, 0.90447761, 0.90298507, 0.90522388, 0.90149254,\n",
      "       0.90149254, 0.9141791 , 0.91268657, 0.91119403, 0.91343284,\n",
      "       0.91343284, 0.91119403, 0.90746269, 0.91119403, 0.91268657,\n",
      "       0.9119403 , 0.91268657, 0.91343284]), 'std_test_score': array([0.00548393, 0.00768331, 0.00471982, 0.00506144, 0.00558456,\n",
      "       0.00650582, 0.00782693, 0.009615  , 0.00796797, 0.01065885,\n",
      "       0.01012288, 0.00761048, 0.0095569 , 0.01189357, 0.01017775,\n",
      "       0.01017775, 0.01017775, 0.01091697]), 'rank_test_score': array([16, 14, 15, 13, 17, 17,  1,  5,  9,  2,  2,  9, 12,  9,  5,  8,  5,\n",
      "        2], dtype=int32)}\n"
     ]
    }
   ],
   "source": [
    "# View the complete results\n",
    "print(grid_search.cv_results_)"
   ],
   "metadata": {
    "collapsed": false,
    "pycharm": {
     "name": "#%%\n"
    }
   }
  },
  {
   "cell_type": "code",
   "execution_count": 24,
   "outputs": [
    {
     "name": "stdout",
     "output_type": "stream",
     "text": [
      "0.902239 (0.005484) with: {'classifier__max_depth': 4, 'classifier__max_features': 'sqrt', 'classifier__n_estimators': 100}\n",
      "0.904478 (0.007683) with: {'classifier__max_depth': 4, 'classifier__max_features': 'sqrt', 'classifier__n_estimators': 200}\n",
      "0.902985 (0.004720) with: {'classifier__max_depth': 4, 'classifier__max_features': 'sqrt', 'classifier__n_estimators': 300}\n",
      "0.905224 (0.005061) with: {'classifier__max_depth': 4, 'classifier__max_features': 'log2', 'classifier__n_estimators': 100}\n",
      "0.901493 (0.005585) with: {'classifier__max_depth': 4, 'classifier__max_features': 'log2', 'classifier__n_estimators': 200}\n",
      "0.901493 (0.006506) with: {'classifier__max_depth': 4, 'classifier__max_features': 'log2', 'classifier__n_estimators': 300}\n",
      "0.914179 (0.007827) with: {'classifier__max_depth': 6, 'classifier__max_features': 'sqrt', 'classifier__n_estimators': 100}\n",
      "0.912687 (0.009615) with: {'classifier__max_depth': 6, 'classifier__max_features': 'sqrt', 'classifier__n_estimators': 200}\n",
      "0.911194 (0.007968) with: {'classifier__max_depth': 6, 'classifier__max_features': 'sqrt', 'classifier__n_estimators': 300}\n",
      "0.913433 (0.010659) with: {'classifier__max_depth': 6, 'classifier__max_features': 'log2', 'classifier__n_estimators': 100}\n",
      "0.913433 (0.010123) with: {'classifier__max_depth': 6, 'classifier__max_features': 'log2', 'classifier__n_estimators': 200}\n",
      "0.911194 (0.007610) with: {'classifier__max_depth': 6, 'classifier__max_features': 'log2', 'classifier__n_estimators': 300}\n",
      "0.907463 (0.009557) with: {'classifier__max_depth': 8, 'classifier__max_features': 'sqrt', 'classifier__n_estimators': 100}\n",
      "0.911194 (0.011894) with: {'classifier__max_depth': 8, 'classifier__max_features': 'sqrt', 'classifier__n_estimators': 200}\n",
      "0.912687 (0.010178) with: {'classifier__max_depth': 8, 'classifier__max_features': 'sqrt', 'classifier__n_estimators': 300}\n",
      "0.911940 (0.010178) with: {'classifier__max_depth': 8, 'classifier__max_features': 'log2', 'classifier__n_estimators': 100}\n",
      "0.912687 (0.010178) with: {'classifier__max_depth': 8, 'classifier__max_features': 'log2', 'classifier__n_estimators': 200}\n",
      "0.913433 (0.010917) with: {'classifier__max_depth': 8, 'classifier__max_features': 'log2', 'classifier__n_estimators': 300}\n"
     ]
    }
   ],
   "source": [
    "# View the mean test score for each parameter combination\n",
    "means = grid_search.cv_results_['mean_test_score']\n",
    "stds = grid_search.cv_results_['std_test_score']\n",
    "params = grid_search.cv_results_['params']\n",
    "for mean, stdev, param in zip(means, stds, params):\n",
    "    print(\"%f (%f) with: %r\" % (mean, stdev, param))"
   ],
   "metadata": {
    "collapsed": false,
    "pycharm": {
     "name": "#%%\n"
    }
   }
  },
  {
   "cell_type": "code",
   "execution_count": 25,
   "outputs": [
    {
     "name": "stdout",
     "output_type": "stream",
     "text": [
      "Pipeline(steps=[('scaler', StandardScaler()),\n",
      "                ('classifier', RandomForestClassifier(max_depth=6))])\n"
     ]
    }
   ],
   "source": [
    "# View the best model\n",
    "print(grid_search.best_estimator_)"
   ],
   "metadata": {
    "collapsed": false,
    "pycharm": {
     "name": "#%%\n"
    }
   }
  },
  {
   "cell_type": "code",
   "execution_count": 26,
   "outputs": [],
   "source": [
    "# Predict on the test set\n",
    "y_pred = grid_search.predict(X_test)"
   ],
   "metadata": {
    "collapsed": false,
    "pycharm": {
     "name": "#%%\n"
    }
   }
  },
  {
   "cell_type": "code",
   "execution_count": 27,
   "outputs": [
    {
     "name": "stdout",
     "output_type": "stream",
     "text": [
      "0.8988095238095238\n"
     ]
    }
   ],
   "source": [
    "# Evaluate the model\n",
    "from sklearn.metrics import accuracy_score\n",
    "print(accuracy_score(y_test, y_pred))"
   ],
   "metadata": {
    "collapsed": false,
    "pycharm": {
     "name": "#%%\n"
    }
   }
  }
 ],
 "metadata": {
  "kernelspec": {
   "display_name": "Python 3",
   "language": "python",
   "name": "python3"
  },
  "language_info": {
   "codemirror_mode": {
    "name": "ipython",
    "version": 2
   },
   "file_extension": ".py",
   "mimetype": "text/x-python",
   "name": "python",
   "nbconvert_exporter": "python",
   "pygments_lexer": "ipython2",
   "version": "2.7.6"
  }
 },
 "nbformat": 4,
 "nbformat_minor": 0
}