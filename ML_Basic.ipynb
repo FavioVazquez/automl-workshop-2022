{
 "cells": [
  {
   "cell_type": "markdown",
   "source": [
    "# Machine learning: La forma clásica"
   ],
   "metadata": {
    "collapsed": false,
    "pycharm": {
     "name": "#%% md\n"
    }
   }
  },
  {
   "cell_type": "markdown",
   "source": [
    "## Cargar datos y crear características básicas"
   ],
   "metadata": {
    "collapsed": false,
    "pycharm": {
     "name": "#%% md\n"
    }
   }
  },
  {
   "cell_type": "code",
   "execution_count": 15,
   "outputs": [],
   "source": [
    "# Import pandas\n",
    "import pandas as pd"
   ],
   "metadata": {
    "collapsed": false,
    "pycharm": {
     "name": "#%%\n"
    }
   }
  },
  {
   "cell_type": "code",
   "execution_count": 16,
   "outputs": [],
   "source": [
    "# Load data\n",
    "df = pd.read_csv(\"data/attrition.csv\")"
   ],
   "metadata": {
    "collapsed": false,
    "pycharm": {
     "name": "#%%\n"
    }
   }
  },
  {
   "cell_type": "code",
   "execution_count": 17,
   "outputs": [
    {
     "data": {
      "text/plain": "   EmployeeID  Age Attrition     BusinessTravel  DailyRate  Department  \\\n0     1313919   41        No      Travel_Rarely       1102  Cardiology   \n1     1200302   49        No  Travel_Frequently        279   Maternity   \n2     1060315   37       Yes      Travel_Rarely       1373   Maternity   \n3     1272912   33        No  Travel_Frequently       1392   Maternity   \n4     1414939   27        No      Travel_Rarely        591   Maternity   \n\n   DistanceFromHome  Education EducationField  EmployeeCount  ...  \\\n0                 1          2  Life Sciences              1  ...   \n1                 8          1  Life Sciences              1  ...   \n2                 2          2          Other              1  ...   \n3                 3          4  Life Sciences              1  ...   \n4                 2          1        Medical              1  ...   \n\n   RelationshipSatisfaction StandardHours  Shift  TotalWorkingYears  \\\n0                         1            80      0                  8   \n1                         4            80      1                 10   \n2                         2            80      0                  7   \n3                         3            80      0                  8   \n4                         4            80      1                  6   \n\n   TrainingTimesLastYear WorkLifeBalance  YearsAtCompany YearsInCurrentRole  \\\n0                      0               1               6                  4   \n1                      3               3              10                  7   \n2                      3               3               0                  0   \n3                      3               3               8                  7   \n4                      3               3               2                  2   \n\n   YearsSinceLastPromotion  YearsWithCurrManager  \n0                        0                     5  \n1                        1                     7  \n2                        0                     0  \n3                        3                     0  \n4                        2                     2  \n\n[5 rows x 35 columns]",
      "text/html": "<div>\n<style scoped>\n    .dataframe tbody tr th:only-of-type {\n        vertical-align: middle;\n    }\n\n    .dataframe tbody tr th {\n        vertical-align: top;\n    }\n\n    .dataframe thead th {\n        text-align: right;\n    }\n</style>\n<table border=\"1\" class=\"dataframe\">\n  <thead>\n    <tr style=\"text-align: right;\">\n      <th></th>\n      <th>EmployeeID</th>\n      <th>Age</th>\n      <th>Attrition</th>\n      <th>BusinessTravel</th>\n      <th>DailyRate</th>\n      <th>Department</th>\n      <th>DistanceFromHome</th>\n      <th>Education</th>\n      <th>EducationField</th>\n      <th>EmployeeCount</th>\n      <th>...</th>\n      <th>RelationshipSatisfaction</th>\n      <th>StandardHours</th>\n      <th>Shift</th>\n      <th>TotalWorkingYears</th>\n      <th>TrainingTimesLastYear</th>\n      <th>WorkLifeBalance</th>\n      <th>YearsAtCompany</th>\n      <th>YearsInCurrentRole</th>\n      <th>YearsSinceLastPromotion</th>\n      <th>YearsWithCurrManager</th>\n    </tr>\n  </thead>\n  <tbody>\n    <tr>\n      <th>0</th>\n      <td>1313919</td>\n      <td>41</td>\n      <td>No</td>\n      <td>Travel_Rarely</td>\n      <td>1102</td>\n      <td>Cardiology</td>\n      <td>1</td>\n      <td>2</td>\n      <td>Life Sciences</td>\n      <td>1</td>\n      <td>...</td>\n      <td>1</td>\n      <td>80</td>\n      <td>0</td>\n      <td>8</td>\n      <td>0</td>\n      <td>1</td>\n      <td>6</td>\n      <td>4</td>\n      <td>0</td>\n      <td>5</td>\n    </tr>\n    <tr>\n      <th>1</th>\n      <td>1200302</td>\n      <td>49</td>\n      <td>No</td>\n      <td>Travel_Frequently</td>\n      <td>279</td>\n      <td>Maternity</td>\n      <td>8</td>\n      <td>1</td>\n      <td>Life Sciences</td>\n      <td>1</td>\n      <td>...</td>\n      <td>4</td>\n      <td>80</td>\n      <td>1</td>\n      <td>10</td>\n      <td>3</td>\n      <td>3</td>\n      <td>10</td>\n      <td>7</td>\n      <td>1</td>\n      <td>7</td>\n    </tr>\n    <tr>\n      <th>2</th>\n      <td>1060315</td>\n      <td>37</td>\n      <td>Yes</td>\n      <td>Travel_Rarely</td>\n      <td>1373</td>\n      <td>Maternity</td>\n      <td>2</td>\n      <td>2</td>\n      <td>Other</td>\n      <td>1</td>\n      <td>...</td>\n      <td>2</td>\n      <td>80</td>\n      <td>0</td>\n      <td>7</td>\n      <td>3</td>\n      <td>3</td>\n      <td>0</td>\n      <td>0</td>\n      <td>0</td>\n      <td>0</td>\n    </tr>\n    <tr>\n      <th>3</th>\n      <td>1272912</td>\n      <td>33</td>\n      <td>No</td>\n      <td>Travel_Frequently</td>\n      <td>1392</td>\n      <td>Maternity</td>\n      <td>3</td>\n      <td>4</td>\n      <td>Life Sciences</td>\n      <td>1</td>\n      <td>...</td>\n      <td>3</td>\n      <td>80</td>\n      <td>0</td>\n      <td>8</td>\n      <td>3</td>\n      <td>3</td>\n      <td>8</td>\n      <td>7</td>\n      <td>3</td>\n      <td>0</td>\n    </tr>\n    <tr>\n      <th>4</th>\n      <td>1414939</td>\n      <td>27</td>\n      <td>No</td>\n      <td>Travel_Rarely</td>\n      <td>591</td>\n      <td>Maternity</td>\n      <td>2</td>\n      <td>1</td>\n      <td>Medical</td>\n      <td>1</td>\n      <td>...</td>\n      <td>4</td>\n      <td>80</td>\n      <td>1</td>\n      <td>6</td>\n      <td>3</td>\n      <td>3</td>\n      <td>2</td>\n      <td>2</td>\n      <td>2</td>\n      <td>2</td>\n    </tr>\n  </tbody>\n</table>\n<p>5 rows × 35 columns</p>\n</div>"
     },
     "execution_count": 17,
     "metadata": {},
     "output_type": "execute_result"
    }
   ],
   "source": [
    "# Show first 5 rows\n",
    "df.head()"
   ],
   "metadata": {
    "collapsed": false,
    "pycharm": {
     "name": "#%%\n"
    }
   }
  },
  {
   "cell_type": "code",
   "execution_count": 18,
   "outputs": [],
   "source": [
    "# Dummy encoding\n",
    "df = pd.get_dummies(df)"
   ],
   "metadata": {
    "collapsed": false,
    "pycharm": {
     "name": "#%%\n"
    }
   }
  },
  {
   "cell_type": "code",
   "execution_count": 19,
   "outputs": [
    {
     "data": {
      "text/plain": "   EmployeeID  Age  DailyRate  DistanceFromHome  Education  EmployeeCount  \\\n0     1313919   41       1102                 1          2              1   \n1     1200302   49        279                 8          1              1   \n2     1060315   37       1373                 2          2              1   \n3     1272912   33       1392                 3          4              1   \n4     1414939   27        591                 2          1              1   \n\n   EnvironmentSatisfaction  HourlyRate  JobInvolvement  JobLevel  ...  \\\n0                        2          94               3         2  ...   \n1                        3          61               2         2  ...   \n2                        4          92               2         1  ...   \n3                        4          56               3         1  ...   \n4                        1          40               3         1  ...   \n\n   JobRole_Administrative  JobRole_Nurse  JobRole_Other  JobRole_Therapist  \\\n0                       0              1              0                  0   \n1                       0              0              1                  0   \n2                       0              1              0                  0   \n3                       0              0              1                  0   \n4                       0              1              0                  0   \n\n   MaritalStatus_Divorced  MaritalStatus_Married  MaritalStatus_Single  \\\n0                       0                      0                     1   \n1                       0                      1                     0   \n2                       0                      0                     1   \n3                       0                      1                     0   \n4                       0                      1                     0   \n\n   Over18_Y  OverTime_No  OverTime_Yes  \n0         1            0             1  \n1         1            1             0  \n2         1            0             1  \n3         1            0             1  \n4         1            1             0  \n\n[5 rows x 53 columns]",
      "text/html": "<div>\n<style scoped>\n    .dataframe tbody tr th:only-of-type {\n        vertical-align: middle;\n    }\n\n    .dataframe tbody tr th {\n        vertical-align: top;\n    }\n\n    .dataframe thead th {\n        text-align: right;\n    }\n</style>\n<table border=\"1\" class=\"dataframe\">\n  <thead>\n    <tr style=\"text-align: right;\">\n      <th></th>\n      <th>EmployeeID</th>\n      <th>Age</th>\n      <th>DailyRate</th>\n      <th>DistanceFromHome</th>\n      <th>Education</th>\n      <th>EmployeeCount</th>\n      <th>EnvironmentSatisfaction</th>\n      <th>HourlyRate</th>\n      <th>JobInvolvement</th>\n      <th>JobLevel</th>\n      <th>...</th>\n      <th>JobRole_Administrative</th>\n      <th>JobRole_Nurse</th>\n      <th>JobRole_Other</th>\n      <th>JobRole_Therapist</th>\n      <th>MaritalStatus_Divorced</th>\n      <th>MaritalStatus_Married</th>\n      <th>MaritalStatus_Single</th>\n      <th>Over18_Y</th>\n      <th>OverTime_No</th>\n      <th>OverTime_Yes</th>\n    </tr>\n  </thead>\n  <tbody>\n    <tr>\n      <th>0</th>\n      <td>1313919</td>\n      <td>41</td>\n      <td>1102</td>\n      <td>1</td>\n      <td>2</td>\n      <td>1</td>\n      <td>2</td>\n      <td>94</td>\n      <td>3</td>\n      <td>2</td>\n      <td>...</td>\n      <td>0</td>\n      <td>1</td>\n      <td>0</td>\n      <td>0</td>\n      <td>0</td>\n      <td>0</td>\n      <td>1</td>\n      <td>1</td>\n      <td>0</td>\n      <td>1</td>\n    </tr>\n    <tr>\n      <th>1</th>\n      <td>1200302</td>\n      <td>49</td>\n      <td>279</td>\n      <td>8</td>\n      <td>1</td>\n      <td>1</td>\n      <td>3</td>\n      <td>61</td>\n      <td>2</td>\n      <td>2</td>\n      <td>...</td>\n      <td>0</td>\n      <td>0</td>\n      <td>1</td>\n      <td>0</td>\n      <td>0</td>\n      <td>1</td>\n      <td>0</td>\n      <td>1</td>\n      <td>1</td>\n      <td>0</td>\n    </tr>\n    <tr>\n      <th>2</th>\n      <td>1060315</td>\n      <td>37</td>\n      <td>1373</td>\n      <td>2</td>\n      <td>2</td>\n      <td>1</td>\n      <td>4</td>\n      <td>92</td>\n      <td>2</td>\n      <td>1</td>\n      <td>...</td>\n      <td>0</td>\n      <td>1</td>\n      <td>0</td>\n      <td>0</td>\n      <td>0</td>\n      <td>0</td>\n      <td>1</td>\n      <td>1</td>\n      <td>0</td>\n      <td>1</td>\n    </tr>\n    <tr>\n      <th>3</th>\n      <td>1272912</td>\n      <td>33</td>\n      <td>1392</td>\n      <td>3</td>\n      <td>4</td>\n      <td>1</td>\n      <td>4</td>\n      <td>56</td>\n      <td>3</td>\n      <td>1</td>\n      <td>...</td>\n      <td>0</td>\n      <td>0</td>\n      <td>1</td>\n      <td>0</td>\n      <td>0</td>\n      <td>1</td>\n      <td>0</td>\n      <td>1</td>\n      <td>0</td>\n      <td>1</td>\n    </tr>\n    <tr>\n      <th>4</th>\n      <td>1414939</td>\n      <td>27</td>\n      <td>591</td>\n      <td>2</td>\n      <td>1</td>\n      <td>1</td>\n      <td>1</td>\n      <td>40</td>\n      <td>3</td>\n      <td>1</td>\n      <td>...</td>\n      <td>0</td>\n      <td>1</td>\n      <td>0</td>\n      <td>0</td>\n      <td>0</td>\n      <td>1</td>\n      <td>0</td>\n      <td>1</td>\n      <td>1</td>\n      <td>0</td>\n    </tr>\n  </tbody>\n</table>\n<p>5 rows × 53 columns</p>\n</div>"
     },
     "execution_count": 19,
     "metadata": {},
     "output_type": "execute_result"
    }
   ],
   "source": [
    "# Show first 5 rows\n",
    "df.head()"
   ],
   "metadata": {
    "collapsed": false,
    "pycharm": {
     "name": "#%%\n"
    }
   }
  },
  {
   "cell_type": "code",
   "execution_count": 20,
   "outputs": [],
   "source": [
    "# Rename column attrition_yes to attrition\n",
    "df.rename(columns={'Attrition_Yes': 'Attrition'}, inplace=True)"
   ],
   "metadata": {
    "collapsed": false,
    "pycharm": {
     "name": "#%%\n"
    }
   }
  },
  {
   "cell_type": "code",
   "execution_count": 21,
   "outputs": [],
   "source": [
    "# Drop column Attrition_no\n",
    "df = df.drop(columns=['Attrition_No'])"
   ],
   "metadata": {
    "collapsed": false,
    "pycharm": {
     "name": "#%%\n"
    }
   }
  },
  {
   "cell_type": "code",
   "execution_count": 61,
   "outputs": [],
   "source": [
    "# Drop employee id\n",
    "df = df.drop(columns=['EmployeeID'])"
   ],
   "metadata": {
    "collapsed": false,
    "pycharm": {
     "name": "#%%\n"
    }
   }
  },
  {
   "cell_type": "markdown",
   "source": [
    "## Modelo: clasiificación binaria"
   ],
   "metadata": {
    "collapsed": false,
    "pycharm": {
     "name": "#%% md\n"
    }
   }
  },
  {
   "cell_type": "code",
   "execution_count": 62,
   "outputs": [],
   "source": [
    "# Create X and y\n",
    "X = df.drop(columns=['Attrition'])\n",
    "y = df['Attrition']"
   ],
   "metadata": {
    "collapsed": false,
    "pycharm": {
     "name": "#%%\n"
    }
   }
  },
  {
   "cell_type": "code",
   "execution_count": 63,
   "outputs": [
    {
     "data": {
      "text/plain": "RFECV(cv=5, estimator=RandomForestClassifier(), min_features_to_select=10,\n      scoring='accuracy')"
     },
     "execution_count": 63,
     "metadata": {},
     "output_type": "execute_result"
    }
   ],
   "source": [
    "# Find best variables with RFECV\n",
    "from sklearn.feature_selection import RFECV\n",
    "from sklearn.ensemble import RandomForestClassifier\n",
    "\n",
    "# Create the RFE object and compute a cross-validated score.\n",
    "rfecv = RFECV(estimator=RandomForestClassifier(), step=1, cv=5, scoring='accuracy', min_features_to_select=10)\n",
    "rfecv.fit(X, y)"
   ],
   "metadata": {
    "collapsed": false,
    "pycharm": {
     "name": "#%%\n"
    }
   }
  },
  {
   "cell_type": "code",
   "execution_count": 64,
   "outputs": [],
   "source": [
    "# Transform the dataframe to show the selected features\n",
    "X_selected = rfecv.transform(X)"
   ],
   "metadata": {
    "collapsed": false,
    "pycharm": {
     "name": "#%%\n"
    }
   }
  },
  {
   "cell_type": "code",
   "execution_count": 66,
   "outputs": [
    {
     "data": {
      "text/plain": "array(['Age', 'DailyRate', 'DistanceFromHome', 'Education',\n       'EmployeeCount', 'EnvironmentSatisfaction', 'HourlyRate',\n       'JobInvolvement', 'JobLevel', 'JobSatisfaction', 'MonthlyIncome',\n       'MonthlyRate', 'NumCompaniesWorked', 'PercentSalaryHike',\n       'PerformanceRating', 'RelationshipSatisfaction', 'Shift',\n       'TotalWorkingYears', 'TrainingTimesLastYear', 'WorkLifeBalance',\n       'YearsAtCompany', 'YearsInCurrentRole', 'YearsSinceLastPromotion',\n       'YearsWithCurrManager', 'BusinessTravel_Non-Travel',\n       'BusinessTravel_Travel_Frequently', 'BusinessTravel_Travel_Rarely',\n       'Department_Cardiology', 'Department_Maternity',\n       'Department_Neurology', 'EducationField_Human Resources',\n       'EducationField_Life Sciences', 'EducationField_Marketing',\n       'EducationField_Medical', 'EducationField_Other',\n       'EducationField_Technical Degree', 'Gender_Female', 'Gender_Male',\n       'JobRole_Admin', 'JobRole_Administrative', 'JobRole_Nurse',\n       'JobRole_Other', 'JobRole_Therapist', 'MaritalStatus_Divorced',\n       'MaritalStatus_Married', 'MaritalStatus_Single', 'Over18_Y',\n       'OverTime_No', 'OverTime_Yes'], dtype=object)"
     },
     "execution_count": 66,
     "metadata": {},
     "output_type": "execute_result"
    }
   ],
   "source": [
    "rfecv.get_feature_names_out()"
   ],
   "metadata": {
    "collapsed": false,
    "pycharm": {
     "name": "#%%\n"
    }
   }
  },
  {
   "cell_type": "code",
   "execution_count": 67,
   "outputs": [],
   "source": [
    "# Split data into train and test\n",
    "from sklearn.model_selection import train_test_split\n",
    "X_train, X_test, y_train, y_test = train_test_split(X_selected, y, test_size=0.2, random_state=0)"
   ],
   "metadata": {
    "collapsed": false,
    "pycharm": {
     "name": "#%%\n"
    }
   }
  },
  {
   "cell_type": "code",
   "execution_count": 68,
   "outputs": [
    {
     "name": "stdout",
     "output_type": "stream",
     "text": [
      "0.9166666666666666\n"
     ]
    }
   ],
   "source": [
    "# Create baseline model using Random Forest Classifier\n",
    "from sklearn.ensemble import RandomForestClassifier\n",
    "model = RandomForestClassifier(n_estimators=100, random_state=0)\n",
    "\n",
    "# Fit the model\n",
    "model.fit(X_train, y_train)\n",
    "\n",
    "# Predict on the test set\n",
    "y_pred = model.predict(X_test)\n",
    "\n",
    "# Evaluate the model\n",
    "from sklearn.metrics import accuracy_score\n",
    "print(accuracy_score(y_test, y_pred))"
   ],
   "metadata": {
    "collapsed": false,
    "pycharm": {
     "name": "#%%\n"
    }
   }
  },
  {
   "cell_type": "code",
   "execution_count": 79,
   "outputs": [
    {
     "data": {
      "text/plain": "<Figure size 432x288 with 1 Axes>",
      "image/png": "[encoded data removed]"
     },
     "metadata": {
      "needs_background": "light"
     },
     "output_type": "display_data"
    },
    {
     "data": {
      "text/plain": "<Figure size 864x864 with 0 Axes>"
     },
     "metadata": {},
     "output_type": "display_data"
    }
   ],
   "source": [
    "# Plot variable importance from the random forest\n",
    "import matplotlib.pyplot as plt\n",
    "\n",
    "feature_names = rfecv.get_feature_names_out().tolist()\n",
    "importances = model.feature_importances_\n",
    "forest_importances = pd.Series(importances, index=feature_names)\n",
    "forest_importances.nlargest(10).plot(kind='barh').invert_yaxis()\n",
    "# increase the font size\n",
    "plt.rcParams.update({'font.size': 12})\n",
    "# add title and labels\n",
    "plt.title('Variable Importance')\n",
    "plt.xlabel('Importance')\n",
    "plt.ylabel('Variable')\n",
    "# increase the size of the plot\n",
    "plt.figure(figsize=(12, 12))\n",
    "# show the plot\n",
    "plt.show()"
   ],
   "metadata": {
    "collapsed": false,
    "pycharm": {
     "name": "#%%\n"
    }
   }
  },
  {
   "cell_type": "markdown",
   "source": [
    "## Modelo: clasificación binaria con grid search y cross validation"
   ],
   "metadata": {
    "collapsed": false,
    "pycharm": {
     "name": "#%% md\n"
    }
   }
  },
  {
   "cell_type": "code",
   "execution_count": 85,
   "outputs": [
    {
     "name": "stdout",
     "output_type": "stream",
     "text": [
      "Fitting 5 folds for each of 27 candidates, totalling 135 fits\n"
     ]
    },
    {
     "data": {
      "text/plain": "GridSearchCV(estimator=Pipeline(steps=[('scaler', StandardScaler()),\n                                       ('classifier',\n                                        RandomForestClassifier())]),\n             n_jobs=-1,\n             param_grid={'classifier__max_depth': [4, 6, 8],\n                         'classifier__max_features': ['auto', 'sqrt', 'log2'],\n                         'classifier__n_estimators': [100, 200, 300]},\n             verbose=1)"
     },
     "execution_count": 85,
     "metadata": {},
     "output_type": "execute_result"
    }
   ],
   "source": [
    "# Create a pipeline to search for the best parameters\n",
    "from sklearn.pipeline import Pipeline\n",
    "from sklearn.model_selection import GridSearchCV\n",
    "from sklearn.ensemble import RandomForestClassifier\n",
    "from sklearn.preprocessing import StandardScaler\n",
    "\n",
    "pipeline = Pipeline([\n",
    "    ('scaler', StandardScaler()),\n",
    "    ('classifier', RandomForestClassifier())\n",
    "])\n",
    "\n",
    "# Create a dictionary of parameters to try\n",
    "parameters = {\n",
    "    'classifier__n_estimators': [100, 200, 300],\n",
    "    'classifier__max_features': ['auto', 'sqrt', 'log2'],\n",
    "    'classifier__max_depth': [4, 6, 8]\n",
    "}\n",
    "\n",
    "# Create a grid search object\n",
    "grid_search = GridSearchCV(pipeline, parameters, n_jobs=-1, verbose=1)\n",
    "\n",
    "# Fit the grid search object to the data\n",
    "grid_search.fit(X_train, y_train)"
   ],
   "metadata": {
    "collapsed": false,
    "pycharm": {
     "name": "#%%\n"
    }
   }
  },
  {
   "cell_type": "code",
   "execution_count": 86,
   "outputs": [
    {
     "name": "stdout",
     "output_type": "stream",
     "text": [
      "{'classifier__max_depth': 6, 'classifier__max_features': 'auto', 'classifier__n_estimators': 200}\n",
      "0.914179104477612\n"
     ]
    }
   ],
   "source": [
    "# View the best parameters\n",
    "print(grid_search.best_params_)\n",
    "\n",
    "# View the best score\n",
    "print(grid_search.best_score_)"
   ],
   "metadata": {
    "collapsed": false,
    "pycharm": {
     "name": "#%%\n"
    }
   }
  },
  {
   "cell_type": "code",
   "execution_count": 87,
   "outputs": [
    {
     "name": "stdout",
     "output_type": "stream",
     "text": [
      "{'mean_fit_time': array([0.34231682, 0.67154651, 0.83358779, 0.26237621, 0.49916162,\n",
      "       0.74439015, 0.23897657, 0.47230444, 0.70314393, 0.27398825,\n",
      "       0.54776964, 0.84446177, 0.28304982, 0.55912991, 0.82035432,\n",
      "       0.24905   , 0.49225535, 0.76536479, 0.2885941 , 0.57743239,\n",
      "       0.85332322, 0.28601804, 0.57421789, 0.88161144, 0.26543608,\n",
      "       0.55064425, 0.67340431]), 'std_fit_time': array([0.01860156, 0.01174848, 0.08274671, 0.01475138, 0.05216722,\n",
      "       0.00470659, 0.00370875, 0.00493905, 0.00314049, 0.00635483,\n",
      "       0.00869637, 0.00913752, 0.00424689, 0.00525096, 0.00619515,\n",
      "       0.00718347, 0.00711374, 0.00668532, 0.0078021 , 0.00892589,\n",
      "       0.01087157, 0.00081788, 0.01396143, 0.03184875, 0.00443457,\n",
      "       0.00838123, 0.05928673]), 'mean_score_time': array([0.03715858, 0.03939457, 0.05794711, 0.02010798, 0.04157324,\n",
      "       0.05063424, 0.01922545, 0.0365664 , 0.04706054, 0.01930203,\n",
      "       0.03645439, 0.05746503, 0.0190134 , 0.03789425, 0.06216202,\n",
      "       0.0165925 , 0.03954182, 0.05348964, 0.019802  , 0.03465128,\n",
      "       0.05835571, 0.01829019, 0.03792129, 0.0521348 , 0.01854773,\n",
      "       0.03748193, 0.03651233]), 'std_score_time': array([0.01114225, 0.00377735, 0.00088639, 0.00227555, 0.00125154,\n",
      "       0.00221226, 0.00219   , 0.0016435 , 0.00107116, 0.00434103,\n",
      "       0.00491106, 0.00270187, 0.00142803, 0.00232754, 0.00380281,\n",
      "       0.00022814, 0.00730778, 0.00602862, 0.00182491, 0.00287063,\n",
      "       0.00667236, 0.00143123, 0.0063169 , 0.00375849, 0.00126227,\n",
      "       0.00656476, 0.00446182]), 'param_classifier__max_depth': masked_array(data=[4, 4, 4, 4, 4, 4, 4, 4, 4, 6, 6, 6, 6, 6, 6, 6, 6, 6,\n",
      "                   8, 8, 8, 8, 8, 8, 8, 8, 8],\n",
      "             mask=[False, False, False, False, False, False, False, False,\n",
      "                   False, False, False, False, False, False, False, False,\n",
      "                   False, False, False, False, False, False, False, False,\n",
      "                   False, False, False],\n",
      "       fill_value='?',\n",
      "            dtype=object), 'param_classifier__max_features': masked_array(data=['auto', 'auto', 'auto', 'sqrt', 'sqrt', 'sqrt', 'log2',\n",
      "                   'log2', 'log2', 'auto', 'auto', 'auto', 'sqrt', 'sqrt',\n",
      "                   'sqrt', 'log2', 'log2', 'log2', 'auto', 'auto', 'auto',\n",
      "                   'sqrt', 'sqrt', 'sqrt', 'log2', 'log2', 'log2'],\n",
      "             mask=[False, False, False, False, False, False, False, False,\n",
      "                   False, False, False, False, False, False, False, False,\n",
      "                   False, False, False, False, False, False, False, False,\n",
      "                   False, False, False],\n",
      "       fill_value='?',\n",
      "            dtype=object), 'param_classifier__n_estimators': masked_array(data=[100, 200, 300, 100, 200, 300, 100, 200, 300, 100, 200,\n",
      "                   300, 100, 200, 300, 100, 200, 300, 100, 200, 300, 100,\n",
      "                   200, 300, 100, 200, 300],\n",
      "             mask=[False, False, False, False, False, False, False, False,\n",
      "                   False, False, False, False, False, False, False, False,\n",
      "                   False, False, False, False, False, False, False, False,\n",
      "                   False, False, False],\n",
      "       fill_value='?',\n",
      "            dtype=object), 'params': [{'classifier__max_depth': 4, 'classifier__max_features': 'auto', 'classifier__n_estimators': 100}, {'classifier__max_depth': 4, 'classifier__max_features': 'auto', 'classifier__n_estimators': 200}, {'classifier__max_depth': 4, 'classifier__max_features': 'auto', 'classifier__n_estimators': 300}, {'classifier__max_depth': 4, 'classifier__max_features': 'sqrt', 'classifier__n_estimators': 100}, {'classifier__max_depth': 4, 'classifier__max_features': 'sqrt', 'classifier__n_estimators': 200}, {'classifier__max_depth': 4, 'classifier__max_features': 'sqrt', 'classifier__n_estimators': 300}, {'classifier__max_depth': 4, 'classifier__max_features': 'log2', 'classifier__n_estimators': 100}, {'classifier__max_depth': 4, 'classifier__max_features': 'log2', 'classifier__n_estimators': 200}, {'classifier__max_depth': 4, 'classifier__max_features': 'log2', 'classifier__n_estimators': 300}, {'classifier__max_depth': 6, 'classifier__max_features': 'auto', 'classifier__n_estimators': 100}, {'classifier__max_depth': 6, 'classifier__max_features': 'auto', 'classifier__n_estimators': 200}, {'classifier__max_depth': 6, 'classifier__max_features': 'auto', 'classifier__n_estimators': 300}, {'classifier__max_depth': 6, 'classifier__max_features': 'sqrt', 'classifier__n_estimators': 100}, {'classifier__max_depth': 6, 'classifier__max_features': 'sqrt', 'classifier__n_estimators': 200}, {'classifier__max_depth': 6, 'classifier__max_features': 'sqrt', 'classifier__n_estimators': 300}, {'classifier__max_depth': 6, 'classifier__max_features': 'log2', 'classifier__n_estimators': 100}, {'classifier__max_depth': 6, 'classifier__max_features': 'log2', 'classifier__n_estimators': 200}, {'classifier__max_depth': 6, 'classifier__max_features': 'log2', 'classifier__n_estimators': 300}, {'classifier__max_depth': 8, 'classifier__max_features': 'auto', 'classifier__n_estimators': 100}, {'classifier__max_depth': 8, 'classifier__max_features': 'auto', 'classifier__n_estimators': 200}, {'classifier__max_depth': 8, 'classifier__max_features': 'auto', 'classifier__n_estimators': 300}, {'classifier__max_depth': 8, 'classifier__max_features': 'sqrt', 'classifier__n_estimators': 100}, {'classifier__max_depth': 8, 'classifier__max_features': 'sqrt', 'classifier__n_estimators': 200}, {'classifier__max_depth': 8, 'classifier__max_features': 'sqrt', 'classifier__n_estimators': 300}, {'classifier__max_depth': 8, 'classifier__max_features': 'log2', 'classifier__n_estimators': 100}, {'classifier__max_depth': 8, 'classifier__max_features': 'log2', 'classifier__n_estimators': 200}, {'classifier__max_depth': 8, 'classifier__max_features': 'log2', 'classifier__n_estimators': 300}], 'split0_test_score': array([0.90671642, 0.9141791 , 0.90671642, 0.90671642, 0.90671642,\n",
      "       0.90298507, 0.90298507, 0.90298507, 0.90298507, 0.92537313,\n",
      "       0.92537313, 0.92164179, 0.92164179, 0.92164179, 0.92537313,\n",
      "       0.9141791 , 0.9141791 , 0.92164179, 0.92537313, 0.92537313,\n",
      "       0.92537313, 0.92164179, 0.92537313, 0.92164179, 0.92537313,\n",
      "       0.92164179, 0.92537313]), 'split1_test_score': array([0.90298507, 0.90298507, 0.90298507, 0.89925373, 0.90298507,\n",
      "       0.89925373, 0.89552239, 0.90298507, 0.90298507, 0.90298507,\n",
      "       0.89925373, 0.89925373, 0.89925373, 0.89925373, 0.89925373,\n",
      "       0.89925373, 0.90671642, 0.90298507, 0.89925373, 0.89925373,\n",
      "       0.90298507, 0.90298507, 0.89925373, 0.89925373, 0.89925373,\n",
      "       0.90298507, 0.90298507]), 'split2_test_score': array([0.91044776, 0.9141791 , 0.91044776, 0.91044776, 0.9141791 ,\n",
      "       0.9141791 , 0.90671642, 0.90671642, 0.90671642, 0.91791045,\n",
      "       0.92537313, 0.91791045, 0.91791045, 0.92537313, 0.92164179,\n",
      "       0.9141791 , 0.91044776, 0.91044776, 0.92537313, 0.92164179,\n",
      "       0.92537313, 0.91791045, 0.92164179, 0.92164179, 0.9141791 ,\n",
      "       0.91044776, 0.92164179]), 'split3_test_score': array([0.89179104, 0.89179104, 0.89925373, 0.89925373, 0.89179104,\n",
      "       0.89179104, 0.89179104, 0.89179104, 0.89179104, 0.90298507,\n",
      "       0.90671642, 0.90298507, 0.90298507, 0.90671642, 0.90298507,\n",
      "       0.89925373, 0.89552239, 0.89925373, 0.89552239, 0.89925373,\n",
      "       0.89925373, 0.89925373, 0.91044776, 0.90298507, 0.90671642,\n",
      "       0.89552239, 0.89925373]), 'split4_test_score': array([0.90298507, 0.90298507, 0.89925373, 0.90298507, 0.90671642,\n",
      "       0.89925373, 0.89925373, 0.89925373, 0.89925373, 0.90671642,\n",
      "       0.9141791 , 0.90298507, 0.91044776, 0.91044776, 0.9141791 ,\n",
      "       0.90298507, 0.91044776, 0.90671642, 0.92164179, 0.91044776,\n",
      "       0.91044776, 0.90671642, 0.91044776, 0.9141791 , 0.91044776,\n",
      "       0.9141791 , 0.90671642]), 'mean_test_score': array([0.90298507, 0.90522388, 0.90373134, 0.90373134, 0.90447761,\n",
      "       0.90149254, 0.89925373, 0.90074627, 0.90074627, 0.91119403,\n",
      "       0.9141791 , 0.90895522, 0.91044776, 0.91268657, 0.91268657,\n",
      "       0.90597015, 0.90746269, 0.90820896, 0.91343284, 0.91119403,\n",
      "       0.91268657, 0.90970149, 0.91343284, 0.9119403 , 0.91119403,\n",
      "       0.90895522, 0.91119403]), 'std_test_score': array([0.00624373, 0.00837684, 0.00435146, 0.00435146, 0.00731191,\n",
      "       0.00731191, 0.00527692, 0.00506144, 0.00506144, 0.00895522,\n",
      "       0.0102866 , 0.0090172 , 0.00850877, 0.009615  , 0.01017775,\n",
      "       0.00683967, 0.00641965, 0.00768331, 0.01322391, 0.01091697,\n",
      "       0.01096786, 0.00863868, 0.00926095, 0.00932089, 0.00863868,\n",
      "       0.0090172 , 0.01039432]), 'rank_test_score': array([23, 19, 21, 21, 20, 24, 27, 25, 25,  8,  1, 14, 12,  4,  4, 18, 17,\n",
      "       16,  2,  8,  4, 13,  2,  7,  8, 14,  8], dtype=int32)}\n"
     ]
    }
   ],
   "source": [
    "# View the complete results\n",
    "print(grid_search.cv_results_)"
   ],
   "metadata": {
    "collapsed": false,
    "pycharm": {
     "name": "#%%\n"
    }
   }
  },
  {
   "cell_type": "code",
   "execution_count": 88,
   "outputs": [
    {
     "name": "stdout",
     "output_type": "stream",
     "text": [
      "0.902985 (0.006244) with: {'classifier__max_depth': 4, 'classifier__max_features': 'auto', 'classifier__n_estimators': 100}\n",
      "0.905224 (0.008377) with: {'classifier__max_depth': 4, 'classifier__max_features': 'auto', 'classifier__n_estimators': 200}\n",
      "0.903731 (0.004351) with: {'classifier__max_depth': 4, 'classifier__max_features': 'auto', 'classifier__n_estimators': 300}\n",
      "0.903731 (0.004351) with: {'classifier__max_depth': 4, 'classifier__max_features': 'sqrt', 'classifier__n_estimators': 100}\n",
      "0.904478 (0.007312) with: {'classifier__max_depth': 4, 'classifier__max_features': 'sqrt', 'classifier__n_estimators': 200}\n",
      "0.901493 (0.007312) with: {'classifier__max_depth': 4, 'classifier__max_features': 'sqrt', 'classifier__n_estimators': 300}\n",
      "0.899254 (0.005277) with: {'classifier__max_depth': 4, 'classifier__max_features': 'log2', 'classifier__n_estimators': 100}\n",
      "0.900746 (0.005061) with: {'classifier__max_depth': 4, 'classifier__max_features': 'log2', 'classifier__n_estimators': 200}\n",
      "0.900746 (0.005061) with: {'classifier__max_depth': 4, 'classifier__max_features': 'log2', 'classifier__n_estimators': 300}\n",
      "0.911194 (0.008955) with: {'classifier__max_depth': 6, 'classifier__max_features': 'auto', 'classifier__n_estimators': 100}\n",
      "0.914179 (0.010287) with: {'classifier__max_depth': 6, 'classifier__max_features': 'auto', 'classifier__n_estimators': 200}\n",
      "0.908955 (0.009017) with: {'classifier__max_depth': 6, 'classifier__max_features': 'auto', 'classifier__n_estimators': 300}\n",
      "0.910448 (0.008509) with: {'classifier__max_depth': 6, 'classifier__max_features': 'sqrt', 'classifier__n_estimators': 100}\n",
      "0.912687 (0.009615) with: {'classifier__max_depth': 6, 'classifier__max_features': 'sqrt', 'classifier__n_estimators': 200}\n",
      "0.912687 (0.010178) with: {'classifier__max_depth': 6, 'classifier__max_features': 'sqrt', 'classifier__n_estimators': 300}\n",
      "0.905970 (0.006840) with: {'classifier__max_depth': 6, 'classifier__max_features': 'log2', 'classifier__n_estimators': 100}\n",
      "0.907463 (0.006420) with: {'classifier__max_depth': 6, 'classifier__max_features': 'log2', 'classifier__n_estimators': 200}\n",
      "0.908209 (0.007683) with: {'classifier__max_depth': 6, 'classifier__max_features': 'log2', 'classifier__n_estimators': 300}\n",
      "0.913433 (0.013224) with: {'classifier__max_depth': 8, 'classifier__max_features': 'auto', 'classifier__n_estimators': 100}\n",
      "0.911194 (0.010917) with: {'classifier__max_depth': 8, 'classifier__max_features': 'auto', 'classifier__n_estimators': 200}\n",
      "0.912687 (0.010968) with: {'classifier__max_depth': 8, 'classifier__max_features': 'auto', 'classifier__n_estimators': 300}\n",
      "0.909701 (0.008639) with: {'classifier__max_depth': 8, 'classifier__max_features': 'sqrt', 'classifier__n_estimators': 100}\n",
      "0.913433 (0.009261) with: {'classifier__max_depth': 8, 'classifier__max_features': 'sqrt', 'classifier__n_estimators': 200}\n",
      "0.911940 (0.009321) with: {'classifier__max_depth': 8, 'classifier__max_features': 'sqrt', 'classifier__n_estimators': 300}\n",
      "0.911194 (0.008639) with: {'classifier__max_depth': 8, 'classifier__max_features': 'log2', 'classifier__n_estimators': 100}\n",
      "0.908955 (0.009017) with: {'classifier__max_depth': 8, 'classifier__max_features': 'log2', 'classifier__n_estimators': 200}\n",
      "0.911194 (0.010394) with: {'classifier__max_depth': 8, 'classifier__max_features': 'log2', 'classifier__n_estimators': 300}\n"
     ]
    }
   ],
   "source": [
    "# View the mean test score for each parameter combination\n",
    "means = grid_search.cv_results_['mean_test_score']\n",
    "stds = grid_search.cv_results_['std_test_score']\n",
    "params = grid_search.cv_results_['params']\n",
    "for mean, stdev, param in zip(means, stds, params):\n",
    "    print(\"%f (%f) with: %r\" % (mean, stdev, param))"
   ],
   "metadata": {
    "collapsed": false,
    "pycharm": {
     "name": "#%%\n"
    }
   }
  },
  {
   "cell_type": "code",
   "execution_count": 89,
   "outputs": [
    {
     "name": "stdout",
     "output_type": "stream",
     "text": [
      "Pipeline(steps=[('scaler', StandardScaler()),\n",
      "                ('classifier',\n",
      "                 RandomForestClassifier(max_depth=6, n_estimators=200))])\n"
     ]
    }
   ],
   "source": [
    "# View the best model\n",
    "print(grid_search.best_estimator_)"
   ],
   "metadata": {
    "collapsed": false,
    "pycharm": {
     "name": "#%%\n"
    }
   }
  },
  {
   "cell_type": "code",
   "execution_count": 90,
   "outputs": [],
   "source": [
    "# Predict on the test set\n",
    "y_pred = grid_search.predict(X_test)"
   ],
   "metadata": {
    "collapsed": false,
    "pycharm": {
     "name": "#%%\n"
    }
   }
  },
  {
   "cell_type": "code",
   "execution_count": 91,
   "outputs": [
    {
     "name": "stdout",
     "output_type": "stream",
     "text": [
      "0.8988095238095238\n"
     ]
    }
   ],
   "source": [
    "# Evaluate the model\n",
    "from sklearn.metrics import accuracy_score\n",
    "print(accuracy_score(y_test, y_pred))"
   ],
   "metadata": {
    "collapsed": false,
    "pycharm": {
     "name": "#%%\n"
    }
   }
  }
 ],
 "metadata": {
  "kernelspec": {
   "display_name": "Python 3",
   "language": "python",
   "name": "python3"
  },
  "language_info": {
   "codemirror_mode": {
    "name": "ipython",
    "version": 2
   },
   "file_extension": ".py",
   "mimetype": "text/x-python",
   "name": "python",
   "nbconvert_exporter": "python",
   "pygments_lexer": "ipython2",
   "version": "2.7.6"
  }
 },
 "nbformat": 4,
 "nbformat_minor": 0
}