{
 "cells": [
  {
   "cell_type": "markdown",
   "id": "b3a31b68",
   "metadata": {
    "papermill": {
     "duration": 0.047028,
     "end_time": "2021-09-15T21:40:48.569271",
     "exception": false,
     "start_time": "2021-09-15T21:40:48.522243",
     "status": "completed"
    },
    "tags": [],
    "pycharm": {
     "name": "#%% md\n"
    }
   },
   "source": [
    "# Caso completo sin AutoML"
   ]
  },
  {
   "cell_type": "markdown",
   "id": "72193247",
   "metadata": {
    "papermill": {
     "duration": 0.04386,
     "end_time": "2021-09-15T21:40:48.657562",
     "exception": false,
     "start_time": "2021-09-15T21:40:48.613702",
     "status": "completed"
    },
    "tags": [],
    "pycharm": {
     "name": "#%% md\n"
    }
   },
   "source": [
    "## El problema: Customer Churn\n",
    "\n",
    "![](https://chartmogul.com/blog/wp-content/uploads/2022/02/blogWhat_s-a-good-Customer-Churn-Rate-1200x500.jpeg)\n",
    "\n",
    "La rotación de clientes se define como cuando los clientes o suscriptores dejan de hacer negocios con una empresa o servicio.\n",
    "\n",
    "Cada fila representa un cliente, cada columna contiene los atributos del cliente.\n",
    "\n",
    "El conjunto de datos incluye información sobre:\n",
    "\n",
    "- Clientes que se fueron en el último mes: la columna se llama **Churn**\n",
    "- Servicios a los que se ha suscrito cada cliente: teléfono, líneas múltiples, Internet, seguridad en línea, respaldo en línea, protección de dispositivos, soporte técnico y transmisión de TV y películas.\n",
    "- Información de la cuenta del cliente: cuánto tiempo ha sido cliente, contrato, método de pago, facturación electrónica, cargos mensuales y cargos totales\n",
    "- Información demográfica sobre los clientes: género, rango de edad y si tienen parejas y dependientes"
   ]
  },
  {
   "cell_type": "markdown",
   "id": "653554a9",
   "metadata": {
    "papermill": {
     "duration": 0.043599,
     "end_time": "2021-09-15T21:40:48.745131",
     "exception": false,
     "start_time": "2021-09-15T21:40:48.701532",
     "status": "completed"
    },
    "tags": [],
    "pycharm": {
     "name": "#%% md\n"
    }
   },
   "source": [
    "## Comprender el contexto empresarial y el problema"
   ]
  },
  {
   "cell_type": "markdown",
   "id": "24d78ea0",
   "metadata": {
    "papermill": {
     "duration": 0.043891,
     "end_time": "2021-09-15T21:40:48.832798",
     "exception": false,
     "start_time": "2021-09-15T21:40:48.788907",
     "status": "completed"
    },
    "tags": [],
    "pycharm": {
     "name": "#%% md\n"
    }
   },
   "source": []
  },
  {
   "cell_type": "markdown",
   "id": "1ca83077",
   "metadata": {
    "papermill": {
     "duration": 0.043725,
     "end_time": "2021-09-15T21:40:48.920399",
     "exception": false,
     "start_time": "2021-09-15T21:40:48.876674",
     "status": "completed"
    },
    "tags": [],
    "pycharm": {
     "name": "#%% md\n"
    }
   },
   "source": [
    "Después de esas reuniones tenemos que comprobar los datos existentes en la empresa y encontrar información útil en ellos. Supongamos que lo hicimos y después de un proceso de integración de datos creamos un conjunto de datos completo para nuestros clientes y su información. Recuerda que estamos trabajando con una empresa de telecomunicaciones."
   ]
  },
  {
   "cell_type": "markdown",
   "id": "dd360169",
   "metadata": {
    "papermill": {
     "duration": 0.044175,
     "end_time": "2021-09-15T21:40:49.009547",
     "exception": false,
     "start_time": "2021-09-15T21:40:48.965372",
     "status": "completed"
    },
    "tags": [],
    "pycharm": {
     "name": "#%% md\n"
    }
   },
   "source": [
    "## Librerías"
   ]
  },
  {
   "cell_type": "code",
   "execution_count": null,
   "outputs": [],
   "source": [
    "!pip install datatable"
   ],
   "metadata": {
    "collapsed": false,
    "pycharm": {
     "name": "#%%\n"
    }
   }
  },
  {
   "cell_type": "code",
   "execution_count": null,
   "id": "6e2ee258",
   "metadata": {
    "execution": {
     "iopub.execute_input": "2021-09-15T21:40:49.109262Z",
     "iopub.status.busy": "2021-09-15T21:40:49.108603Z",
     "iopub.status.idle": "2021-09-15T21:40:52.139300Z",
     "shell.execute_reply": "2021-09-15T21:40:52.139798Z",
     "shell.execute_reply.started": "2021-09-15T21:22:21.632744Z"
    },
    "papermill": {
     "duration": 3.08633,
     "end_time": "2021-09-15T21:40:52.140127",
     "exception": false,
     "start_time": "2021-09-15T21:40:49.053797",
     "status": "completed"
    },
    "tags": [],
    "pycharm": {
     "name": "#%%\n"
    }
   },
   "outputs": [],
   "source": [
    "import pandas as pd\n",
    "import datatable as dt\n",
    "from datatable import f\n",
    "import matplotlib.pyplot as plt\n",
    "import seaborn as sns\n",
    "import plotly.express as px\n",
    "import plotly.graph_objects as go\n",
    "import plotly.io as pio\n",
    "import scipy.stats as stats\n",
    "import warnings\n",
    "import numpy as np\n",
    "warnings.filterwarnings(\"ignore\")"
   ]
  },
  {
   "cell_type": "markdown",
   "id": "7c9162ed",
   "metadata": {
    "papermill": {
     "duration": 0.044178,
     "end_time": "2021-09-15T21:40:52.372123",
     "exception": false,
     "start_time": "2021-09-15T21:40:52.327945",
     "status": "completed"
    },
    "tags": [],
    "pycharm": {
     "name": "#%% md\n"
    }
   },
   "source": [
    "## Cargar datos"
   ]
  },
  {
   "cell_type": "code",
   "execution_count": null,
   "id": "97d04cea",
   "metadata": {
    "execution": {
     "iopub.execute_input": "2021-09-15T21:40:52.466351Z",
     "iopub.status.busy": "2021-09-15T21:40:52.465554Z",
     "iopub.status.idle": "2021-09-15T21:40:52.516589Z",
     "shell.execute_reply": "2021-09-15T21:40:52.517103Z",
     "shell.execute_reply.started": "2021-09-15T21:22:24.994181Z"
    },
    "papermill": {
     "duration": 0.100584,
     "end_time": "2021-09-15T21:40:52.517305",
     "exception": false,
     "start_time": "2021-09-15T21:40:52.416721",
     "status": "completed"
    },
    "tags": [],
    "pycharm": {
     "name": "#%%\n"
    }
   },
   "outputs": [],
   "source": [
    "df = dt.fread(\"../data/churn_data.csv\")"
   ]
  },
  {
   "cell_type": "code",
   "execution_count": null,
   "id": "fffb2a09",
   "metadata": {
    "execution": {
     "iopub.execute_input": "2021-09-15T21:40:52.617772Z",
     "iopub.status.busy": "2021-09-15T21:40:52.617000Z",
     "iopub.status.idle": "2021-09-15T21:40:52.620080Z",
     "shell.execute_reply": "2021-09-15T21:40:52.620495Z",
     "shell.execute_reply.started": "2021-09-15T21:22:25.055281Z"
    },
    "papermill": {
     "duration": 0.054166,
     "end_time": "2021-09-15T21:40:52.620677",
     "exception": false,
     "start_time": "2021-09-15T21:40:52.566511",
     "status": "completed"
    },
    "tags": [],
    "pycharm": {
     "name": "#%%\n"
    }
   },
   "outputs": [],
   "source": [
    "df.head()"
   ]
  },
  {
   "cell_type": "code",
   "execution_count": null,
   "id": "46a68886",
   "metadata": {
    "execution": {
     "iopub.execute_input": "2021-09-15T21:40:52.715472Z",
     "iopub.status.busy": "2021-09-15T21:40:52.714548Z",
     "iopub.status.idle": "2021-09-15T21:40:52.719482Z",
     "shell.execute_reply": "2021-09-15T21:40:52.720004Z",
     "shell.execute_reply.started": "2021-09-15T21:22:25.069139Z"
    },
    "papermill": {
     "duration": 0.054864,
     "end_time": "2021-09-15T21:40:52.720175",
     "exception": false,
     "start_time": "2021-09-15T21:40:52.665311",
     "status": "completed"
    },
    "tags": [],
    "pycharm": {
     "name": "#%%\n"
    }
   },
   "outputs": [],
   "source": [
    "df.shape"
   ]
  },
  {
   "cell_type": "markdown",
   "id": "88e20d13",
   "metadata": {
    "papermill": {
     "duration": 0.047943,
     "end_time": "2021-09-15T21:40:52.813797",
     "exception": false,
     "start_time": "2021-09-15T21:40:52.765854",
     "status": "completed"
    },
    "tags": [],
    "pycharm": {
     "name": "#%% md\n"
    }
   },
   "source": [
    "El color significa el tipo de datos donde el rojo denota cadena, el verde denota int, el amarillo significa booleano y el azul significa flotador."
   ]
  },
  {
   "cell_type": "markdown",
   "id": "c2f270b3",
   "metadata": {
    "papermill": {
     "duration": 0.046629,
     "end_time": "2021-09-15T21:40:52.908890",
     "exception": false,
     "start_time": "2021-09-15T21:40:52.862261",
     "status": "completed"
    },
    "tags": [],
    "pycharm": {
     "name": "#%% md\n"
    }
   },
   "source": [
    "## ¿Cuántos clientes se han ido?"
   ]
  },
  {
   "cell_type": "code",
   "execution_count": null,
   "id": "237c663f",
   "metadata": {
    "execution": {
     "iopub.execute_input": "2021-09-15T21:40:53.004328Z",
     "iopub.status.busy": "2021-09-15T21:40:53.003408Z",
     "iopub.status.idle": "2021-09-15T21:40:53.045414Z",
     "shell.execute_reply": "2021-09-15T21:40:53.044937Z",
     "shell.execute_reply.started": "2021-09-15T21:22:25.079663Z"
    },
    "papermill": {
     "duration": 0.090273,
     "end_time": "2021-09-15T21:40:53.045566",
     "exception": false,
     "start_time": "2021-09-15T21:40:52.955293",
     "status": "completed"
    },
    "tags": [],
    "pycharm": {
     "name": "#%%\n"
    }
   },
   "outputs": [],
   "source": [
    "df[f.Churn == \"Yes\", dt.count()]"
   ]
  },
  {
   "cell_type": "code",
   "execution_count": null,
   "id": "782a8a7b",
   "metadata": {
    "execution": {
     "iopub.execute_input": "2021-09-15T21:40:53.141244Z",
     "iopub.status.busy": "2021-09-15T21:40:53.140600Z",
     "iopub.status.idle": "2021-09-15T21:40:53.144651Z",
     "shell.execute_reply": "2021-09-15T21:40:53.145234Z",
     "shell.execute_reply.started": "2021-09-15T21:22:25.106294Z"
    },
    "papermill": {
     "duration": 0.054001,
     "end_time": "2021-09-15T21:40:53.145393",
     "exception": false,
     "start_time": "2021-09-15T21:40:53.091392",
     "status": "completed"
    },
    "tags": [],
    "pycharm": {
     "name": "#%%\n"
    }
   },
   "outputs": [],
   "source": [
    "1869/7043"
   ]
  },
  {
   "cell_type": "markdown",
   "id": "eac55cda",
   "metadata": {
    "papermill": {
     "duration": 0.052395,
     "end_time": "2021-09-15T21:40:53.245089",
     "exception": false,
     "start_time": "2021-09-15T21:40:53.192694",
     "status": "completed"
    },
    "tags": [],
    "pycharm": {
     "name": "#%% md\n"
    }
   },
   "source": [
    "Se han ido 1869 clientes, eso significa el 26% de nuestros clientes. Entonces, si recordamos las métricas del negocio, tenemos un problema."
   ]
  },
  {
   "cell_type": "markdown",
   "id": "51fb6003",
   "metadata": {
    "papermill": {
     "duration": 0.055914,
     "end_time": "2021-09-15T21:40:53.364272",
     "exception": false,
     "start_time": "2021-09-15T21:40:53.308358",
     "status": "completed"
    },
    "tags": [],
    "pycharm": {
     "name": "#%% md\n"
    }
   },
   "source": [
    "## ¿Cuánto dinero hemos perdido por la pérdida de clientes?"
   ]
  },
  {
   "cell_type": "code",
   "execution_count": null,
   "id": "2140bb99",
   "metadata": {
    "execution": {
     "iopub.execute_input": "2021-09-15T21:40:53.460590Z",
     "iopub.status.busy": "2021-09-15T21:40:53.460060Z",
     "iopub.status.idle": "2021-09-15T21:40:53.549425Z",
     "shell.execute_reply": "2021-09-15T21:40:53.549884Z",
     "shell.execute_reply.started": "2021-09-15T21:22:25.118770Z"
    },
    "papermill": {
     "duration": 0.138692,
     "end_time": "2021-09-15T21:40:53.550100",
     "exception": false,
     "start_time": "2021-09-15T21:40:53.411408",
     "status": "completed"
    },
    "tags": [],
    "pycharm": {
     "name": "#%%\n"
    }
   },
   "outputs": [],
   "source": [
    "df[:, dt.count(), dt.by(dt.f.Churn)]"
   ]
  },
  {
   "cell_type": "code",
   "execution_count": null,
   "id": "3c0f2c00",
   "metadata": {
    "execution": {
     "iopub.execute_input": "2021-09-15T21:40:53.687839Z",
     "iopub.status.busy": "2021-09-15T21:40:53.648470Z",
     "iopub.status.idle": "2021-09-15T21:40:53.694578Z",
     "shell.execute_reply": "2021-09-15T21:40:53.695051Z",
     "shell.execute_reply.started": "2021-09-15T21:22:25.144019Z"
    },
    "papermill": {
     "duration": 0.095525,
     "end_time": "2021-09-15T21:40:53.695237",
     "exception": false,
     "start_time": "2021-09-15T21:40:53.599712",
     "status": "completed"
    },
    "tags": [],
    "pycharm": {
     "name": "#%%\n"
    }
   },
   "outputs": [],
   "source": [
    "df[dt.f.Churn == 'Yes', 'TotalCharges'].sum1()"
   ]
  },
  {
   "cell_type": "markdown",
   "id": "8436a959",
   "metadata": {
    "papermill": {
     "duration": 0.046383,
     "end_time": "2021-09-15T21:40:53.790639",
     "exception": false,
     "start_time": "2021-09-15T21:40:53.744256",
     "status": "completed"
    },
    "tags": [],
    "pycharm": {
     "name": "#%% md\n"
    }
   },
   "source": [
    "Hemos perdido $2.862.926 debido a la rotación de clientes. Así que vamos a tratar de resolver este problema."
   ]
  },
  {
   "cell_type": "markdown",
   "id": "188fe22a",
   "metadata": {
    "papermill": {
     "duration": 0.046096,
     "end_time": "2021-09-15T21:40:53.883390",
     "exception": false,
     "start_time": "2021-09-15T21:40:53.837294",
     "status": "completed"
    },
    "tags": [],
    "pycharm": {
     "name": "#%% md\n"
    }
   },
   "source": [
    "## EDA"
   ]
  },
  {
   "cell_type": "code",
   "execution_count": null,
   "id": "03d46787",
   "metadata": {
    "execution": {
     "iopub.execute_input": "2021-09-15T21:40:54.002335Z",
     "iopub.status.busy": "2021-09-15T21:40:53.979174Z",
     "iopub.status.idle": "2021-09-15T21:40:54.008629Z",
     "shell.execute_reply": "2021-09-15T21:40:54.009118Z",
     "shell.execute_reply.started": "2021-09-15T21:22:25.159723Z"
    },
    "papermill": {
     "duration": 0.079487,
     "end_time": "2021-09-15T21:40:54.009285",
     "exception": false,
     "start_time": "2021-09-15T21:40:53.929798",
     "status": "completed"
    },
    "tags": [],
    "pycharm": {
     "name": "#%%\n"
    }
   },
   "outputs": [],
   "source": [
    "df_pandas = df.to_pandas()"
   ]
  },
  {
   "cell_type": "code",
   "execution_count": null,
   "id": "9de10c89",
   "metadata": {
    "execution": {
     "iopub.execute_input": "2021-09-15T21:40:54.110127Z",
     "iopub.status.busy": "2021-09-15T21:40:54.107980Z",
     "iopub.status.idle": "2021-09-15T21:40:54.138460Z",
     "shell.execute_reply": "2021-09-15T21:40:54.138869Z",
     "shell.execute_reply.started": "2021-09-15T21:22:25.200824Z"
    },
    "papermill": {
     "duration": 0.081926,
     "end_time": "2021-09-15T21:40:54.139048",
     "exception": false,
     "start_time": "2021-09-15T21:40:54.057122",
     "status": "completed"
    },
    "tags": [],
    "pycharm": {
     "name": "#%%\n"
    }
   },
   "outputs": [],
   "source": [
    "df_pandas.head()"
   ]
  },
  {
   "cell_type": "code",
   "execution_count": null,
   "id": "9e02bf20",
   "metadata": {
    "execution": {
     "iopub.execute_input": "2021-09-15T21:40:54.242572Z",
     "iopub.status.busy": "2021-09-15T21:40:54.241903Z",
     "iopub.status.idle": "2021-09-15T21:40:54.244043Z",
     "shell.execute_reply": "2021-09-15T21:40:54.244554Z",
     "shell.execute_reply.started": "2021-09-15T21:22:25.240009Z"
    },
    "papermill": {
     "duration": 0.058248,
     "end_time": "2021-09-15T21:40:54.244705",
     "exception": false,
     "start_time": "2021-09-15T21:40:54.186457",
     "status": "completed"
    },
    "tags": [],
    "pycharm": {
     "name": "#%%\n"
    }
   },
   "outputs": [],
   "source": [
    "def diagnostic_plots(df, variable):\n",
    "    \n",
    "    plt.figure(figsize=(20, 9))\n",
    "\n",
    "    plt.subplot(1, 3, 1)\n",
    "    sns.distplot(df[variable], bins=30, kde=True)\n",
    "    plt.title('Histogram')\n",
    "    \n",
    "    plt.subplot(1, 3, 2)\n",
    "    stats.probplot(df[variable], dist=\"norm\", plot=plt)\n",
    "    plt.ylabel('RM quantiles')\n",
    "\n",
    "    plt.subplot(1, 3, 3)\n",
    "    sns.boxplot(x=df[variable])\n",
    "    plt.title('Boxplot')\n",
    "    \n",
    "    plt.show()"
   ]
  },
  {
   "cell_type": "code",
   "execution_count": null,
   "id": "e64e875a",
   "metadata": {
    "execution": {
     "iopub.execute_input": "2021-09-15T21:40:54.341572Z",
     "iopub.status.busy": "2021-09-15T21:40:54.340993Z",
     "iopub.status.idle": "2021-09-15T21:40:54.352706Z",
     "shell.execute_reply": "2021-09-15T21:40:54.352183Z",
     "shell.execute_reply.started": "2021-09-15T21:22:25.247277Z"
    },
    "papermill": {
     "duration": 0.06096,
     "end_time": "2021-09-15T21:40:54.352836",
     "exception": false,
     "start_time": "2021-09-15T21:40:54.291876",
     "status": "completed"
    },
    "tags": [],
    "pycharm": {
     "name": "#%%\n"
    }
   },
   "outputs": [],
   "source": [
    "num_columns=df_pandas.select_dtypes(include=[\"number\"]).columns\n",
    "num_columns"
   ]
  },
  {
   "cell_type": "code",
   "execution_count": null,
   "id": "8287c815",
   "metadata": {
    "execution": {
     "iopub.execute_input": "2021-09-15T21:40:54.465536Z",
     "iopub.status.busy": "2021-09-15T21:40:54.464958Z",
     "iopub.status.idle": "2021-09-15T21:40:56.209665Z",
     "shell.execute_reply": "2021-09-15T21:40:56.209214Z",
     "shell.execute_reply.started": "2021-09-15T21:22:25.273162Z"
    },
    "papermill": {
     "duration": 1.810272,
     "end_time": "2021-09-15T21:40:56.209804",
     "exception": false,
     "start_time": "2021-09-15T21:40:54.399532",
     "status": "completed"
    },
    "tags": [],
    "pycharm": {
     "name": "#%%\n"
    }
   },
   "outputs": [],
   "source": [
    "for i in num_columns:\n",
    "    diagnostic_plots(df_pandas,i)"
   ]
  },
  {
   "cell_type": "code",
   "execution_count": null,
   "id": "404cba91",
   "metadata": {
    "execution": {
     "iopub.execute_input": "2021-09-15T21:40:56.317256Z",
     "iopub.status.busy": "2021-09-15T21:40:56.316651Z",
     "iopub.status.idle": "2021-09-15T21:41:01.953934Z",
     "shell.execute_reply": "2021-09-15T21:41:01.954410Z",
     "shell.execute_reply.started": "2021-09-15T21:22:27.132413Z"
    },
    "papermill": {
     "duration": 5.692502,
     "end_time": "2021-09-15T21:41:01.954571",
     "exception": false,
     "start_time": "2021-09-15T21:40:56.262069",
     "status": "completed"
    },
    "tags": [],
    "pycharm": {
     "name": "#%%\n"
    }
   },
   "outputs": [],
   "source": [
    "sns.pairplot(df_pandas.drop(\"SeniorCitizen\",axis=1),hue=\"Churn\",aspect=3);"
   ]
  },
  {
   "cell_type": "code",
   "execution_count": null,
   "id": "9711e317",
   "metadata": {
    "execution": {
     "iopub.execute_input": "2021-09-15T21:41:02.105761Z",
     "iopub.status.busy": "2021-09-15T21:41:02.105215Z",
     "iopub.status.idle": "2021-09-15T21:41:02.851276Z",
     "shell.execute_reply": "2021-09-15T21:41:02.851817Z",
     "shell.execute_reply.started": "2021-09-15T21:22:33.163383Z"
    },
    "papermill": {
     "duration": 0.822595,
     "end_time": "2021-09-15T21:41:02.852000",
     "exception": false,
     "start_time": "2021-09-15T21:41:02.029405",
     "status": "completed"
    },
    "tags": [],
    "pycharm": {
     "name": "#%%\n"
    }
   },
   "outputs": [],
   "source": [
    "fig = px.histogram(df_pandas, x=\"Churn\")\n",
    "fig.update_layout(width=700, height=500, bargap=0.1)\n",
    "fig.show()"
   ]
  },
  {
   "cell_type": "code",
   "execution_count": null,
   "id": "82c6d245",
   "metadata": {
    "execution": {
     "iopub.execute_input": "2021-09-15T21:41:03.026398Z",
     "iopub.status.busy": "2021-09-15T21:41:03.025752Z",
     "iopub.status.idle": "2021-09-15T21:41:03.146711Z",
     "shell.execute_reply": "2021-09-15T21:41:03.147227Z",
     "shell.execute_reply.started": "2021-09-15T21:22:34.142744Z"
    },
    "papermill": {
     "duration": 0.208992,
     "end_time": "2021-09-15T21:41:03.147389",
     "exception": false,
     "start_time": "2021-09-15T21:41:02.938397",
     "status": "completed"
    },
    "tags": [],
    "pycharm": {
     "name": "#%%\n"
    }
   },
   "outputs": [],
   "source": [
    "fig = px.histogram(df_pandas, x=\"Churn\", color=\"SeniorCitizen\")\n",
    "fig.update_layout(width=700, height=500, bargap=0.1)\n",
    "fig.show()"
   ]
  },
  {
   "cell_type": "code",
   "execution_count": null,
   "id": "4a8b99d2",
   "metadata": {
    "execution": {
     "iopub.execute_input": "2021-09-15T21:41:03.351070Z",
     "iopub.status.busy": "2021-09-15T21:41:03.350480Z",
     "iopub.status.idle": "2021-09-15T21:41:03.457908Z",
     "shell.execute_reply": "2021-09-15T21:41:03.458410Z",
     "shell.execute_reply.started": "2021-09-15T21:22:34.278115Z"
    },
    "papermill": {
     "duration": 0.2088,
     "end_time": "2021-09-15T21:41:03.458578",
     "exception": false,
     "start_time": "2021-09-15T21:41:03.249778",
     "status": "completed"
    },
    "tags": [],
    "pycharm": {
     "name": "#%%\n"
    }
   },
   "outputs": [],
   "source": [
    "fig = px.histogram(df_pandas, x=\"Churn\", color=\"OnlineSecurity\", barmode=\"group\")\n",
    "fig.update_layout(width=700, height=500, bargap=0.1)\n",
    "fig.show()"
   ]
  },
  {
   "cell_type": "code",
   "execution_count": null,
   "id": "7ec74226",
   "metadata": {
    "execution": {
     "iopub.execute_input": "2021-09-15T21:41:03.690950Z",
     "iopub.status.busy": "2021-09-15T21:41:03.690390Z",
     "iopub.status.idle": "2021-09-15T21:41:03.822239Z",
     "shell.execute_reply": "2021-09-15T21:41:03.822758Z",
     "shell.execute_reply.started": "2021-09-15T21:22:34.396912Z"
    },
    "papermill": {
     "duration": 0.247743,
     "end_time": "2021-09-15T21:41:03.822920",
     "exception": false,
     "start_time": "2021-09-15T21:41:03.575177",
     "status": "completed"
    },
    "tags": [],
    "pycharm": {
     "name": "#%%\n"
    }
   },
   "outputs": [],
   "source": [
    "fig = px.box(df_pandas, x='Churn', y = 'tenure')\n",
    "fig.show()"
   ]
  },
  {
   "cell_type": "code",
   "execution_count": null,
   "id": "3c7b1491",
   "metadata": {
    "execution": {
     "iopub.execute_input": "2021-09-15T21:41:04.152191Z",
     "iopub.status.busy": "2021-09-15T21:41:04.151543Z",
     "iopub.status.idle": "2021-09-15T21:41:04.596499Z",
     "shell.execute_reply": "2021-09-15T21:41:04.596886Z",
     "shell.execute_reply.started": "2021-09-15T21:22:34.545750Z"
    },
    "papermill": {
     "duration": 0.633031,
     "end_time": "2021-09-15T21:41:04.597075",
     "exception": false,
     "start_time": "2021-09-15T21:41:03.964044",
     "status": "completed"
    },
    "tags": [],
    "pycharm": {
     "name": "#%%\n"
    }
   },
   "outputs": [],
   "source": [
    "ax = sns.kdeplot(df_pandas.MonthlyCharges[(df_pandas[\"Churn\"] == 'No') ],\n",
    "                color=\"Red\", shade = True)\n",
    "ax = sns.kdeplot(df_pandas.MonthlyCharges[(df_pandas[\"Churn\"] == 'Yes') ],\n",
    "                ax =ax, color=\"Blue\", shade= True)\n",
    "ax.legend([\"Not Churn\",\"Churn\"],loc='upper right')\n",
    "ax.set_ylabel('Density')\n",
    "ax.set_xlabel('Monthly Charges')\n",
    "ax.set_title('Distribution of monthly charges by churn')"
   ]
  },
  {
   "cell_type": "code",
   "execution_count": null,
   "id": "5a3daab5",
   "metadata": {
    "execution": {
     "iopub.execute_input": "2021-09-15T21:41:04.879457Z",
     "iopub.status.busy": "2021-09-15T21:41:04.878760Z",
     "iopub.status.idle": "2021-09-15T21:41:04.972440Z",
     "shell.execute_reply": "2021-09-15T21:41:04.972891Z",
     "shell.execute_reply.started": "2021-09-15T21:22:35.024144Z"
    },
    "papermill": {
     "duration": 0.236116,
     "end_time": "2021-09-15T21:41:04.973079",
     "exception": false,
     "start_time": "2021-09-15T21:41:04.736963",
     "status": "completed"
    },
    "tags": [],
    "pycharm": {
     "name": "#%%\n"
    }
   },
   "outputs": [],
   "source": [
    "corr = df_pandas.apply(lambda x: pd.factorize(x)[0]).corr()\n",
    "mask = np.triu(np.ones_like(corr, dtype=bool))\n",
    "\n",
    "heat = go.Heatmap(\n",
    "    z=corr.mask(mask),\n",
    "    x=corr.columns,\n",
    "    y=corr.columns,\n",
    "    colorscale=px.colors.diverging.RdBu,\n",
    "    zmin=-1,\n",
    "    zmax=1\n",
    ")\n",
    "\n",
    "pio.templates.default = \"plotly_white\"\n",
    "\n",
    "\n",
    "fig.update_xaxes(side=\"bottom\")\n",
    "\n",
    "fig.update_layout(\n",
    "    title_text='Heatmap', \n",
    "    title_x=0.5, \n",
    "    width=1000, \n",
    "    height=1000,\n",
    "    xaxis_showgrid=False,\n",
    "    yaxis_showgrid=False,\n",
    "    xaxis_zeroline=False,\n",
    "    yaxis_zeroline=False,\n",
    "    yaxis_autorange='reversed',\n",
    "    template='plotly_white'\n",
    ")\n",
    "\n",
    "fig=go.Figure(data=[heat])\n",
    "fig.show()"
   ]
  },
  {
   "cell_type": "markdown",
   "id": "ecd302da",
   "metadata": {
    "papermill": {
     "duration": 0.144507,
     "end_time": "2021-09-15T21:41:05.264034",
     "exception": false,
     "start_time": "2021-09-15T21:41:05.119527",
     "status": "completed"
    },
    "tags": [],
    "pycharm": {
     "name": "#%% md\n"
    }
   },
   "source": [
    "## Limpieza de datos"
   ]
  },
  {
   "cell_type": "code",
   "execution_count": null,
   "id": "a4219afd",
   "metadata": {
    "execution": {
     "iopub.execute_input": "2021-09-15T21:41:05.848226Z",
     "iopub.status.busy": "2021-09-15T21:41:05.847641Z",
     "iopub.status.idle": "2021-09-15T21:41:05.849941Z",
     "shell.execute_reply": "2021-09-15T21:41:05.850376Z",
     "shell.execute_reply.started": "2021-09-15T21:22:35.130915Z"
    },
    "papermill": {
     "duration": 0.151905,
     "end_time": "2021-09-15T21:41:05.850543",
     "exception": false,
     "start_time": "2021-09-15T21:41:05.698638",
     "status": "completed"
    },
    "tags": [],
    "pycharm": {
     "name": "#%%\n"
    }
   },
   "outputs": [],
   "source": [
    "df.names"
   ]
  },
  {
   "cell_type": "code",
   "execution_count": null,
   "id": "64f8f4ec",
   "metadata": {
    "execution": {
     "iopub.execute_input": "2021-09-15T21:41:06.144637Z",
     "iopub.status.busy": "2021-09-15T21:41:06.142457Z",
     "iopub.status.idle": "2021-09-15T21:41:06.146724Z",
     "shell.execute_reply": "2021-09-15T21:41:06.147219Z",
     "shell.execute_reply.started": "2021-09-15T21:22:35.137861Z"
    },
    "papermill": {
     "duration": 0.152583,
     "end_time": "2021-09-15T21:41:06.147379",
     "exception": false,
     "start_time": "2021-09-15T21:41:05.994796",
     "status": "completed"
    },
    "tags": [],
    "pycharm": {
     "name": "#%%\n"
    }
   },
   "outputs": [],
   "source": [
    "df.stypes"
   ]
  },
  {
   "cell_type": "code",
   "execution_count": null,
   "id": "7f5b87a2",
   "metadata": {
    "execution": {
     "iopub.execute_input": "2021-09-15T21:41:06.458147Z",
     "iopub.status.busy": "2021-09-15T21:41:06.442868Z",
     "iopub.status.idle": "2021-09-15T21:41:06.460811Z",
     "shell.execute_reply": "2021-09-15T21:41:06.460255Z",
     "shell.execute_reply.started": "2021-09-15T21:22:35.153074Z"
    },
    "papermill": {
     "duration": 0.166163,
     "end_time": "2021-09-15T21:41:06.460957",
     "exception": false,
     "start_time": "2021-09-15T21:41:06.294794",
     "status": "completed"
    },
    "tags": [],
    "pycharm": {
     "name": "#%%\n"
    }
   },
   "outputs": [],
   "source": [
    "##missing values\n",
    "dt.math.isna(df).sum()"
   ]
  },
  {
   "cell_type": "markdown",
   "id": "0f400ead",
   "metadata": {
    "papermill": {
     "duration": 0.144618,
     "end_time": "2021-09-15T21:41:06.752192",
     "exception": false,
     "start_time": "2021-09-15T21:41:06.607574",
     "status": "completed"
    },
    "tags": [],
    "pycharm": {
     "name": "#%% md\n"
    }
   },
   "source": [
    "We only have 11 missing values in the TotalCharges column. "
   ]
  },
  {
   "cell_type": "code",
   "execution_count": null,
   "id": "de3f2f4c",
   "metadata": {
    "execution": {
     "iopub.execute_input": "2021-09-15T21:41:07.055338Z",
     "iopub.status.busy": "2021-09-15T21:41:07.054608Z",
     "iopub.status.idle": "2021-09-15T21:41:07.056462Z",
     "shell.execute_reply": "2021-09-15T21:41:07.056962Z",
     "shell.execute_reply.started": "2021-09-15T21:22:35.179501Z"
    },
    "papermill": {
     "duration": 0.158782,
     "end_time": "2021-09-15T21:41:07.057169",
     "exception": false,
     "start_time": "2021-09-15T21:41:06.898387",
     "status": "completed"
    },
    "tags": [],
    "pycharm": {
     "name": "#%%\n"
    }
   },
   "outputs": [],
   "source": [
    "##Delete missing rows\n",
    "df = df[dt.rowall(dt.f[:] != None), :]"
   ]
  },
  {
   "cell_type": "code",
   "execution_count": null,
   "id": "0a0f0c5a",
   "metadata": {
    "execution": {
     "iopub.execute_input": "2021-09-15T21:41:07.358548Z",
     "iopub.status.busy": "2021-09-15T21:41:07.357755Z",
     "iopub.status.idle": "2021-09-15T21:41:07.360532Z",
     "shell.execute_reply": "2021-09-15T21:41:07.359971Z",
     "shell.execute_reply.started": "2021-09-15T21:22:35.201607Z"
    },
    "papermill": {
     "duration": 0.15237,
     "end_time": "2021-09-15T21:41:07.360678",
     "exception": false,
     "start_time": "2021-09-15T21:41:07.208308",
     "status": "completed"
    },
    "tags": [],
    "pycharm": {
     "name": "#%%\n"
    }
   },
   "outputs": [],
   "source": [
    "#Delete customerID\n",
    "del df[:, \"customerID\"]"
   ]
  },
  {
   "cell_type": "code",
   "execution_count": null,
   "id": "5c3c7d46",
   "metadata": {
    "execution": {
     "iopub.execute_input": "2021-09-15T21:41:07.656518Z",
     "iopub.status.busy": "2021-09-15T21:41:07.655894Z",
     "iopub.status.idle": "2021-09-15T21:41:07.661312Z",
     "shell.execute_reply": "2021-09-15T21:41:07.660853Z",
     "shell.execute_reply.started": "2021-09-15T21:22:35.211787Z"
    },
    "papermill": {
     "duration": 0.154775,
     "end_time": "2021-09-15T21:41:07.661439",
     "exception": false,
     "start_time": "2021-09-15T21:41:07.506664",
     "status": "completed"
    },
    "tags": [],
    "pycharm": {
     "name": "#%%\n"
    }
   },
   "outputs": [],
   "source": [
    "df.head()"
   ]
  },
  {
   "cell_type": "code",
   "execution_count": null,
   "id": "768805f5",
   "metadata": {
    "execution": {
     "iopub.execute_input": "2021-09-15T21:41:07.958502Z",
     "iopub.status.busy": "2021-09-15T21:41:07.957645Z",
     "iopub.status.idle": "2021-09-15T21:41:08.057360Z",
     "shell.execute_reply": "2021-09-15T21:41:08.056694Z",
     "shell.execute_reply.started": "2021-09-15T21:22:35.224248Z"
    },
    "papermill": {
     "duration": 0.250325,
     "end_time": "2021-09-15T21:41:08.057525",
     "exception": false,
     "start_time": "2021-09-15T21:41:07.807200",
     "status": "completed"
    },
    "tags": [],
    "pycharm": {
     "name": "#%%\n"
    }
   },
   "outputs": [],
   "source": [
    "#Enconde Churn\n",
    "from sklearn.preprocessing import LabelEncoder\n",
    "le = LabelEncoder()\n",
    "df[:, 'Churn'] = dt.Frame(le.fit_transform(np.ravel(df[:, 'Churn'])))"
   ]
  },
  {
   "cell_type": "code",
   "execution_count": null,
   "id": "515f634e",
   "metadata": {
    "execution": {
     "iopub.execute_input": "2021-09-15T21:41:08.358208Z",
     "iopub.status.busy": "2021-09-15T21:41:08.357548Z",
     "iopub.status.idle": "2021-09-15T21:41:08.361779Z",
     "shell.execute_reply": "2021-09-15T21:41:08.362338Z",
     "shell.execute_reply.started": "2021-09-15T21:22:35.350513Z"
    },
    "papermill": {
     "duration": 0.15616,
     "end_time": "2021-09-15T21:41:08.362526",
     "exception": false,
     "start_time": "2021-09-15T21:41:08.206366",
     "status": "completed"
    },
    "tags": [],
    "pycharm": {
     "name": "#%%\n"
    }
   },
   "outputs": [],
   "source": [
    "# Function for OHE\n",
    "def ohe_columns(columns,df):\n",
    "    df_work = df.copy()\n",
    "    for column in columns:\n",
    "        df_ohe = dt.str.split_into_nhot(df_work[column])\n",
    "        df_ohe.names = [f'{column}_{col}' for col in df_ohe.names]\n",
    "        df_work.cbind(df_ohe)\n",
    "    return df_work"
   ]
  },
  {
   "cell_type": "code",
   "execution_count": null,
   "id": "ea490d2e",
   "metadata": {
    "execution": {
     "iopub.execute_input": "2021-09-15T21:41:08.662722Z",
     "iopub.status.busy": "2021-09-15T21:41:08.662196Z",
     "iopub.status.idle": "2021-09-15T21:41:08.664443Z",
     "shell.execute_reply": "2021-09-15T21:41:08.663884Z",
     "shell.execute_reply.started": "2021-09-15T21:22:35.359358Z"
    },
    "papermill": {
     "duration": 0.15313,
     "end_time": "2021-09-15T21:41:08.664572",
     "exception": false,
     "start_time": "2021-09-15T21:41:08.511442",
     "status": "completed"
    },
    "tags": [],
    "pycharm": {
     "name": "#%%\n"
    }
   },
   "outputs": [],
   "source": [
    "# Select categorical columns\n",
    "categorical_columns = df[:, str].names"
   ]
  },
  {
   "cell_type": "code",
   "execution_count": null,
   "id": "66a5a384",
   "metadata": {
    "execution": {
     "iopub.execute_input": "2021-09-15T21:41:08.964093Z",
     "iopub.status.busy": "2021-09-15T21:41:08.963221Z",
     "iopub.status.idle": "2021-09-15T21:41:09.019500Z",
     "shell.execute_reply": "2021-09-15T21:41:09.019967Z",
     "shell.execute_reply.started": "2021-09-15T21:22:35.371642Z"
    },
    "papermill": {
     "duration": 0.206717,
     "end_time": "2021-09-15T21:41:09.020163",
     "exception": false,
     "start_time": "2021-09-15T21:41:08.813446",
     "status": "completed"
    },
    "tags": [],
    "pycharm": {
     "name": "#%%\n"
    }
   },
   "outputs": [],
   "source": [
    "# Get final df after OHE\n",
    "df_final = ohe_columns(categorical_columns,df)"
   ]
  },
  {
   "cell_type": "code",
   "execution_count": null,
   "id": "e41a3372",
   "metadata": {
    "execution": {
     "iopub.execute_input": "2021-09-15T21:41:09.324943Z",
     "iopub.status.busy": "2021-09-15T21:41:09.324162Z",
     "iopub.status.idle": "2021-09-15T21:41:09.326734Z",
     "shell.execute_reply": "2021-09-15T21:41:09.326243Z",
     "shell.execute_reply.started": "2021-09-15T21:22:35.441143Z"
    },
    "papermill": {
     "duration": 0.153485,
     "end_time": "2021-09-15T21:41:09.326879",
     "exception": false,
     "start_time": "2021-09-15T21:41:09.173394",
     "status": "completed"
    },
    "tags": [],
    "pycharm": {
     "name": "#%%\n"
    }
   },
   "outputs": [],
   "source": [
    "# Delete original columns\n",
    "del df_final[:, categorical_columns]"
   ]
  },
  {
   "cell_type": "code",
   "execution_count": null,
   "id": "f63b4621",
   "metadata": {
    "execution": {
     "iopub.execute_input": "2021-09-15T21:41:09.623508Z",
     "iopub.status.busy": "2021-09-15T21:41:09.622729Z",
     "iopub.status.idle": "2021-09-15T21:41:09.625808Z",
     "shell.execute_reply": "2021-09-15T21:41:09.626266Z",
     "shell.execute_reply.started": "2021-09-15T21:22:35.451454Z"
    },
    "papermill": {
     "duration": 0.153647,
     "end_time": "2021-09-15T21:41:09.626422",
     "exception": false,
     "start_time": "2021-09-15T21:41:09.472775",
     "status": "completed"
    },
    "tags": [],
    "pycharm": {
     "name": "#%%\n"
    }
   },
   "outputs": [],
   "source": [
    "df_final.head()"
   ]
  },
  {
   "cell_type": "code",
   "execution_count": null,
   "outputs": [],
   "source": [
    "df_final.to_csv(\"../data/churn_clean.csv\")"
   ],
   "metadata": {
    "collapsed": false,
    "pycharm": {
     "name": "#%%\n"
    }
   }
  },
  {
   "cell_type": "markdown",
   "id": "1e25b309",
   "metadata": {
    "papermill": {
     "duration": 0.14611,
     "end_time": "2021-09-15T21:41:09.917557",
     "exception": false,
     "start_time": "2021-09-15T21:41:09.771447",
     "status": "completed"
    },
    "tags": [],
    "pycharm": {
     "name": "#%% md\n"
    }
   },
   "source": [
    "## Modelado"
   ]
  },
  {
   "cell_type": "markdown",
   "id": "44f6992c",
   "metadata": {
    "papermill": {
     "duration": 0.148217,
     "end_time": "2021-09-15T21:41:10.212911",
     "exception": false,
     "start_time": "2021-09-15T21:41:10.064694",
     "status": "completed"
    },
    "tags": [],
    "pycharm": {
     "name": "#%% md\n"
    }
   },
   "source": [
    "### H2O"
   ]
  },
  {
   "cell_type": "code",
   "execution_count": null,
   "outputs": [],
   "source": [
    "!pip install -f http://h2o-release.s3.amazonaws.com/h2o/latest_stable_Py.html h2o --user"
   ],
   "metadata": {
    "collapsed": false,
    "pycharm": {
     "name": "#%%\n"
    }
   }
  },
  {
   "cell_type": "code",
   "execution_count": null,
   "id": "0345508c",
   "metadata": {
    "execution": {
     "iopub.execute_input": "2021-09-15T21:41:10.514069Z",
     "iopub.status.busy": "2021-09-15T21:41:10.513261Z",
     "iopub.status.idle": "2021-09-15T21:41:10.606844Z",
     "shell.execute_reply": "2021-09-15T21:41:10.607951Z",
     "shell.execute_reply.started": "2021-09-15T21:22:35.464609Z"
    },
    "papermill": {
     "duration": 0.247005,
     "end_time": "2021-09-15T21:41:10.608212",
     "exception": false,
     "start_time": "2021-09-15T21:41:10.361207",
     "status": "completed"
    },
    "tags": [],
    "pycharm": {
     "name": "#%%\n"
    }
   },
   "outputs": [],
   "source": [
    "import h2o"
   ]
  },
  {
   "cell_type": "code",
   "execution_count": null,
   "id": "aceb0337",
   "metadata": {
    "execution": {
     "iopub.execute_input": "2021-09-15T21:41:10.956621Z",
     "iopub.status.busy": "2021-09-15T21:41:10.955716Z",
     "iopub.status.idle": "2021-09-15T21:41:17.600684Z",
     "shell.execute_reply": "2021-09-15T21:41:17.601435Z",
     "shell.execute_reply.started": "2021-09-15T21:22:35.590376Z"
    },
    "papermill": {
     "duration": 6.81171,
     "end_time": "2021-09-15T21:41:17.601659",
     "exception": false,
     "start_time": "2021-09-15T21:41:10.789949",
     "status": "completed"
    },
    "tags": [],
    "pycharm": {
     "name": "#%%\n"
    }
   },
   "outputs": [],
   "source": [
    "h2o.init()"
   ]
  },
  {
   "cell_type": "code",
   "execution_count": null,
   "id": "e81f0978",
   "metadata": {
    "execution": {
     "iopub.execute_input": "2021-09-15T21:41:18.044584Z",
     "iopub.status.busy": "2021-09-15T21:41:18.043858Z",
     "iopub.status.idle": "2021-09-15T21:41:20.199727Z",
     "shell.execute_reply": "2021-09-15T21:41:20.200957Z",
     "shell.execute_reply.started": "2021-09-15T21:22:42.972918Z"
    },
    "papermill": {
     "duration": 2.355821,
     "end_time": "2021-09-15T21:41:20.201226",
     "exception": false,
     "start_time": "2021-09-15T21:41:17.845405",
     "status": "completed"
    },
    "tags": [],
    "pycharm": {
     "name": "#%%\n"
    }
   },
   "outputs": [],
   "source": [
    "dataset = h2o.H2OFrame(df_final.to_pandas())"
   ]
  },
  {
   "cell_type": "code",
   "execution_count": null,
   "id": "e7aa7b31",
   "metadata": {
    "execution": {
     "iopub.execute_input": "2021-09-15T21:41:20.620865Z",
     "iopub.status.busy": "2021-09-15T21:41:20.619745Z",
     "iopub.status.idle": "2021-09-15T21:41:20.706299Z",
     "shell.execute_reply": "2021-09-15T21:41:20.706698Z",
     "shell.execute_reply.started": "2021-09-15T21:22:45.458386Z"
    },
    "papermill": {
     "duration": 0.277033,
     "end_time": "2021-09-15T21:41:20.706861",
     "exception": false,
     "start_time": "2021-09-15T21:41:20.429828",
     "status": "completed"
    },
    "tags": [],
    "pycharm": {
     "name": "#%%\n"
    }
   },
   "outputs": [],
   "source": [
    "dataset.head()"
   ]
  },
  {
   "cell_type": "markdown",
   "id": "bec75119",
   "metadata": {
    "papermill": {
     "duration": 0.276025,
     "end_time": "2021-09-15T21:43:44.089689",
     "exception": false,
     "start_time": "2021-09-15T21:43:43.813664",
     "status": "completed"
    },
    "tags": [],
    "pycharm": {
     "name": "#%% md\n"
    }
   },
   "source": [
    "### 2. GBM with H2O"
   ]
  },
  {
   "cell_type": "code",
   "execution_count": null,
   "id": "3481c7a0",
   "metadata": {
    "execution": {
     "iopub.execute_input": "2021-09-15T21:43:44.646504Z",
     "iopub.status.busy": "2021-09-15T21:43:44.645574Z",
     "iopub.status.idle": "2021-09-15T21:43:44.648225Z",
     "shell.execute_reply": "2021-09-15T21:43:44.647766Z",
     "shell.execute_reply.started": "2021-09-15T21:25:04.416844Z"
    },
    "papermill": {
     "duration": 0.282901,
     "end_time": "2021-09-15T21:43:44.648357",
     "exception": false,
     "start_time": "2021-09-15T21:43:44.365456",
     "status": "completed"
    },
    "tags": [],
    "pycharm": {
     "name": "#%%\n"
    }
   },
   "outputs": [],
   "source": [
    "from h2o.estimators import *\n",
    "from h2o.grid import *"
   ]
  },
  {
   "cell_type": "code",
   "execution_count": null,
   "id": "e30e71df",
   "metadata": {
    "execution": {
     "iopub.execute_input": "2021-09-15T21:43:45.204945Z",
     "iopub.status.busy": "2021-09-15T21:43:45.203980Z",
     "iopub.status.idle": "2021-09-15T21:43:45.627072Z",
     "shell.execute_reply": "2021-09-15T21:43:45.627892Z",
     "shell.execute_reply.started": "2021-09-15T21:25:04.422145Z"
    },
    "papermill": {
     "duration": 0.703046,
     "end_time": "2021-09-15T21:43:45.628166",
     "exception": false,
     "start_time": "2021-09-15T21:43:44.925120",
     "status": "completed"
    },
    "tags": [],
    "pycharm": {
     "name": "#%%\n"
    }
   },
   "outputs": [],
   "source": [
    "train, valid, test = dataset.split_frame([0.7, 0.15], seed=42)"
   ]
  },
  {
   "cell_type": "code",
   "execution_count": null,
   "id": "70541067",
   "metadata": {
    "execution": {
     "iopub.execute_input": "2021-09-15T21:43:46.194482Z",
     "iopub.status.busy": "2021-09-15T21:43:46.193750Z",
     "iopub.status.idle": "2021-09-15T21:43:46.196515Z",
     "shell.execute_reply": "2021-09-15T21:43:46.196078Z",
     "shell.execute_reply.started": "2021-09-15T21:25:04.922570Z"
    },
    "papermill": {
     "duration": 0.28512,
     "end_time": "2021-09-15T21:43:46.196647",
     "exception": false,
     "start_time": "2021-09-15T21:43:45.911527",
     "status": "completed"
    },
    "tags": [],
    "pycharm": {
     "name": "#%%\n"
    }
   },
   "outputs": [],
   "source": [
    "# Identify predictors and response\n",
    "x = train.columns\n",
    "y = \"Churn\"\n",
    "x.remove(y)\n",
    "\n",
    "# For binary classification, response should be a factor\n",
    "train[y] = train[y].asfactor()\n",
    "test[y] = test[y].asfactor()\n",
    "valid[y] = valid[y].asfactor()"
   ]
  },
  {
   "cell_type": "code",
   "execution_count": null,
   "id": "a6b080af",
   "metadata": {
    "execution": {
     "iopub.execute_input": "2021-09-15T21:43:46.858505Z",
     "iopub.status.busy": "2021-09-15T21:43:46.790133Z",
     "iopub.status.idle": "2021-09-15T21:43:48.851524Z",
     "shell.execute_reply": "2021-09-15T21:43:48.851943Z",
     "shell.execute_reply.started": "2021-09-15T21:25:04.932347Z"
    },
    "papermill": {
     "duration": 2.380874,
     "end_time": "2021-09-15T21:43:48.852121",
     "exception": false,
     "start_time": "2021-09-15T21:43:46.471247",
     "status": "completed"
    },
    "tags": [],
    "pycharm": {
     "name": "#%%\n"
    }
   },
   "outputs": [],
   "source": [
    "gbm = H2OGradientBoostingEstimator(seed = 42, \n",
    "                                   model_id = 'default_gbm')\n",
    "\n",
    "%time gbm.train(x = x, y = y, training_frame = train, validation_frame = valid)"
   ]
  },
  {
   "cell_type": "code",
   "execution_count": null,
   "id": "15ff3a3a",
   "metadata": {
    "execution": {
     "iopub.execute_input": "2021-09-15T21:43:49.454711Z",
     "iopub.status.busy": "2021-09-15T21:43:49.454114Z",
     "iopub.status.idle": "2021-09-15T21:43:49.676726Z",
     "shell.execute_reply": "2021-09-15T21:43:49.676271Z",
     "shell.execute_reply.started": "2021-09-15T21:25:07.475675Z"
    },
    "papermill": {
     "duration": 0.538744,
     "end_time": "2021-09-15T21:43:49.676854",
     "exception": false,
     "start_time": "2021-09-15T21:43:49.138110",
     "status": "completed"
    },
    "tags": [],
    "pycharm": {
     "name": "#%%\n"
    }
   },
   "outputs": [],
   "source": [
    "gbm"
   ]
  },
  {
   "cell_type": "code",
   "execution_count": null,
   "id": "80a0f542",
   "metadata": {
    "execution": {
     "iopub.execute_input": "2021-09-15T21:43:50.315159Z",
     "iopub.status.busy": "2021-09-15T21:43:50.314468Z",
     "iopub.status.idle": "2021-09-15T21:43:50.540741Z",
     "shell.execute_reply": "2021-09-15T21:43:50.540276Z",
     "shell.execute_reply.started": "2021-09-15T21:25:07.715730Z"
    },
    "papermill": {
     "duration": 0.547538,
     "end_time": "2021-09-15T21:43:50.540881",
     "exception": false,
     "start_time": "2021-09-15T21:43:49.993343",
     "status": "completed"
    },
    "tags": [],
    "pycharm": {
     "name": "#%%\n"
    }
   },
   "outputs": [],
   "source": [
    "gbm.predict(valid)"
   ]
  },
  {
   "cell_type": "code",
   "execution_count": null,
   "id": "13938dbb",
   "metadata": {
    "execution": {
     "iopub.execute_input": "2021-09-15T21:43:51.347490Z",
     "iopub.status.busy": "2021-09-15T21:43:51.346559Z",
     "iopub.status.idle": "2021-09-15T21:43:51.392674Z",
     "shell.execute_reply": "2021-09-15T21:43:51.392129Z",
     "shell.execute_reply.started": "2021-09-15T21:25:07.952651Z"
    },
    "papermill": {
     "duration": 0.475758,
     "end_time": "2021-09-15T21:43:51.392807",
     "exception": false,
     "start_time": "2021-09-15T21:43:50.917049",
     "status": "completed"
    },
    "tags": [],
    "pycharm": {
     "name": "#%%\n"
    }
   },
   "outputs": [],
   "source": [
    "default_gbm_per = gbm.model_performance(test)"
   ]
  },
  {
   "cell_type": "code",
   "execution_count": null,
   "id": "5f842cfb",
   "metadata": {
    "execution": {
     "iopub.execute_input": "2021-09-15T21:43:52.026493Z",
     "iopub.status.busy": "2021-09-15T21:43:52.025639Z",
     "iopub.status.idle": "2021-09-15T21:43:52.099545Z",
     "shell.execute_reply": "2021-09-15T21:43:52.100044Z",
     "shell.execute_reply.started": "2021-09-15T21:25:08.140667Z"
    },
    "papermill": {
     "duration": 0.393648,
     "end_time": "2021-09-15T21:43:52.100205",
     "exception": false,
     "start_time": "2021-09-15T21:43:51.706557",
     "status": "completed"
    },
    "tags": [],
    "pycharm": {
     "name": "#%%\n"
    }
   },
   "outputs": [],
   "source": [
    "default_gbm_per"
   ]
  },
  {
   "cell_type": "code",
   "execution_count": null,
   "id": "0c919c00",
   "metadata": {
    "execution": {
     "iopub.execute_input": "2021-09-15T21:43:52.779396Z",
     "iopub.status.busy": "2021-09-15T21:43:52.778401Z",
     "iopub.status.idle": "2021-09-15T21:45:23.675969Z",
     "shell.execute_reply": "2021-09-15T21:45:23.676430Z",
     "shell.execute_reply.started": "2021-09-15T21:25:08.224078Z"
    },
    "papermill": {
     "duration": 91.245183,
     "end_time": "2021-09-15T21:45:23.676648",
     "exception": false,
     "start_time": "2021-09-15T21:43:52.431465",
     "status": "completed"
    },
    "tags": [],
    "pycharm": {
     "name": "#%%\n"
    }
   },
   "outputs": [],
   "source": [
    "# Hyperparameter estimation\n",
    "\n",
    "gbm = H2OGradientBoostingEstimator(ntrees = 500,\n",
    "                                   learn_rate = 0.05,\n",
    "                                   seed = 42,\n",
    "                                   model_id = 'grid_gbm')\n",
    "\n",
    "hyper_params_tune = {'max_depth' : [4, 5, 6, 7, 8],\n",
    "                     'sample_rate': [x/100. for x in range(20,101)],\n",
    "                     'col_sample_rate' : [x/100. for x in range(20,101)],\n",
    "                     'col_sample_rate_per_tree': [x/100. for x in range(20,101)],\n",
    "                     'col_sample_rate_change_per_level': [x/100. for x in range(90,111)]}\n",
    "\n",
    "search_criteria_tune = {'strategy': \"RandomDiscrete\",\n",
    "                        'max_runtime_secs': 90,  \n",
    "                        'max_models': 100,  ## build no more than 100 models\n",
    "                        'seed' : 42}\n",
    "\n",
    "random_grid = H2OGridSearch(model = gbm, hyper_params = hyper_params_tune,\n",
    "                            grid_id = 'random_grid',\n",
    "                            search_criteria = search_criteria_tune)\n",
    "\n",
    "%time random_grid.train(x = x, y = y, training_frame = train, validation_frame = valid)"
   ]
  },
  {
   "cell_type": "code",
   "execution_count": null,
   "id": "1f1b8656",
   "metadata": {
    "execution": {
     "iopub.execute_input": "2021-09-15T21:45:24.359775Z",
     "iopub.status.busy": "2021-09-15T21:45:24.359203Z",
     "iopub.status.idle": "2021-09-15T21:45:25.117370Z",
     "shell.execute_reply": "2021-09-15T21:45:25.117813Z",
     "shell.execute_reply.started": "2021-09-15T21:26:39.296004Z"
    },
    "papermill": {
     "duration": 1.100166,
     "end_time": "2021-09-15T21:45:25.117984",
     "exception": false,
     "start_time": "2021-09-15T21:45:24.017818",
     "status": "completed"
    },
    "tags": [],
    "pycharm": {
     "name": "#%%\n"
    }
   },
   "outputs": [],
   "source": [
    "sorted_random_search = random_grid.get_grid(sort_by = 'auc',decreasing = True)\n",
    "sorted_random_search.sorted_metric_table()"
   ]
  },
  {
   "cell_type": "code",
   "execution_count": null,
   "id": "1934ab11",
   "metadata": {
    "execution": {
     "iopub.execute_input": "2021-09-15T21:45:25.789893Z",
     "iopub.status.busy": "2021-09-15T21:45:25.789356Z",
     "iopub.status.idle": "2021-09-15T21:45:25.792566Z",
     "shell.execute_reply": "2021-09-15T21:45:25.793009Z",
     "shell.execute_reply.started": "2021-09-15T21:26:40.061262Z"
    },
    "papermill": {
     "duration": 0.33924,
     "end_time": "2021-09-15T21:45:25.793189",
     "exception": false,
     "start_time": "2021-09-15T21:45:25.453949",
     "status": "completed"
    },
    "tags": [],
    "pycharm": {
     "name": "#%%\n"
    }
   },
   "outputs": [],
   "source": [
    "tuned_gbm = sorted_random_search.models[0]"
   ]
  },
  {
   "cell_type": "code",
   "execution_count": null,
   "id": "cec4175f",
   "metadata": {
    "execution": {
     "iopub.execute_input": "2021-09-15T21:45:26.465215Z",
     "iopub.status.busy": "2021-09-15T21:45:26.464634Z",
     "iopub.status.idle": "2021-09-15T21:45:26.517457Z",
     "shell.execute_reply": "2021-09-15T21:45:26.517869Z",
     "shell.execute_reply.started": "2021-09-15T21:26:40.066839Z"
    },
    "papermill": {
     "duration": 0.389869,
     "end_time": "2021-09-15T21:45:26.518052",
     "exception": false,
     "start_time": "2021-09-15T21:45:26.128183",
     "status": "completed"
    },
    "tags": [],
    "pycharm": {
     "name": "#%%\n"
    }
   },
   "outputs": [],
   "source": [
    "tuned_gbm_per = tuned_gbm.model_performance(test)\n",
    "print(tuned_gbm_per.auc())"
   ]
  },
  {
   "cell_type": "code",
   "execution_count": null,
   "id": "7b2ce206",
   "metadata": {
    "execution": {
     "iopub.execute_input": "2021-09-15T21:45:27.297269Z",
     "iopub.status.busy": "2021-09-15T21:45:27.296554Z",
     "iopub.status.idle": "2021-09-15T21:45:43.490269Z",
     "shell.execute_reply": "2021-09-15T21:45:43.489692Z",
     "shell.execute_reply.started": "2021-09-15T21:26:40.143111Z"
    },
    "papermill": {
     "duration": 16.631558,
     "end_time": "2021-09-15T21:45:43.490399",
     "exception": false,
     "start_time": "2021-09-15T21:45:26.858841",
     "status": "completed"
    },
    "tags": [],
    "pycharm": {
     "name": "#%%\n"
    }
   },
   "outputs": [],
   "source": [
    "tuned_gbm.explain(test)"
   ]
  },
  {
   "cell_type": "code",
   "execution_count": null,
   "id": "52d74464",
   "metadata": {
    "execution": {
     "iopub.execute_input": "2021-09-15T21:45:44.325424Z",
     "iopub.status.busy": "2021-09-15T21:45:44.324571Z",
     "iopub.status.idle": "2021-09-15T21:45:58.344960Z",
     "shell.execute_reply": "2021-09-15T21:45:58.345423Z",
     "shell.execute_reply.started": "2021-09-15T21:26:57.171333Z"
    },
    "papermill": {
     "duration": 14.479605,
     "end_time": "2021-09-15T21:45:58.345608",
     "exception": false,
     "start_time": "2021-09-15T21:45:43.866003",
     "status": "completed"
    },
    "scrolled": true,
    "tags": [],
    "pycharm": {
     "name": "#%%\n"
    }
   },
   "outputs": [],
   "source": [
    "tuned_gbm.explain_row(test, row_index=0)"
   ]
  }
 ],
 "metadata": {
  "kernelspec": {
   "display_name": "Python 3",
   "language": "python",
   "name": "python3"
  },
  "language_info": {
   "codemirror_mode": {
    "name": "ipython",
    "version": 3
   },
   "file_extension": ".py",
   "mimetype": "text/x-python",
   "name": "python",
   "nbconvert_exporter": "python",
   "pygments_lexer": "ipython3",
   "version": "3.7.10"
  },
  "papermill": {
   "default_parameters": {},
   "duration": 321.053529,
   "end_time": "2021-09-15T21:46:02.886726",
   "environment_variables": {},
   "exception": null,
   "input_path": "__notebook__.ipynb",
   "output_path": "__notebook__.ipynb",
   "parameters": {},
   "start_time": "2021-09-15T21:40:41.833197",
   "version": "2.3.3"
  }
 },
 "nbformat": 4,
 "nbformat_minor": 5
}